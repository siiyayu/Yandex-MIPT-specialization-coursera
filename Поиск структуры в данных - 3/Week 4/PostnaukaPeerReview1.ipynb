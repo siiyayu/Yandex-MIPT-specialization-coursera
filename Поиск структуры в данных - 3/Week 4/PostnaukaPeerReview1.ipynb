{
 "cells": [
  {
   "cell_type": "markdown",
   "metadata": {},
   "source": [
    "# Тематическая модель [Постнауки](http://postnauka.ru)\n",
    "## Peer Review (optional)"
   ]
  },
  {
   "cell_type": "markdown",
   "metadata": {},
   "source": [
    "В этом задании мы применим аппарат тематического моделирования к коллекции текстовых записей видеолекций, скачанных с сайта Постнаука. Мы будем визуализировать модель и создавать прототип тематического навигатора по коллекции. В коллекции 1728 документов, размер словаря - 38467 слов. Слова лемматизированы, то есть приведены к начальной форме, с помощью программы [mystem](https://tech.yandex.ru/mystem/), коллекция сохранена в [формате vowpal wabbit](http://docs.bigartm.org/en/latest/formats.html). В каждой строке до первой черты записана информация о документе (ссылка на страницу с лекцией), после первой черты следует описание документа. Используются две модальности - текстовая (\"text\") и модальность авторов (\"author\"); у каждого документа один автор."
   ]
  },
  {
   "cell_type": "markdown",
   "metadata": {},
   "source": [
    "Для выполнения задания понадобится библиотека [BigARTM](http://docs.bigartm.org). В демонстрации показан пример использования библиотеки версии 0.7.4, на сайте предлагается скачивать версию 0.8.0. В новой версии изменены принципы работы со словарями: они вынесены в отдельный класс (пример в [Release Notes](http://docs.bigartm.org/en/stable/release_notes/python.html)). Строить модель и извлекать ее параметры нужно так же, как показано в демонстрации. Вы можете использовать [предыдущий релиз](http://bigartm.readthedocs.io/en/v0.7.6/download.html) или [новый релиз](http://docs.bigartm.org/en/latest/download.html) на ваше усмотрение.\n",
    "\n",
    "Спецификации всех функций вы можете смотреть на странице [Python API](http://bigartm.readthedocs.io/en/stable/python_interface.html)."
   ]
  },
  {
   "cell_type": "code",
   "execution_count": 152,
   "metadata": {},
   "outputs": [],
   "source": [
    "import artm"
   ]
  },
  {
   "cell_type": "code",
   "execution_count": 153,
   "metadata": {},
   "outputs": [],
   "source": [
    "from matplotlib import pyplot as plt\n",
    "import seaborn as sbn\n",
    "%matplotlib inline\n",
    "sbn.set_style(\"whitegrid\", {'axes.grid' : False})"
   ]
  },
  {
   "cell_type": "code",
   "execution_count": 154,
   "metadata": {},
   "outputs": [],
   "source": [
    "import numpy as np\n",
    "import pandas as pd"
   ]
  },
  {
   "cell_type": "markdown",
   "metadata": {},
   "source": [
    "##### Считывание данных"
   ]
  },
  {
   "cell_type": "markdown",
   "metadata": {},
   "source": [
    "Создайте объект класса artm.BatchVectorizer, который будет ссылаться на директорию с пакетами данных (батчами). Чтобы библиотека могла преобразовать текстовый файл в батчи, создайте пустую директорию и укажите ее название в параметре target_folder. Размер батча для небольших коллекций (как наша) не важен, вы можете указать любой."
   ]
  },
  {
   "cell_type": "code",
   "execution_count": 155,
   "metadata": {},
   "outputs": [],
   "source": [
    "batch_vectorizer = artm.BatchVectorizer(data_path='lectures.txt', data_format=\"vowpal_wabbit\", target_folder=\"lectures_batches\", \n",
    "                                       batch_size=100)\n"
   ]
  },
  {
   "cell_type": "markdown",
   "metadata": {},
   "source": [
    "##### Инициализация модели"
   ]
  },
  {
   "cell_type": "markdown",
   "metadata": {},
   "source": [
    "Создайте объект класса artm.Model с 30 темами, именами тем, указанными ниже и единичными весами обеих модальностей. Количество тем выбрано не очень большим, чтобы вам было удобнее работать с темами. На этой коллекции можно строить и большее число тем, тогда они будут более узко специализированы."
   ]
  },
  {
   "cell_type": "code",
   "execution_count": 156,
   "metadata": {},
   "outputs": [],
   "source": [
    "T = 30   # количество тем\n",
    "topic_names=[\"sbj\"+str(i) for i in range(T-1)]+[\"bcg\"]\n",
    "model_artm = artm.ARTM(num_topics=T, topic_names=topic_names, class_ids={\"text\":1, 'author':1}, num_document_passes=1, seed=-1,\n",
    "                      cache_theta=True)\n",
    "# Ваш код\n"
   ]
  },
  {
   "cell_type": "markdown",
   "metadata": {},
   "source": [
    "Мы будем строить 29 предметных тем и одну фоновую. \n",
    "\n",
    "Соберите словарь с помощью метода gather_dictionary и инициализируйте модель, указав random_seed=1. Обязательно укажите свое название словаря, оно понадобится при добавлении регуляризаторов."
   ]
  },
  {
   "cell_type": "code",
   "execution_count": 157,
   "metadata": {},
   "outputs": [],
   "source": [
    "random_seed=1\n",
    "dictionary = artm.Dictionary('dictionary')\n",
    "dictionary.gather(batch_vectorizer.data_path)\n"
   ]
  },
  {
   "cell_type": "markdown",
   "metadata": {},
   "source": [
    "##### Добавление score"
   ]
  },
  {
   "cell_type": "markdown",
   "metadata": {},
   "source": [
    "Создайте два измерителя качества artm.TopTokensScore - по одному для каждой модальности; количество токенов 15. Названия для score придумайте самостоятельно."
   ]
  },
  {
   "cell_type": "code",
   "execution_count": 158,
   "metadata": {},
   "outputs": [],
   "source": [
    "model_artm.scores.add(artm.TopTokensScore(name=\"top_words_text\", num_tokens=15, class_id=\"text\"))\n",
    "model_artm.scores.add(artm.TopTokensScore(name=\"top_words_author\", num_tokens=15, class_id=\"author\"))"
   ]
  },
  {
   "cell_type": "markdown",
   "metadata": {},
   "source": [
    "##### Построение модели"
   ]
  },
  {
   "cell_type": "markdown",
   "metadata": {},
   "source": [
    "Мы будем строить модель в два этапа: сначала добавим сглаживающий регуляризатор фоновой темы и настроим параметры модели, затем - добавим разреживающий регуляризатор предметрых тем и выполним еще несколько итераций. Так мы сможем получить наиболее чистые от фоновых слов предметные темы. Сглаживающий и разреживающий регуляризаторы задаются одним и тем же классом artm.SmoothSparsePhiRegularizer: если коэффициент tau положительный, то регуляризатор будет сглаживающий, если отрицательный - разреживающий.\n",
    "\n",
    "Если вы хотите подробнее разобраться, как выполняется регуляризация тематической модели в BigARTM, вы можете прочитать [статью](https://s3-eu-west-1.amazonaws.com/artm/voron-potap14artm-rus.pdf), раздел 4."
   ]
  },
  {
   "cell_type": "markdown",
   "metadata": {},
   "source": [
    "Добавьте сглаживающий регуляризатор с коэффициентом tau = 1e5, указав название своего словаря в dictionary, модальность текста в class_ids и тему \"bcg\" в topic_names."
   ]
  },
  {
   "cell_type": "code",
   "execution_count": 159,
   "metadata": {},
   "outputs": [],
   "source": [
    "model_artm.regularizers.add(artm.SmoothSparsePhiRegularizer(name='Smoothing', tau=1e5, topic_names='bcg', class_ids=['text'], \n",
    "                                                  dictionary=dictionary))\n"
   ]
  },
  {
   "cell_type": "markdown",
   "metadata": {},
   "source": [
    "Выполните 30 итераций по коллекции (num_collection_passes), количество внутренних итераций установите равным 1. Используйте метод fit_offline модели."
   ]
  },
  {
   "cell_type": "code",
   "execution_count": 160,
   "metadata": {},
   "outputs": [],
   "source": [
    "model_artm.initialize('dictionary')\n",
    "model_artm.fit_offline(batch_vectorizer=batch_vectorizer, num_collection_passes=30)\n"
   ]
  },
  {
   "cell_type": "markdown",
   "metadata": {},
   "source": [
    "Добавьте разреживающий регуляризатор с коэффициентом tau=-1e5, указав название своего словаря, модальность текста в class_ids и все темы \"sbjX\" в topic_names."
   ]
  },
  {
   "cell_type": "code",
   "execution_count": 161,
   "metadata": {},
   "outputs": [],
   "source": [
    "model_artm.regularizers.add(artm.SmoothSparsePhiRegularizer(name='Thin', tau=-1e5, topic_names=topic_names[:-1], \n",
    "                                                            class_ids=['text'], dictionary=dictionary))\n"
   ]
  },
  {
   "cell_type": "markdown",
   "metadata": {},
   "source": [
    "Выполните еще 15 проходов по коллекции."
   ]
  },
  {
   "cell_type": "code",
   "execution_count": 162,
   "metadata": {},
   "outputs": [],
   "source": [
    "model_artm.fit_offline(batch_vectorizer=batch_vectorizer, num_collection_passes=15)\n"
   ]
  },
  {
   "cell_type": "markdown",
   "metadata": {},
   "source": [
    "##### Интерпретация тем"
   ]
  },
  {
   "cell_type": "markdown",
   "metadata": {},
   "source": [
    "Используя созданные score, выведите топы слов и топы авторов в темах. Удобнее всего выводить топ слов каждой темы с новой строки, указывая название темы в начале строки, и аналогично с авторами."
   ]
  },
  {
   "cell_type": "code",
   "execution_count": 163,
   "metadata": {},
   "outputs": [
    {
     "name": "stdout",
     "output_type": "stream",
     "text": [
      "sbj0:  его власть александр писать историк имя великий римский знаменитый король церковь реформа средневековый над мысль \n",
      "sbj1:  там раз планета земля интересный находиться температура тело открывать маленький обнаруживать образовываться вокруг вода атмосфера \n",
      "sbj2:  система чтобы между создавать сложный общий направление простой движение ответ способность трудность переход сложно искусственный \n",
      "sbj3:  говорить сторона понятие связанный всегда отвечать лицо представление предмет отличаться концепция опыт меняться восприятие рассматривать \n",
      "sbj4:  должный вид появляться каждый вещь любой иной качество мой нельзя особый этап оценка никто очередь \n",
      "sbj5:  можно при получать структура материал использовать сделать достаточно свойство элемент огромный пора применение устройство сей \n",
      "sbj6:  книга научный написать выходить тема автор фильм массовый абсолютно документ герой брать обращать молодой театр \n",
      "sbj7:  сам социальный кто после общество принимать считать степень род социология собственно читать третий практика смерть \n",
      "sbj8:  какой наука новый рассказывать процесс область доктор высокий различный каков связь условие развиваться создание использоваться \n",
      "sbj9:  теория частица взаимодействие поле пространство состояние квантовый физика состоять эксперимент атом три описывать магнитный эффект \n",
      "sbj10:  год первый конечно россия война потом конец событие начинаться российский мировой робот особенно среди рука \n",
      "sbj11:  человек случай ребенок приводить помогать большинство рано подобный картина кровь взрослый полностью существо мать чувствовать \n",
      "sbj12:  мозг изменение механизм среда эволюция быстро нейрон растение ткань сигнал возраст изменяться формирование стадия орган \n",
      "sbj13:  существовать часть город кандидат место основной жить государство период древний изучение территория народ прежде культурный \n",
      "sbj14:  звезда галактика масса вещество свет черный энергия волна скорость вселенная размер примерно объект дыра излучение \n",
      "sbj15:  какой-то все чем просто информация что-то хотеть данные хороший пытаться внимание увидеть анализ думать компьютер \n",
      "sbj16:  они очень потому большой еще тоже довольно группа изучать хотя менее практически иногда смотреть тысяча \n",
      "sbj17:  политический право страна философия советский революция идея закон политика философский германия немецкий философ французский интерес \n",
      "sbj18:  например слово знать понимать текст значение вообще речь получаться посмотреть взять словарь скажем категория равный \n",
      "sbj19:  свой становиться жизнь ситуация действие ничто казаться собственный рамка школа вести понятно феномен общественный свобода \n",
      "sbj20:  вопрос важный современный технология сегодня оставаться сеть понимание проект важно сфера смочь городской будущее требовать \n",
      "sbj21:  или проблема либо память заболевание женщина соответственно семья выделять бывать пациент лечение медицина операция врач \n",
      "sbj22:  некоторый смысл форма число знание правило объект подход описание определение построить перевод дисциплина следовать познание \n",
      "sbj23:  задача модель функция решать сообщество схема параметр придумывать специалист матрица алгоритм эмоция математика вычислительный шаг \n",
      "sbj24:  век история культура мир исторический начало традиция эпоха литература христианский бог миф восток царь владимир \n",
      "sbj25:  язык русский называться особенность программа устраивать отдельный граница перед английский относиться позиция филологический лингвист носитель \n",
      "sbj26:  развитие определенный решение роль уровень поведение проводить играть предлагать экономический психология мышление однако влиять действовать \n",
      "sbj27:  клетка организм ген днк белок молекула биологический животное болезнь генетический живой геном молекулярный бактерия последовательность \n",
      "sbj28:  для являться метод работа количество точка принцип возможность ученый основа заниматься также образование университет обладать \n",
      "bcg:  быть что это который этот как мочь такой тот один весь другой если так она \n"
     ]
    }
   ],
   "source": [
    "for topic_name in model_artm.topic_names:\n",
    "    print (topic_name + ': ', end=' '),\n",
    "    tokens = model_artm.score_tracker[\"top_words_text\"].last_tokens\n",
    "    for word in tokens[topic_name]:    \n",
    "        print (word, end=' '),\n",
    "    print('')\n",
    "    \n"
   ]
  },
  {
   "cell_type": "code",
   "execution_count": 164,
   "metadata": {},
   "outputs": [
    {
     "name": "stdout",
     "output_type": "stream",
     "text": [
      "sbj0:  Александр_Марей Фёдор_Успенский Павел_Уваров Татьяна_Бобровникова Ольга_Вайнштейн Михаил_Бойцов Алексей_Юдин Игорь_Данилевский Раиса_Кирсанова Владимир_Кантор Елена_Браун Игорь_Курукин Елена_Уханова Екатерина_Болтунова Арчил_Балахванцев \n",
      "sbj1:  Елизавета_Бонч-Осмоловская Кирилл_Еськов Сергей_Попов Дмитрий_Титов Николай_Пименов Татьяна_Смоктунович Андрей_Иванцов Зоригто_Намсараев Светлана_Дедыш Александр_Марков Сергей_Наугольных Юлия_Краус Елизавета_Ривкина Наталья_Новикова Александр_Слободкин \n",
      "sbj2:  Александр_Поддьяков Дмитрий_Громов Михаил_Пантелеев Владимир_Мележик Варвара_Веденина Даниэль_Сельва Антон_Суворов Михаил_Фейгельман Виталий_Пальчиков Алексей_Котов Кирилл_Зыбин Кристофер_Уиншип Андрей_Шевельков Александра_Скрипченко Андрей_Чабовский \n",
      "sbj3:  Виталий_Куренной Сергей_Арутюнов Владимир_Миронов Максим_Кронгауз Алексей_Руткевич Николай_Плотников Павел_Степанцов Дмитрий_Куракин Дмитрий_Иванов Фёдор_Гиренок Татьяна_Котова Михаил_Маяцкий Ирина_Каспэ Андрей_Коротаев Григорий_Кабатянский \n",
      "sbj4:  Дмитрий_Дождев Евгений_Рогожин Сергей_Майоров Наталья_Смолянская Андрей_Кофман Виктор_Цетлин Марина_Бутовская Александр_Парфенов Александр_Войскунский Татьяна_Гусарова Мохамад_Кассаб Александр_Мукасьян Джу_Йонг_Ли Сергей_Зыков Мэтью_Басс \n",
      "sbj5:  Артем_Оганов Дмитрий_Паращук Валентин_Крапошин Дмитрий_Гольберг Владимир_Шалаев Евгений_Гудилин Шринивас_Шридхар Леонид_Григорьев Алексей_Хохлов Дмитрий_Клинов Владимир_Комлев Сергей_Никитов Павел_Плечов Сергей_Морозов Иван_Воробьев \n",
      "sbj6:  Александр_Павлов Павел_Руднев Ян_Левченко Ольга_Эдельман Мария_Неклюдова Игорь_Чубаров Мария_Майофис Анна_Рогожина Петр_Дружинин Алексей_Бартошевич Владимир_Кантор Наталья_Харламенкова Александра_Архипова Ирина_Савельева Дмитрий_Бак \n",
      "sbj7:  Виктор_Вахштайн Дмитрий_Рогозин Александр_Гофман Ольга_Артёмова Дмитрий_Бовыкин Елена_Вишленкова Алина_Бодрова Арсений_Хитров Руслан_Хестанов Ольга_Малинова Анна_Соколова Пол_Грегори Александр_Никифоров Ольга_Гулевич Галина_Зверева \n",
      "sbj8:  Валерий_Фокин Валентин_Ненайденко Александр_Беленький Пётр_Турчин Иван_Сорокин Руслан_Смелянский Александр_Апт Алексей_Малашенко Виктория_Битюкова Александр_Габибов Пётр_Образцов Олег_Мельник Дмитрий_Бак Анна_Соколова Наталья_Спасская \n",
      "sbj9:  Дмитрий_Казаков Эмиль_Ахмедов Михаил_Данилов Алексей_Рубцов Игорь_Волобуев Наталья_Берлофф Виктор_Брагута Павел_Пахлов Сергей_Демокритов Сергей_Троицкий Лев_Дудко Андрей_Лосев Анатолий_Лиходед Марина_Корсакова-Крейн Павел_Лушников \n",
      "sbj10:  Кирилл_Кочегаров Кирилл_Соловьев Ирина_Бёме Олег_Будницкий Варвара_Добровольская Сергей_Соколовский Александр_Лаврентьев Борис_Колоницкий Борис_Морозов Александр_Каменский Алексей_Бартошевич Илья_Виньковецкий Евгений_Магид Джанмарко_Веруджио Алексей_Киличенков \n",
      "sbj11:  Катерина_Поливанова Мария_Падун Юрий_Яшков Наталья_Харламенкова Наталья_Кисельникова Ольга_Исупова Джеральд_де_Хаан Мария_Медникова Эмери_Браун Владимир_Ковальзон Мария_Добровольская Дмитрий_Жуков Денис_Сивков Павел_Умрюхин Александр_Жаворонков \n",
      "sbj12:  Егор_Задереев Филипп_Хайтович Михаил_Бурцев Дмитрий_Лось Константин_Агладзе Роман_Ефремов Алишер_Тураев Сергей_Яковенко Александр_Петренко Дмитрий_Дорохов Филлип_Шарп Алиса_Вячеславова Рудольф_Йениш Михаил_Киселев Александр_Лазуткин \n",
      "sbj13:  Дмитрий_Беляев Марк_Ульянов Георгий_Старостин Наталья_Зубаревич Дмитрий_Худяков Ольга_Брилева Нина_Сумбатова Владимир_Каганский Екатерина_Ларионова Сергей_Серёгичев Олег_Ауров Андрей_Виноградов Светлана_Бурлак Галина_Ершова Александр_Высоковский \n",
      "sbj14:  Сергей_Попов Анатолий_Засов Алексей_Расторгуев Ольга_Сильченко Дмитрий_Вибе Владимир_Сурдин Михаил_Ревнивцев Валерий_Сулейманов Дмитрий_Горбунов Олег_Верходанов Андрей_Савельев-Трофимов Алексей_Старобинский Валерий_Рубаков Сергей_Блинников Александр_Шацкий \n",
      "sbj15:  Мария_Фаликман Игорь_Уточкин Ольга_Сварник Ольга_Тогоева Павел_Балабан Александр_Каплан Иван_Луковников Махзарин_Банаджи Антон_Чижов Станислав_Клименко Александр_Войскунский Александр_Львовский Александр_Тормасов Сергей_Шишкин Мартин_Вейс \n",
      "sbj16:  Станислав_Дробышевский Виталий_Кушниров Инга_Полетаева Александр_Воеводский Джефф_Лихтман Митчел_Резник Борис_Миркин Михаил_Гельфанд Владимир_Муронец Сергей_Киселев Ольга_Исупова Мария_Полински Андрей_Журавлев Георгий_Базыкин Хопи_Хукстра \n",
      "sbj17:  Алексей_Козырев Илья_Женин Кирилл_Мартынов Кирилл_Титаев Иван_Болдырев Дина_Гусейнова Дмитрий_Бовыкин Денис_Новак Петр_Резвых Владимир_Малахов Дмитрий_Полдников Валентина_Харитонова Анна_Севортьян Юрий_Рогулёв Александр_Ватлин \n",
      "sbj18:  Александр_Пиперски Владимир_Спиридонов Дмитрий_Добровольский Надежда_Онипенко Светлана_Евграфова Борис_Иомдин Петр_Аркадьев Анатолий_Баранов Алексей_Шмелев Екатерина_Лютикова Вера_Подлесская Екатерина_Протасова Ирина_Левонтина Анастасия_Лопухина Владимир_Плунгян \n",
      "sbj19:  Михаил_Соколов Галина_Зеленина Василий_Жарков Екатерина_Лапина-Кратасюк Виктор_Вахштайн Вера_Мильчина Михаил_Маяцкий Лев_Беклемишев Екатерина_Щербакова Армен_Сергеев Максим_Демин Павел_Соколов Александр_Филиппов Мария_Майофис Марк_Харрисон \n",
      "sbj20:  ПостНаука Александр_Сафонов Алексей_Лебедев Оксана_Запорожец Елена_Брызгалина Александр_Тормасов Евгений_Хоров Дарья_Радченко Дэвид_Кларк Деметрис_Зейналипур Мануэль_Маццара Ольга_Вендина Ноам_Хомский Виталий_Куренной Екатерина_Лапина-Кратасюк \n",
      "sbj21:  Константин_Анохин Алексей_Алексеев Ярослав_Ашихмин Алла_Ножевникова Вера_Ижевская Андрей_Лукашов Владимир_Бобровников Александр_Васильев Сергей_Румянцев Алексей_Чжао Алексей_Созинов Павел_Тищенко Елена_Голубева Наталья_Савва Виктор_Мурогов \n",
      "sbj22:  Виктор_Вахштайн Дмитрий_Ветров Светлана_Баньковская Леонид_Иомдин Рафаэль_Арутюнян Александр_Дьяконов Сезар_Идальго Михаил_Эпштейн Дэвид_Вайнберг Джеффри_Шнапп Анатолий_Гершман Ирина_Савельева Мария_Полински Татьяна_Ребеко Мира_Бергельсон \n",
      "sbj23:  Илья_Щуров Иван_Оселедец Владимир_Кузнецов Станислав_Протасов Александр_Жданов Елена_Гороховская Александр_Жаворонков Максим_Таланов Игорь_Петров Владимир_Редько Алексей_Северцов Сергей_Гашков Константин_Воронцов Виталий_Дунин-Барковский Елена_Браун \n",
      "sbj24:  Гасан_Гусейнов Алексей_Муравьёв Сергей_Неклюдов Олег_Воскобойников Мария_Штейнман Олег_Лекманов Ивар_Максутов Владимир_Емельянов Александр_Доброхотов Иван_Ладынин Аскольд_Иванчик Владимир_Петрухин Светлана_Кузнецова Ахмет_Ярлыкапов Александр_Мещеряков \n",
      "sbj25:  Владимир_Плунгян Андрей_Кибрик Игорь_Исаев Кирилл_Бабаев Илья_Иткин Григорий_Крейдлин Владимир_Беликов Мира_Бергельсон Евгений_Зуев Дмитрий_Дагаев Ольга_Столярова Яков_Тестелец Aльберт_Давлетшин Светлана_Бурлак Екатерина_Лямина \n",
      "sbj26:  Фуад_Алескеров Олег_Хлевнюк Алексей_Белянин Сергей_Гуриев Виктор_Полтерович Сергей_Бобылев Сергей_Пекарский Владимир_Гимпельсон Александр_Аузан Сергей_Афонцев Василий_Ключарев Леонард_Полищук Анатолий_Вишневский Ольга_Малинова Андрей_Чабовский \n",
      "sbj27:  Евгений_Шеваль Константин_Северинов Максим_Франк-Каменецкий Антон_Буздин Петр_Федичев Сергей_Киселев Светлана_Боринская Андрей_Летаров Евгений_Куликов Алексей_Кондрашов Сергей_Науменко Сергей_Саложин Георгий_Базыкин Антон_Бернс Мария_Шутова \n",
      "sbj28:  Владимир_Белотелов Наталья_Ростиславлева Илья_Шкредов Анна_Дыбо Евгений_Николаев Михаил_Эльдаров Владимир_Польшаков Борис_Миркин Александр_Дмитриев Рой_Глаубер Виталий_Куренной Мел_Сигел Александр_Шварцбург Теунис_Клапвик Томас_Мюллер \n",
      "bcg:  Мария_Фаликман Михаил_Соколов Михаил_Гельфанд Виталий_Куренной Михаил_Алексеевский Александр_Филиппов Алексей_Миллер Алексей_Маслов Алексей_Акимов Андрей_Зорин Елена_Брызгалина Алексей_Семихатов Алексей_Желтиков Сергей_Зенкин Николай_Дронин \n"
     ]
    }
   ],
   "source": [
    "for topic_name in model_artm.topic_names:\n",
    "    print (topic_name + ': ', end=' '),\n",
    "    tokens = model_artm.score_tracker[\"top_words_author\"].last_tokens\n",
    "    for word in tokens[topic_name]:    \n",
    "        print (word, end=' '),\n",
    "    print('')"
   ]
  },
  {
   "cell_type": "markdown",
   "metadata": {},
   "source": [
    "В последней теме \"bcg\" должны находиться общеупотребительные слова.\n",
    "\n",
    "Важный шаг в работе с тематической моделью, когда речь идет о визуализации или создании тематического навигатора, это именование тем. Понять, о чем каждая тема, можно по списку ее топовых слов. Например, тему\n",
    "    \n",
    "    частица взаимодействие физика кварк симметрия элементарный нейтрино стандартный материя протон бозон заряд масса ускоритель слабый\n",
    "    \n",
    "можно назвать \"Физика элементарных частиц\". \n",
    "\n",
    "Дайте названия 29 предметным темам. Если вы не знаете, как назвать тему, назовите ее первым встретившимся в ней существительным, хотя при таком подходе навигатор будет менее информативным. Из названий тем составьте список из 29 строк и запишите го в переменную sbj_topic_labels. В переменной topic_labels будут храниться названия всех тем, включая фоновую."
   ]
  },
  {
   "cell_type": "code",
   "execution_count": 165,
   "metadata": {},
   "outputs": [],
   "source": [
    "sbj_topic_labels = ['История', 'Климатология', 'Механика', 'Общение', 'Биология', 'Свойства материалов', 'Исскуство', 'Социология',\n",
    "                    'Наука', 'Квантовая физика', 'Война в России', 'Ювенология', 'Нейробиология', 'Государства',\n",
    "                    'Астрономия', 'Данные', 'Группы', 'Философия', 'Лингвистика', 'Социология', 'Технологии', 'Альцгеймер', \n",
    "                    'Объекты', 'Математика', 'История России', 'Лингвистика', 'Экономика', 'Генетика', 'Исследования']   # запишите названия тем в список\n",
    "topic_labels = sbj_topic_labels + [\"Фоновая тема\"]"
   ]
  },
  {
   "cell_type": "markdown",
   "metadata": {},
   "source": [
    "##### Анализ тем"
   ]
  },
  {
   "cell_type": "markdown",
   "metadata": {},
   "source": [
    "Далее мы будем работать с распределениями тем в документах (матрица $\\Theta$) и авторов в темах (одна из двух матриц $\\Phi$, соответствующая модальности авторов). \n",
    "Создайте переменные, содержащие две этих матрицы, с помощью методов get_phi и get_theta модели. Назовите переменные theta и phi_a. Выведите формы обеих матриц, чтобы понять, по каким осям стоят темы."
   ]
  },
  {
   "cell_type": "code",
   "execution_count": 166,
   "metadata": {},
   "outputs": [
    {
     "name": "stdout",
     "output_type": "stream",
     "text": [
      "(539, 30)\n",
      "(30, 1728)\n"
     ]
    }
   ],
   "source": [
    "model_artm.theta_columns_naming = \"title\" # включает именование столбцов Theta их названиями-ссылками, а не внутренними id \n",
    "# Ваш код\n",
    "phi_a = model_artm.get_phi(class_ids='author')\n",
    "print(phi_a.shape)\n",
    "theta = model_artm.get_theta()\n",
    "print(theta.shape)"
   ]
  },
  {
   "cell_type": "markdown",
   "metadata": {},
   "source": [
    "Визуализируем фрагмент матрицы $\\Theta$ - первые 100 документов (это наиболее простой способ визуально оценить, как темы распределяются в документах). С помощью метода seaborn.heatmap выведите фрагмент theta как изображение. Рекомендация: создайте фигуру pyplot размера (20, 10)."
   ]
  },
  {
   "cell_type": "code",
   "execution_count": 167,
   "metadata": {},
   "outputs": [
    {
     "data": {
      "text/plain": [
       "<matplotlib.axes._subplots.AxesSubplot at 0x19dd9978>"
      ]
     },
     "execution_count": 167,
     "metadata": {},
     "output_type": "execute_result"
    },
    {
     "data": {
      "image/png": "[encoded data removed]",
      "text/plain": [
       "<Figure size 1440x720 with 2 Axes>"
      ]
     },
     "metadata": {},
     "output_type": "display_data"
    }
   ],
   "source": [
    "fig, ax = plt.subplots(figsize=(20,10))\n",
    "sbn.heatmap(theta.head(100))\n"
   ]
  },
  {
   "cell_type": "markdown",
   "metadata": {},
   "source": [
    "Вы должны увидеть, что фоновая тема имеет большую вероятность в почти каждом документе, и это логично. Кроме того, есть еще одна тема, которая чаще других встречается в документах. Судя по всему, это тема содержит много слов по науку в целом, а каждый документ (видео) в нашей коллекции связан с наукой. Можно (необязательно) дать этой теме название \"Наука\".\n",
    "\n",
    "Помимо этих двух тем, фоновой и общенаучной, каждый документ характеризуется малым числом других тем."
   ]
  },
  {
   "cell_type": "markdown",
   "metadata": {},
   "source": [
    "Оценим $p(t)$ - долю каждой темы во всей коллекции. По формуле полной вероятности вычислять эти величины нужно как\n",
    "$p(t) = \\sum_d p(t|d) p(d)$. Согласно вероятностной модели, $p(d)$ пропорционально длине документа d. Поступим проще: будем полагать, что все документы равновероятны. Тогда оценить $p(t)$ можно, просуммировав $p(t|d)$ по всем документам, а затем разделив полученный вектор на его сумму. \n",
    "\n",
    "Создайте переменную-датафрейм с T строками, индексированными названиями тем, и 1 столбцом, содержащим оценки $p(t)$. Выведите датафрейм на печать."
   ]
  },
  {
   "cell_type": "code",
   "execution_count": 168,
   "metadata": {},
   "outputs": [],
   "source": [
    "pt = theta.sum(axis=1)/theta.sum(axis=1).sum()\n",
    "pt.index = topic_labels"
   ]
  },
  {
   "cell_type": "code",
   "execution_count": 169,
   "metadata": {},
   "outputs": [
    {
     "data": {
      "text/plain": [
       "Математика             0.013061\n",
       "Объекты                0.014102\n",
       "Исскуство              0.014117\n",
       "Ювенология             0.017137\n",
       "Технологии             0.017743\n",
       "Механика               0.018409\n",
       "Биология               0.019409\n",
       "Общение                0.020291\n",
       "Лингвистика            0.020515\n",
       "Альцгеймер             0.021492\n",
       "Нейробиология          0.022012\n",
       "Социология             0.022032\n",
       "Лингвистика            0.022124\n",
       "Социология             0.023263\n",
       "Война в России         0.024177\n",
       "Данные                 0.024492\n",
       "Экономика              0.024497\n",
       "История                0.027531\n",
       "Свойства материалов    0.028498\n",
       "Климатология           0.028677\n",
       "Исследования           0.028928\n",
       "Генетика               0.030220\n",
       "Астрономия             0.032803\n",
       "Группы                 0.034354\n",
       "Философия              0.034381\n",
       "Государства            0.036293\n",
       "История России         0.036491\n",
       "Квантовая физика       0.036891\n",
       "Наука                  0.055328\n",
       "Фоновая тема           0.250729\n",
       "dtype: float32"
      ]
     },
     "execution_count": 169,
     "metadata": {},
     "output_type": "execute_result"
    }
   ],
   "source": [
    "pt.sort_values()"
   ]
  },
  {
   "cell_type": "markdown",
   "metadata": {},
   "source": [
    "Найдите 5 самых распространенных и 3 наименее освещенных темы в коллекции (наибольшие и наименьшие $p(t)$ соответственно), не считая фоновую и общенаучную. Укажите названия, которые вы дали этим темам."
   ]
  },
  {
   "cell_type": "raw",
   "metadata": {},
   "source": [
    "Ваш ответ:\n",
    "5 тем с max p(t):Квантовая физика, История России, Государства, Философия, Группы \n",
    "3 темы с min p(t):Математика, Объекты, Исскуство"
   ]
  },
  {
   "cell_type": "markdown",
   "metadata": {},
   "source": [
    "Визуализируйте матрицу $\\Phi$ модальности авторов в виде изображения. Рекомендация: установите yticklabels=False в heatmap."
   ]
  },
  {
   "cell_type": "code",
   "execution_count": 170,
   "metadata": {},
   "outputs": [
    {
     "data": {
      "text/plain": [
       "<matplotlib.axes._subplots.AxesSubplot at 0x19dd6828>"
      ]
     },
     "execution_count": 170,
     "metadata": {},
     "output_type": "execute_result"
    },
    {
     "data": {
      "image/png": "[encoded data removed]",
      "text/plain": [
       "<Figure size 1440x720 with 2 Axes>"
      ]
     },
     "metadata": {},
     "output_type": "display_data"
    }
   ],
   "source": [
    "fig, ax = plt.subplots(figsize=(20,10))\n",
    "sbn.heatmap(phi_a, yticklabels=False)\n"
   ]
  },
  {
   "cell_type": "markdown",
   "metadata": {},
   "source": [
    "Каждой теме соответствует не очень большое число авторов - матрица достаточно разреженная. Кроме того, некоторые темы имеют доминирующего автора $a$, имеющего большую вероятность $p(a|t)$ - этот автор записал больше всего лекций по теме. "
   ]
  },
  {
   "cell_type": "markdown",
   "metadata": {},
   "source": [
    "Будем считать, что автор $a$ значим в теме, если $p(a|t) > 0.01$. Для каждого автора посчитайте, в скольких темах он значим. Найдите авторов-рекордсменов, которые значимы (а значит, читали лекции) в >= 3 темах."
   ]
  },
  {
   "cell_type": "code",
   "execution_count": 171,
   "metadata": {},
   "outputs": [
    {
     "data": {
      "text/plain": [
       "(author, Владимир_Плунгян)    2\n",
       "(author, Ирина_Савельева)     2\n",
       "(author, Михаил_Соколов)      2\n",
       "(author, Виталий_Куренной)    3\n",
       "(author, Михаил_Киселев)      3\n",
       "(author, Елена_Брызгалина)    3\n",
       "(author, Михаил_Гельфанд)     3\n",
       "(author, Владимир_Муронец)    3\n",
       "(author, Михаил_Маяцкий)      3\n",
       "(author, Виктор_Вахштайн)     4\n",
       "dtype: int64"
      ]
     },
     "execution_count": 171,
     "metadata": {},
     "output_type": "execute_result"
    }
   ],
   "source": [
    "(phi_a > 0.01).sum(axis=1).sort_values().tail(10)"
   ]
  },
  {
   "cell_type": "raw",
   "metadata": {},
   "source": [
    "Ваш ответ:\n",
    "авторы, значимые в не менее чем 3 темах: Виталий_Куренной, Михаил_Киселев, Елена_Брызгалина, Михаил_Гельфанд, Владимир_Муронец, Михаил_Маяцкий, Виктор_Вахштайн "
   ]
  },
  {
   "cell_type": "markdown",
   "metadata": {},
   "source": [
    "Большинство авторов значимы в 1 теме, что логично."
   ]
  },
  {
   "cell_type": "markdown",
   "metadata": {},
   "source": [
    "##### Построение тематической карты авторов"
   ]
  },
  {
   "cell_type": "markdown",
   "metadata": {},
   "source": [
    "По сути, в матрице $\\Phi$, соответствующей модальности авторов, записаны тематические кластеры авторов. Для любого автора мы можем составить его тематический круг - авторов, разбирающихся в той же теме, что и данный. Интересующиеся слушатели могут попробовать выполнить эту процедуру для ученых, читающих лекции на Постнауке, которых они знают (например, на Постнауке есть лекции с К. В. Воронцовым - лектором текущего модуля :)\n",
    "\n",
    "Составим карту близости авторов по тематике их исследований. Для этого применим метод понижения размерности MDS к тематическим профилям авторов.\n",
    "\n",
    "Чтобы получить тематический профиль автора, распределение $p(t|a)$, нужно воспользоваться формулой Байеса: \n",
    "$p(t|a) = \\frac {p(a|t) p(t)} {\\sum_t' p(a|t') p(t')}$. Все необходимые для этого величины у вас есть и записаны в переменных phi и pt. \n",
    "\n",
    "Передайте матрицу тематических профилей авторов, записанных по строкам, в метод MDS с n_components=2. Используйте косинусную метрику (она хорошо подходит для поиска расстояний между векторами, имеющими фиксированную сумму компонент)."
   ]
  },
  {
   "cell_type": "code",
   "execution_count": 172,
   "metadata": {},
   "outputs": [],
   "source": [
    "d = phi_a * pt[1]\n",
    "d.sum(axis=1)\n",
    "author_map = d / d.sum(axis=1)[1]"
   ]
  },
  {
   "cell_type": "code",
   "execution_count": 173,
   "metadata": {},
   "outputs": [],
   "source": [
    "from sklearn.manifold import MDS\n",
    "from sklearn.metrics import pairwise_distances"
   ]
  },
  {
   "cell_type": "code",
   "execution_count": 174,
   "metadata": {},
   "outputs": [],
   "source": [
    "dist = pairwise_distances(author_map, metric = 'cosine')\n",
    "mds = MDS(dissimilarity=\"precomputed\")\n",
    "MDS_transformed_cos = mds.fit_transform(dist)"
   ]
  },
  {
   "cell_type": "markdown",
   "metadata": {},
   "source": [
    "Визуализируйте найденные двумерные представления с помощью функции scatter. "
   ]
  },
  {
   "cell_type": "code",
   "execution_count": 175,
   "metadata": {},
   "outputs": [
    {
     "data": {
      "text/plain": [
       "<matplotlib.collections.PathCollection at 0x19e1e0f0>"
      ]
     },
     "execution_count": 175,
     "metadata": {},
     "output_type": "execute_result"
    },
    {
     "data": {
      "image/png": "[encoded data removed]",
      "text/plain": [
       "<Figure size 432x288 with 1 Axes>"
      ]
     },
     "metadata": {},
     "output_type": "display_data"
    }
   ],
   "source": [
    "plt.scatter(MDS_transformed_cos[:,0], MDS_transformed_cos[:,1])"
   ]
  },
  {
   "cell_type": "markdown",
   "metadata": {},
   "source": [
    "Должно получиться, что некоторые грппы авторов формируют сгустки, которые можно считать тематическими группами авторов.\n",
    "\n",
    "Раскрасим точки следующим образом: для каждого автора выберем наиболее вероятную для него тему ($\\max_t p(t|a)$), и каждой теме сопоставим цвет. Кроме того, добавим на карту имена и фамилии авторов, это можно сделать в цикле по всем точкам с помощью функции plt.annotate, указывая метку точки первым аргументом и ее координаты в аргументе xy. Рекомендуется сделать размер изображения большим, тогда маркеры точек тоже придется увеличить (s=100 в plt.scatter). Изобразите карту авторов и сохраните в pdf-файл с помощью функции plt.savefig. \n",
    "\n",
    "Метки авторов будут пересекаться. Будет очень хорошо, если вы найдете способ, как этого можно избежать."
   ]
  },
  {
   "cell_type": "code",
   "execution_count": 176,
   "metadata": {},
   "outputs": [],
   "source": [
    "import matplotlib.cm as cm\n",
    "from matplotlib.axes._axes import _log as matplotlib_axes_logger\n",
    "matplotlib_axes_logger.setLevel('ERROR')"
   ]
  },
  {
   "cell_type": "code",
   "execution_count": 177,
   "metadata": {},
   "outputs": [
    {
     "data": {
      "image/png": "[encoded data removed]",
      "text/plain": [
       "<Figure size 1440x720 with 1 Axes>"
      ]
     },
     "metadata": {},
     "output_type": "display_data"
    }
   ],
   "source": [
    "colors = cm.rainbow(np.linspace(0, 1, T))\n",
    "df = pd.DataFrame(colors, index = phi_a.columns)\n",
    "fig, ax = plt.subplots(figsize=(20,10))\n",
    "for i in range(author_map.shape[0]):\n",
    "    plt.scatter(MDS_transformed_cos[i, 0], \n",
    "                MDS_transformed_cos[i, 1], \n",
    "                c = df.loc[phi_a.iloc[i,:-1].idxmax(),:].values, s=100)\n",
    "    plt.annotate(author_map.index[i][-1], xy=[MDS_transformed_cos[i, 0], MDS_transformed_cos[i, 1]])\n",
    "plt.savefig('map_a.pdf')          "
   ]
  },
  {
   "cell_type": "markdown",
   "metadata": {},
   "source": [
    "##### Создание простого тематического навигатора по Постнауке"
   ]
  },
  {
   "cell_type": "markdown",
   "metadata": {},
   "source": [
    "Наш тематический навигатор будет для каждой темы показывать ее список слов, а также список релевантных теме документов. \n",
    "\n",
    "Нам понадобятся распределения $p(d|t)$. По формуле Байеса $p(d|t) = \\frac{p(t|d)p(d)}{\\sum_{d'}p(t|d')p(d')}$, но поскольку мы считаем документы равновероятными, достаточно разделить каждую строку $\\Theta$ на ее сумму, чтобы оценить распределение. \n",
    "\n",
    "Отсортируйте матрицу $p(d|t)$ по убыванию $p(d|t)$ в каждой теме (то есть построчно). Нам понадобятся индексы наиболее вероятных документов в каждой теме, поэтому используйте функцию argmax."
   ]
  },
  {
   "cell_type": "code",
   "execution_count": 178,
   "metadata": {},
   "outputs": [
    {
     "data": {
      "text/html": [
       "<div>\n",
       "<style scoped>\n",
       "    .dataframe tbody tr th:only-of-type {\n",
       "        vertical-align: middle;\n",
       "    }\n",
       "\n",
       "    .dataframe tbody tr th {\n",
       "        vertical-align: top;\n",
       "    }\n",
       "\n",
       "    .dataframe thead th {\n",
       "        text-align: right;\n",
       "    }\n",
       "</style>\n",
       "<table border=\"1\" class=\"dataframe\">\n",
       "  <thead>\n",
       "    <tr style=\"text-align: right;\">\n",
       "      <th></th>\n",
       "      <th>http://postnauka.ru/video/60696</th>\n",
       "      <th>http://postnauka.ru/video/60743</th>\n",
       "      <th>http://postnauka.ru/video/6376</th>\n",
       "      <th>http://postnauka.ru/video/6377</th>\n",
       "      <th>http://postnauka.ru/video/6380</th>\n",
       "      <th>http://postnauka.ru/video/6477</th>\n",
       "      <th>http://postnauka.ru/video/6497</th>\n",
       "      <th>http://postnauka.ru/video/6498</th>\n",
       "      <th>http://postnauka.ru/video/6562</th>\n",
       "      <th>http://postnauka.ru/video/6608</th>\n",
       "      <th>...</th>\n",
       "      <th>http://postnauka.ru/video/50088</th>\n",
       "      <th>http://postnauka.ru/video/50090</th>\n",
       "      <th>http://postnauka.ru/video/50097</th>\n",
       "      <th>http://postnauka.ru/video/50123</th>\n",
       "      <th>http://postnauka.ru/video/50340</th>\n",
       "      <th>http://postnauka.ru/video/50343</th>\n",
       "      <th>http://postnauka.ru/video/50345</th>\n",
       "      <th>http://postnauka.ru/video/50347</th>\n",
       "      <th>http://postnauka.ru/video/50349</th>\n",
       "      <th>http://postnauka.ru/video/50350</th>\n",
       "    </tr>\n",
       "  </thead>\n",
       "  <tbody>\n",
       "    <tr>\n",
       "      <th>sbj0</th>\n",
       "      <td>0.000031</td>\n",
       "      <td>0.000044</td>\n",
       "      <td>0.000000</td>\n",
       "      <td>0.0</td>\n",
       "      <td>0.000000e+00</td>\n",
       "      <td>0.000024</td>\n",
       "      <td>0.00000</td>\n",
       "      <td>0.000009</td>\n",
       "      <td>0.000015</td>\n",
       "      <td>0.000000e+00</td>\n",
       "      <td>...</td>\n",
       "      <td>0.000025</td>\n",
       "      <td>0.000015</td>\n",
       "      <td>0.000547</td>\n",
       "      <td>0.000020</td>\n",
       "      <td>0.000012</td>\n",
       "      <td>0.000041</td>\n",
       "      <td>0.000015</td>\n",
       "      <td>0.000030</td>\n",
       "      <td>0.000013</td>\n",
       "      <td>0.000545</td>\n",
       "    </tr>\n",
       "    <tr>\n",
       "      <th>sbj1</th>\n",
       "      <td>0.000082</td>\n",
       "      <td>0.000032</td>\n",
       "      <td>0.000000</td>\n",
       "      <td>0.0</td>\n",
       "      <td>0.000000e+00</td>\n",
       "      <td>0.000030</td>\n",
       "      <td>0.00006</td>\n",
       "      <td>0.000045</td>\n",
       "      <td>0.000085</td>\n",
       "      <td>8.370911e-05</td>\n",
       "      <td>...</td>\n",
       "      <td>0.000061</td>\n",
       "      <td>0.000020</td>\n",
       "      <td>0.000044</td>\n",
       "      <td>0.000059</td>\n",
       "      <td>0.000450</td>\n",
       "      <td>0.000038</td>\n",
       "      <td>0.000033</td>\n",
       "      <td>0.000010</td>\n",
       "      <td>0.000006</td>\n",
       "      <td>0.000055</td>\n",
       "    </tr>\n",
       "    <tr>\n",
       "      <th>sbj2</th>\n",
       "      <td>0.000023</td>\n",
       "      <td>0.000038</td>\n",
       "      <td>0.000000</td>\n",
       "      <td>0.0</td>\n",
       "      <td>7.802425e-16</td>\n",
       "      <td>0.000039</td>\n",
       "      <td>0.00000</td>\n",
       "      <td>0.000046</td>\n",
       "      <td>0.000013</td>\n",
       "      <td>1.156151e-17</td>\n",
       "      <td>...</td>\n",
       "      <td>0.000025</td>\n",
       "      <td>0.000035</td>\n",
       "      <td>0.000013</td>\n",
       "      <td>0.000053</td>\n",
       "      <td>0.000057</td>\n",
       "      <td>0.000030</td>\n",
       "      <td>0.000044</td>\n",
       "      <td>0.000111</td>\n",
       "      <td>0.000061</td>\n",
       "      <td>0.000011</td>\n",
       "    </tr>\n",
       "    <tr>\n",
       "      <th>sbj3</th>\n",
       "      <td>0.000021</td>\n",
       "      <td>0.000034</td>\n",
       "      <td>0.000000</td>\n",
       "      <td>0.0</td>\n",
       "      <td>1.525886e-04</td>\n",
       "      <td>0.000000</td>\n",
       "      <td>0.00000</td>\n",
       "      <td>0.000023</td>\n",
       "      <td>0.000044</td>\n",
       "      <td>8.491628e-05</td>\n",
       "      <td>...</td>\n",
       "      <td>0.000031</td>\n",
       "      <td>0.000038</td>\n",
       "      <td>0.000039</td>\n",
       "      <td>0.000029</td>\n",
       "      <td>0.000022</td>\n",
       "      <td>0.000042</td>\n",
       "      <td>0.000014</td>\n",
       "      <td>0.000058</td>\n",
       "      <td>0.000035</td>\n",
       "      <td>0.000021</td>\n",
       "    </tr>\n",
       "    <tr>\n",
       "      <th>sbj4</th>\n",
       "      <td>0.000035</td>\n",
       "      <td>0.000070</td>\n",
       "      <td>0.000069</td>\n",
       "      <td>0.0</td>\n",
       "      <td>2.285919e-04</td>\n",
       "      <td>0.000036</td>\n",
       "      <td>0.00006</td>\n",
       "      <td>0.000028</td>\n",
       "      <td>0.000033</td>\n",
       "      <td>3.646513e-18</td>\n",
       "      <td>...</td>\n",
       "      <td>0.000043</td>\n",
       "      <td>0.000054</td>\n",
       "      <td>0.000042</td>\n",
       "      <td>0.000024</td>\n",
       "      <td>0.000018</td>\n",
       "      <td>0.000041</td>\n",
       "      <td>0.000055</td>\n",
       "      <td>0.000059</td>\n",
       "      <td>0.000058</td>\n",
       "      <td>0.000039</td>\n",
       "    </tr>\n",
       "  </tbody>\n",
       "</table>\n",
       "<p>5 rows × 1728 columns</p>\n",
       "</div>"
      ],
      "text/plain": [
       "      http://postnauka.ru/video/60696  http://postnauka.ru/video/60743  \\\n",
       "sbj0                         0.000031                         0.000044   \n",
       "sbj1                         0.000082                         0.000032   \n",
       "sbj2                         0.000023                         0.000038   \n",
       "sbj3                         0.000021                         0.000034   \n",
       "sbj4                         0.000035                         0.000070   \n",
       "\n",
       "      http://postnauka.ru/video/6376  http://postnauka.ru/video/6377  \\\n",
       "sbj0                        0.000000                             0.0   \n",
       "sbj1                        0.000000                             0.0   \n",
       "sbj2                        0.000000                             0.0   \n",
       "sbj3                        0.000000                             0.0   \n",
       "sbj4                        0.000069                             0.0   \n",
       "\n",
       "      http://postnauka.ru/video/6380  http://postnauka.ru/video/6477  \\\n",
       "sbj0                    0.000000e+00                        0.000024   \n",
       "sbj1                    0.000000e+00                        0.000030   \n",
       "sbj2                    7.802425e-16                        0.000039   \n",
       "sbj3                    1.525886e-04                        0.000000   \n",
       "sbj4                    2.285919e-04                        0.000036   \n",
       "\n",
       "      http://postnauka.ru/video/6497  http://postnauka.ru/video/6498  \\\n",
       "sbj0                         0.00000                        0.000009   \n",
       "sbj1                         0.00006                        0.000045   \n",
       "sbj2                         0.00000                        0.000046   \n",
       "sbj3                         0.00000                        0.000023   \n",
       "sbj4                         0.00006                        0.000028   \n",
       "\n",
       "      http://postnauka.ru/video/6562  http://postnauka.ru/video/6608  ...  \\\n",
       "sbj0                        0.000015                    0.000000e+00  ...   \n",
       "sbj1                        0.000085                    8.370911e-05  ...   \n",
       "sbj2                        0.000013                    1.156151e-17  ...   \n",
       "sbj3                        0.000044                    8.491628e-05  ...   \n",
       "sbj4                        0.000033                    3.646513e-18  ...   \n",
       "\n",
       "      http://postnauka.ru/video/50088  http://postnauka.ru/video/50090  \\\n",
       "sbj0                         0.000025                         0.000015   \n",
       "sbj1                         0.000061                         0.000020   \n",
       "sbj2                         0.000025                         0.000035   \n",
       "sbj3                         0.000031                         0.000038   \n",
       "sbj4                         0.000043                         0.000054   \n",
       "\n",
       "      http://postnauka.ru/video/50097  http://postnauka.ru/video/50123  \\\n",
       "sbj0                         0.000547                         0.000020   \n",
       "sbj1                         0.000044                         0.000059   \n",
       "sbj2                         0.000013                         0.000053   \n",
       "sbj3                         0.000039                         0.000029   \n",
       "sbj4                         0.000042                         0.000024   \n",
       "\n",
       "      http://postnauka.ru/video/50340  http://postnauka.ru/video/50343  \\\n",
       "sbj0                         0.000012                         0.000041   \n",
       "sbj1                         0.000450                         0.000038   \n",
       "sbj2                         0.000057                         0.000030   \n",
       "sbj3                         0.000022                         0.000042   \n",
       "sbj4                         0.000018                         0.000041   \n",
       "\n",
       "      http://postnauka.ru/video/50345  http://postnauka.ru/video/50347  \\\n",
       "sbj0                         0.000015                         0.000030   \n",
       "sbj1                         0.000033                         0.000010   \n",
       "sbj2                         0.000044                         0.000111   \n",
       "sbj3                         0.000014                         0.000058   \n",
       "sbj4                         0.000055                         0.000059   \n",
       "\n",
       "      http://postnauka.ru/video/50349  http://postnauka.ru/video/50350  \n",
       "sbj0                         0.000013                         0.000545  \n",
       "sbj1                         0.000006                         0.000055  \n",
       "sbj2                         0.000061                         0.000011  \n",
       "sbj3                         0.000035                         0.000021  \n",
       "sbj4                         0.000058                         0.000039  \n",
       "\n",
       "[5 rows x 1728 columns]"
      ]
     },
     "execution_count": 178,
     "metadata": {},
     "output_type": "execute_result"
    }
   ],
   "source": [
    "p_dt = theta/theta.sum(axis=1)[-1]\n",
    "p_dt.head()"
   ]
  },
  {
   "cell_type": "code",
   "execution_count": 179,
   "metadata": {},
   "outputs": [],
   "source": [
    "#Создадим словарь с 10 наиболее релевантных документов по темам\n",
    "dict_a={}\n",
    "for i in range(p_dt.shape[0]-1):\n",
    "    a = p_dt.iloc[i,:].sort_values(ascending=False).head(10)\n",
    "    dict_a[p_dt.index[i]] = list(a.index)"
   ]
  },
  {
   "cell_type": "markdown",
   "metadata": {},
   "source": [
    "Создавать навигатор мы будем прямо в jupiter notebook: это возможно благодаря тому факту, что при печати ссылки она автоматически превращается в гиперссылку."
   ]
  },
  {
   "cell_type": "code",
   "execution_count": 180,
   "metadata": {},
   "outputs": [
    {
     "name": "stdout",
     "output_type": "stream",
     "text": [
      "http://yandex.ru\n"
     ]
    }
   ],
   "source": [
    "print (\"http://yandex.ru\")   # получится кликабельная ссылка"
   ]
  },
  {
   "cell_type": "markdown",
   "metadata": {},
   "source": [
    "Кроме того, подключив модуль [ipython.core.display](https://ipython.org/ipython-doc/2/api/generated/IPython.core.display.html), можно использовать html-разметку в выводе. Например:"
   ]
  },
  {
   "cell_type": "code",
   "execution_count": 181,
   "metadata": {},
   "outputs": [
    {
     "data": {
      "text/html": [
       "<h1>Заголовок</h1>"
      ],
      "text/plain": [
       "<IPython.core.display.HTML object>"
      ]
     },
     "metadata": {},
     "output_type": "display_data"
    },
    {
     "data": {
      "text/html": [
       "<ul><li>Пункт 1</li><li>Пункт 2</li></ul>"
      ],
      "text/plain": [
       "<IPython.core.display.HTML object>"
      ]
     },
     "metadata": {},
     "output_type": "display_data"
    },
    {
     "data": {
      "text/html": [
       "<font color=\"green\">Зеленый!</font>"
      ],
      "text/plain": [
       "<IPython.core.display.HTML object>"
      ]
     },
     "metadata": {},
     "output_type": "display_data"
    },
    {
     "data": {
      "text/html": [
       "<a href=\"http://yandex.ru\">Еще один вариант вывода ссылки</a>"
      ],
      "text/plain": [
       "<IPython.core.display.HTML object>"
      ]
     },
     "metadata": {},
     "output_type": "display_data"
    }
   ],
   "source": [
    "from IPython.core.display import display, HTML\n",
    "display(HTML(u\"<h1>Заголовок</h1>\"))   # также <h2>, <h3>\n",
    "display(HTML(u\"<ul><li>Пункт 1</li><li>Пункт 2</li></ul>\"))\n",
    "display(HTML(u'<font color=\"green\">Зеленый!</font>'))\n",
    "display(HTML(u'<a href=\"http://yandex.ru\">Еще один вариант вывода ссылки</a>'))"
   ]
  },
  {
   "cell_type": "markdown",
   "metadata": {},
   "source": [
    "В цикле для каждой темы выведите ее заголовок, в следующей строке - топ-10 слов темы, затем в виде списка ссылки на 10 наиболее релевантных (по $p(d|t)$) теме документов. Используйте html-разметку. Творчество приветствуется :)"
   ]
  },
  {
   "cell_type": "code",
   "execution_count": 182,
   "metadata": {},
   "outputs": [
    {
     "data": {
      "text/html": [
       "<h2>История</h2>"
      ],
      "text/plain": [
       "<IPython.core.display.HTML object>"
      ]
     },
     "metadata": {},
     "output_type": "display_data"
    },
    {
     "data": {
      "text/html": [
       "<ul><li>['Александр_Марей', 'Фёдор_Успенский', 'Павел_Уваров', 'Татьяна_Бобровникова', 'Ольга_Вайнштейн', 'Михаил_Бойцов', 'Алексей_Юдин', 'Игорь_Данилевский', 'Раиса_Кирсанова', 'Владимир_Кантор']</li></ul>"
      ],
      "text/plain": [
       "<IPython.core.display.HTML object>"
      ]
     },
     "metadata": {},
     "output_type": "display_data"
    },
    {
     "data": {
      "text/html": [
       "<a href=http://postnauka.ru/video/3348\">http://postnauka.ru/video/3348</a>"
      ],
      "text/plain": [
       "<IPython.core.display.HTML object>"
      ]
     },
     "metadata": {},
     "output_type": "display_data"
    },
    {
     "data": {
      "text/html": [
       "<a href=http://postnauka.ru/video/3406\">http://postnauka.ru/video/3406</a>"
      ],
      "text/plain": [
       "<IPython.core.display.HTML object>"
      ]
     },
     "metadata": {},
     "output_type": "display_data"
    },
    {
     "data": {
      "text/html": [
       "<a href=http://postnauka.ru/video/5464\">http://postnauka.ru/video/5464</a>"
      ],
      "text/plain": [
       "<IPython.core.display.HTML object>"
      ]
     },
     "metadata": {},
     "output_type": "display_data"
    },
    {
     "data": {
      "text/html": [
       "<a href=http://postnauka.ru/video/24030\">http://postnauka.ru/video/24030</a>"
      ],
      "text/plain": [
       "<IPython.core.display.HTML object>"
      ]
     },
     "metadata": {},
     "output_type": "display_data"
    },
    {
     "data": {
      "text/html": [
       "<a href=http://postnauka.ru/video/9968\">http://postnauka.ru/video/9968</a>"
      ],
      "text/plain": [
       "<IPython.core.display.HTML object>"
      ]
     },
     "metadata": {},
     "output_type": "display_data"
    },
    {
     "data": {
      "text/html": [
       "<a href=http://postnauka.ru/video/24039\">http://postnauka.ru/video/24039</a>"
      ],
      "text/plain": [
       "<IPython.core.display.HTML object>"
      ]
     },
     "metadata": {},
     "output_type": "display_data"
    },
    {
     "data": {
      "text/html": [
       "<a href=http://postnauka.ru/video/14292\">http://postnauka.ru/video/14292</a>"
      ],
      "text/plain": [
       "<IPython.core.display.HTML object>"
      ]
     },
     "metadata": {},
     "output_type": "display_data"
    },
    {
     "data": {
      "text/html": [
       "<a href=http://postnauka.ru/video/31677\">http://postnauka.ru/video/31677</a>"
      ],
      "text/plain": [
       "<IPython.core.display.HTML object>"
      ]
     },
     "metadata": {},
     "output_type": "display_data"
    },
    {
     "data": {
      "text/html": [
       "<a href=http://postnauka.ru/video/28942\">http://postnauka.ru/video/28942</a>"
      ],
      "text/plain": [
       "<IPython.core.display.HTML object>"
      ]
     },
     "metadata": {},
     "output_type": "display_data"
    },
    {
     "data": {
      "text/html": [
       "<a href=http://postnauka.ru/video/23900\">http://postnauka.ru/video/23900</a>"
      ],
      "text/plain": [
       "<IPython.core.display.HTML object>"
      ]
     },
     "metadata": {},
     "output_type": "display_data"
    },
    {
     "data": {
      "text/html": [
       "<h2>Климатология</h2>"
      ],
      "text/plain": [
       "<IPython.core.display.HTML object>"
      ]
     },
     "metadata": {},
     "output_type": "display_data"
    },
    {
     "data": {
      "text/html": [
       "<ul><li>['Елизавета_Бонч-Осмоловская', 'Кирилл_Еськов', 'Сергей_Попов', 'Дмитрий_Титов', 'Николай_Пименов', 'Татьяна_Смоктунович', 'Андрей_Иванцов', 'Зоригто_Намсараев', 'Светлана_Дедыш', 'Александр_Марков']</li></ul>"
      ],
      "text/plain": [
       "<IPython.core.display.HTML object>"
      ]
     },
     "metadata": {},
     "output_type": "display_data"
    },
    {
     "data": {
      "text/html": [
       "<a href=http://postnauka.ru/video/24245\">http://postnauka.ru/video/24245</a>"
      ],
      "text/plain": [
       "<IPython.core.display.HTML object>"
      ]
     },
     "metadata": {},
     "output_type": "display_data"
    },
    {
     "data": {
      "text/html": [
       "<a href=http://postnauka.ru/video/15049\">http://postnauka.ru/video/15049</a>"
      ],
      "text/plain": [
       "<IPython.core.display.HTML object>"
      ]
     },
     "metadata": {},
     "output_type": "display_data"
    },
    {
     "data": {
      "text/html": [
       "<a href=http://postnauka.ru/video/9835\">http://postnauka.ru/video/9835</a>"
      ],
      "text/plain": [
       "<IPython.core.display.HTML object>"
      ]
     },
     "metadata": {},
     "output_type": "display_data"
    },
    {
     "data": {
      "text/html": [
       "<a href=http://postnauka.ru/video/32889\">http://postnauka.ru/video/32889</a>"
      ],
      "text/plain": [
       "<IPython.core.display.HTML object>"
      ]
     },
     "metadata": {},
     "output_type": "display_data"
    },
    {
     "data": {
      "text/html": [
       "<a href=http://postnauka.ru/video/13098\">http://postnauka.ru/video/13098</a>"
      ],
      "text/plain": [
       "<IPython.core.display.HTML object>"
      ]
     },
     "metadata": {},
     "output_type": "display_data"
    },
    {
     "data": {
      "text/html": [
       "<a href=http://postnauka.ru/video/26206\">http://postnauka.ru/video/26206</a>"
      ],
      "text/plain": [
       "<IPython.core.display.HTML object>"
      ]
     },
     "metadata": {},
     "output_type": "display_data"
    },
    {
     "data": {
      "text/html": [
       "<a href=http://postnauka.ru/video/25312\">http://postnauka.ru/video/25312</a>"
      ],
      "text/plain": [
       "<IPython.core.display.HTML object>"
      ]
     },
     "metadata": {},
     "output_type": "display_data"
    },
    {
     "data": {
      "text/html": [
       "<a href=http://postnauka.ru/video/31695\">http://postnauka.ru/video/31695</a>"
      ],
      "text/plain": [
       "<IPython.core.display.HTML object>"
      ]
     },
     "metadata": {},
     "output_type": "display_data"
    },
    {
     "data": {
      "text/html": [
       "<a href=http://postnauka.ru/video/49437\">http://postnauka.ru/video/49437</a>"
      ],
      "text/plain": [
       "<IPython.core.display.HTML object>"
      ]
     },
     "metadata": {},
     "output_type": "display_data"
    },
    {
     "data": {
      "text/html": [
       "<a href=http://postnauka.ru/video/49261\">http://postnauka.ru/video/49261</a>"
      ],
      "text/plain": [
       "<IPython.core.display.HTML object>"
      ]
     },
     "metadata": {},
     "output_type": "display_data"
    },
    {
     "data": {
      "text/html": [
       "<h2>Механика</h2>"
      ],
      "text/plain": [
       "<IPython.core.display.HTML object>"
      ]
     },
     "metadata": {},
     "output_type": "display_data"
    },
    {
     "data": {
      "text/html": [
       "<ul><li>['Александр_Поддьяков', 'Дмитрий_Громов', 'Михаил_Пантелеев', 'Владимир_Мележик', 'Варвара_Веденина', 'Даниэль_Сельва', 'Антон_Суворов', 'Михаил_Фейгельман', 'Виталий_Пальчиков', 'Алексей_Котов']</li></ul>"
      ],
      "text/plain": [
       "<IPython.core.display.HTML object>"
      ]
     },
     "metadata": {},
     "output_type": "display_data"
    },
    {
     "data": {
      "text/html": [
       "<a href=http://postnauka.ru/video/3602\">http://postnauka.ru/video/3602</a>"
      ],
      "text/plain": [
       "<IPython.core.display.HTML object>"
      ]
     },
     "metadata": {},
     "output_type": "display_data"
    },
    {
     "data": {
      "text/html": [
       "<a href=http://postnauka.ru/video/51382\">http://postnauka.ru/video/51382</a>"
      ],
      "text/plain": [
       "<IPython.core.display.HTML object>"
      ]
     },
     "metadata": {},
     "output_type": "display_data"
    },
    {
     "data": {
      "text/html": [
       "<a href=http://postnauka.ru/video/57648\">http://postnauka.ru/video/57648</a>"
      ],
      "text/plain": [
       "<IPython.core.display.HTML object>"
      ]
     },
     "metadata": {},
     "output_type": "display_data"
    },
    {
     "data": {
      "text/html": [
       "<a href=http://postnauka.ru/video/41348\">http://postnauka.ru/video/41348</a>"
      ],
      "text/plain": [
       "<IPython.core.display.HTML object>"
      ]
     },
     "metadata": {},
     "output_type": "display_data"
    },
    {
     "data": {
      "text/html": [
       "<a href=http://postnauka.ru/video/56618\">http://postnauka.ru/video/56618</a>"
      ],
      "text/plain": [
       "<IPython.core.display.HTML object>"
      ]
     },
     "metadata": {},
     "output_type": "display_data"
    },
    {
     "data": {
      "text/html": [
       "<a href=http://postnauka.ru/video/47457\">http://postnauka.ru/video/47457</a>"
      ],
      "text/plain": [
       "<IPython.core.display.HTML object>"
      ]
     },
     "metadata": {},
     "output_type": "display_data"
    },
    {
     "data": {
      "text/html": [
       "<a href=http://postnauka.ru/video/25097\">http://postnauka.ru/video/25097</a>"
      ],
      "text/plain": [
       "<IPython.core.display.HTML object>"
      ]
     },
     "metadata": {},
     "output_type": "display_data"
    },
    {
     "data": {
      "text/html": [
       "<a href=http://postnauka.ru/video/28557\">http://postnauka.ru/video/28557</a>"
      ],
      "text/plain": [
       "<IPython.core.display.HTML object>"
      ]
     },
     "metadata": {},
     "output_type": "display_data"
    },
    {
     "data": {
      "text/html": [
       "<a href=http://postnauka.ru/video/37982\">http://postnauka.ru/video/37982</a>"
      ],
      "text/plain": [
       "<IPython.core.display.HTML object>"
      ]
     },
     "metadata": {},
     "output_type": "display_data"
    },
    {
     "data": {
      "text/html": [
       "<a href=http://postnauka.ru/video/34426\">http://postnauka.ru/video/34426</a>"
      ],
      "text/plain": [
       "<IPython.core.display.HTML object>"
      ]
     },
     "metadata": {},
     "output_type": "display_data"
    },
    {
     "data": {
      "text/html": [
       "<h2>Общение</h2>"
      ],
      "text/plain": [
       "<IPython.core.display.HTML object>"
      ]
     },
     "metadata": {},
     "output_type": "display_data"
    },
    {
     "data": {
      "text/html": [
       "<ul><li>['Виталий_Куренной', 'Сергей_Арутюнов', 'Владимир_Миронов', 'Максим_Кронгауз', 'Алексей_Руткевич', 'Николай_Плотников', 'Павел_Степанцов', 'Дмитрий_Куракин', 'Дмитрий_Иванов', 'Фёдор_Гиренок']</li></ul>"
      ],
      "text/plain": [
       "<IPython.core.display.HTML object>"
      ]
     },
     "metadata": {},
     "output_type": "display_data"
    },
    {
     "data": {
      "text/html": [
       "<a href=http://postnauka.ru/video/12524\">http://postnauka.ru/video/12524</a>"
      ],
      "text/plain": [
       "<IPython.core.display.HTML object>"
      ]
     },
     "metadata": {},
     "output_type": "display_data"
    },
    {
     "data": {
      "text/html": [
       "<a href=http://postnauka.ru/video/7169\">http://postnauka.ru/video/7169</a>"
      ],
      "text/plain": [
       "<IPython.core.display.HTML object>"
      ]
     },
     "metadata": {},
     "output_type": "display_data"
    },
    {
     "data": {
      "text/html": [
       "<a href=http://postnauka.ru/video/5891\">http://postnauka.ru/video/5891</a>"
      ],
      "text/plain": [
       "<IPython.core.display.HTML object>"
      ]
     },
     "metadata": {},
     "output_type": "display_data"
    },
    {
     "data": {
      "text/html": [
       "<a href=http://postnauka.ru/video/17397\">http://postnauka.ru/video/17397</a>"
      ],
      "text/plain": [
       "<IPython.core.display.HTML object>"
      ]
     },
     "metadata": {},
     "output_type": "display_data"
    },
    {
     "data": {
      "text/html": [
       "<a href=http://postnauka.ru/video/37990\">http://postnauka.ru/video/37990</a>"
      ],
      "text/plain": [
       "<IPython.core.display.HTML object>"
      ]
     },
     "metadata": {},
     "output_type": "display_data"
    },
    {
     "data": {
      "text/html": [
       "<a href=http://postnauka.ru/video/17041\">http://postnauka.ru/video/17041</a>"
      ],
      "text/plain": [
       "<IPython.core.display.HTML object>"
      ]
     },
     "metadata": {},
     "output_type": "display_data"
    },
    {
     "data": {
      "text/html": [
       "<a href=http://postnauka.ru/video/11626\">http://postnauka.ru/video/11626</a>"
      ],
      "text/plain": [
       "<IPython.core.display.HTML object>"
      ]
     },
     "metadata": {},
     "output_type": "display_data"
    },
    {
     "data": {
      "text/html": [
       "<a href=http://postnauka.ru/video/7747\">http://postnauka.ru/video/7747</a>"
      ],
      "text/plain": [
       "<IPython.core.display.HTML object>"
      ]
     },
     "metadata": {},
     "output_type": "display_data"
    },
    {
     "data": {
      "text/html": [
       "<a href=http://postnauka.ru/video/52418\">http://postnauka.ru/video/52418</a>"
      ],
      "text/plain": [
       "<IPython.core.display.HTML object>"
      ]
     },
     "metadata": {},
     "output_type": "display_data"
    },
    {
     "data": {
      "text/html": [
       "<a href=http://postnauka.ru/video/47812\">http://postnauka.ru/video/47812</a>"
      ],
      "text/plain": [
       "<IPython.core.display.HTML object>"
      ]
     },
     "metadata": {},
     "output_type": "display_data"
    },
    {
     "data": {
      "text/html": [
       "<h2>Биология</h2>"
      ],
      "text/plain": [
       "<IPython.core.display.HTML object>"
      ]
     },
     "metadata": {},
     "output_type": "display_data"
    },
    {
     "data": {
      "text/html": [
       "<ul><li>['Дмитрий_Дождев', 'Евгений_Рогожин', 'Сергей_Майоров', 'Наталья_Смолянская', 'Андрей_Кофман', 'Виктор_Цетлин', 'Марина_Бутовская', 'Александр_Парфенов', 'Александр_Войскунский', 'Татьяна_Гусарова']</li></ul>"
      ],
      "text/plain": [
       "<IPython.core.display.HTML object>"
      ]
     },
     "metadata": {},
     "output_type": "display_data"
    },
    {
     "data": {
      "text/html": [
       "<a href=http://postnauka.ru/video/17913\">http://postnauka.ru/video/17913</a>"
      ],
      "text/plain": [
       "<IPython.core.display.HTML object>"
      ]
     },
     "metadata": {},
     "output_type": "display_data"
    },
    {
     "data": {
      "text/html": [
       "<a href=http://postnauka.ru/video/38009\">http://postnauka.ru/video/38009</a>"
      ],
      "text/plain": [
       "<IPython.core.display.HTML object>"
      ]
     },
     "metadata": {},
     "output_type": "display_data"
    },
    {
     "data": {
      "text/html": [
       "<a href=http://postnauka.ru/video/49262\">http://postnauka.ru/video/49262</a>"
      ],
      "text/plain": [
       "<IPython.core.display.HTML object>"
      ]
     },
     "metadata": {},
     "output_type": "display_data"
    },
    {
     "data": {
      "text/html": [
       "<a href=http://postnauka.ru/video/45717\">http://postnauka.ru/video/45717</a>"
      ],
      "text/plain": [
       "<IPython.core.display.HTML object>"
      ]
     },
     "metadata": {},
     "output_type": "display_data"
    },
    {
     "data": {
      "text/html": [
       "<a href=http://postnauka.ru/video/5906\">http://postnauka.ru/video/5906</a>"
      ],
      "text/plain": [
       "<IPython.core.display.HTML object>"
      ]
     },
     "metadata": {},
     "output_type": "display_data"
    },
    {
     "data": {
      "text/html": [
       "<a href=http://postnauka.ru/video/32632\">http://postnauka.ru/video/32632</a>"
      ],
      "text/plain": [
       "<IPython.core.display.HTML object>"
      ]
     },
     "metadata": {},
     "output_type": "display_data"
    },
    {
     "data": {
      "text/html": [
       "<a href=http://postnauka.ru/video/41345\">http://postnauka.ru/video/41345</a>"
      ],
      "text/plain": [
       "<IPython.core.display.HTML object>"
      ]
     },
     "metadata": {},
     "output_type": "display_data"
    },
    {
     "data": {
      "text/html": [
       "<a href=http://postnauka.ru/video/22570\">http://postnauka.ru/video/22570</a>"
      ],
      "text/plain": [
       "<IPython.core.display.HTML object>"
      ]
     },
     "metadata": {},
     "output_type": "display_data"
    },
    {
     "data": {
      "text/html": [
       "<a href=http://postnauka.ru/video/12574\">http://postnauka.ru/video/12574</a>"
      ],
      "text/plain": [
       "<IPython.core.display.HTML object>"
      ]
     },
     "metadata": {},
     "output_type": "display_data"
    },
    {
     "data": {
      "text/html": [
       "<a href=http://postnauka.ru/video/41100\">http://postnauka.ru/video/41100</a>"
      ],
      "text/plain": [
       "<IPython.core.display.HTML object>"
      ]
     },
     "metadata": {},
     "output_type": "display_data"
    },
    {
     "data": {
      "text/html": [
       "<h2>Свойства материалов</h2>"
      ],
      "text/plain": [
       "<IPython.core.display.HTML object>"
      ]
     },
     "metadata": {},
     "output_type": "display_data"
    },
    {
     "data": {
      "text/html": [
       "<ul><li>['Артем_Оганов', 'Дмитрий_Паращук', 'Валентин_Крапошин', 'Дмитрий_Гольберг', 'Владимир_Шалаев', 'Евгений_Гудилин', 'Шринивас_Шридхар', 'Леонид_Григорьев', 'Алексей_Хохлов', 'Дмитрий_Клинов']</li></ul>"
      ],
      "text/plain": [
       "<IPython.core.display.HTML object>"
      ]
     },
     "metadata": {},
     "output_type": "display_data"
    },
    {
     "data": {
      "text/html": [
       "<a href=http://postnauka.ru/video/41686\">http://postnauka.ru/video/41686</a>"
      ],
      "text/plain": [
       "<IPython.core.display.HTML object>"
      ]
     },
     "metadata": {},
     "output_type": "display_data"
    },
    {
     "data": {
      "text/html": [
       "<a href=http://postnauka.ru/video/31182\">http://postnauka.ru/video/31182</a>"
      ],
      "text/plain": [
       "<IPython.core.display.HTML object>"
      ]
     },
     "metadata": {},
     "output_type": "display_data"
    },
    {
     "data": {
      "text/html": [
       "<a href=http://postnauka.ru/video/13544\">http://postnauka.ru/video/13544</a>"
      ],
      "text/plain": [
       "<IPython.core.display.HTML object>"
      ]
     },
     "metadata": {},
     "output_type": "display_data"
    },
    {
     "data": {
      "text/html": [
       "<a href=http://postnauka.ru/video/36657\">http://postnauka.ru/video/36657</a>"
      ],
      "text/plain": [
       "<IPython.core.display.HTML object>"
      ]
     },
     "metadata": {},
     "output_type": "display_data"
    },
    {
     "data": {
      "text/html": [
       "<a href=http://postnauka.ru/video/36490\">http://postnauka.ru/video/36490</a>"
      ],
      "text/plain": [
       "<IPython.core.display.HTML object>"
      ]
     },
     "metadata": {},
     "output_type": "display_data"
    },
    {
     "data": {
      "text/html": [
       "<a href=http://postnauka.ru/video/46379\">http://postnauka.ru/video/46379</a>"
      ],
      "text/plain": [
       "<IPython.core.display.HTML object>"
      ]
     },
     "metadata": {},
     "output_type": "display_data"
    },
    {
     "data": {
      "text/html": [
       "<a href=http://postnauka.ru/video/31682\">http://postnauka.ru/video/31682</a>"
      ],
      "text/plain": [
       "<IPython.core.display.HTML object>"
      ]
     },
     "metadata": {},
     "output_type": "display_data"
    },
    {
     "data": {
      "text/html": [
       "<a href=http://postnauka.ru/video/21285\">http://postnauka.ru/video/21285</a>"
      ],
      "text/plain": [
       "<IPython.core.display.HTML object>"
      ]
     },
     "metadata": {},
     "output_type": "display_data"
    },
    {
     "data": {
      "text/html": [
       "<a href=http://postnauka.ru/video/52256\">http://postnauka.ru/video/52256</a>"
      ],
      "text/plain": [
       "<IPython.core.display.HTML object>"
      ]
     },
     "metadata": {},
     "output_type": "display_data"
    },
    {
     "data": {
      "text/html": [
       "<a href=http://postnauka.ru/video/6608\">http://postnauka.ru/video/6608</a>"
      ],
      "text/plain": [
       "<IPython.core.display.HTML object>"
      ]
     },
     "metadata": {},
     "output_type": "display_data"
    },
    {
     "data": {
      "text/html": [
       "<h2>Исскуство</h2>"
      ],
      "text/plain": [
       "<IPython.core.display.HTML object>"
      ]
     },
     "metadata": {},
     "output_type": "display_data"
    },
    {
     "data": {
      "text/html": [
       "<ul><li>['Александр_Павлов', 'Павел_Руднев', 'Ян_Левченко', 'Ольга_Эдельман', 'Мария_Неклюдова', 'Игорь_Чубаров', 'Мария_Майофис', 'Анна_Рогожина', 'Петр_Дружинин', 'Алексей_Бартошевич']</li></ul>"
      ],
      "text/plain": [
       "<IPython.core.display.HTML object>"
      ]
     },
     "metadata": {},
     "output_type": "display_data"
    },
    {
     "data": {
      "text/html": [
       "<a href=http://postnauka.ru/video/39723\">http://postnauka.ru/video/39723</a>"
      ],
      "text/plain": [
       "<IPython.core.display.HTML object>"
      ]
     },
     "metadata": {},
     "output_type": "display_data"
    },
    {
     "data": {
      "text/html": [
       "<a href=http://postnauka.ru/video/10759\">http://postnauka.ru/video/10759</a>"
      ],
      "text/plain": [
       "<IPython.core.display.HTML object>"
      ]
     },
     "metadata": {},
     "output_type": "display_data"
    },
    {
     "data": {
      "text/html": [
       "<a href=http://postnauka.ru/video/47202\">http://postnauka.ru/video/47202</a>"
      ],
      "text/plain": [
       "<IPython.core.display.HTML object>"
      ]
     },
     "metadata": {},
     "output_type": "display_data"
    },
    {
     "data": {
      "text/html": [
       "<a href=http://postnauka.ru/video/47208\">http://postnauka.ru/video/47208</a>"
      ],
      "text/plain": [
       "<IPython.core.display.HTML object>"
      ]
     },
     "metadata": {},
     "output_type": "display_data"
    },
    {
     "data": {
      "text/html": [
       "<a href=http://postnauka.ru/video/13541\">http://postnauka.ru/video/13541</a>"
      ],
      "text/plain": [
       "<IPython.core.display.HTML object>"
      ]
     },
     "metadata": {},
     "output_type": "display_data"
    },
    {
     "data": {
      "text/html": [
       "<a href=http://postnauka.ru/video/47204\">http://postnauka.ru/video/47204</a>"
      ],
      "text/plain": [
       "<IPython.core.display.HTML object>"
      ]
     },
     "metadata": {},
     "output_type": "display_data"
    },
    {
     "data": {
      "text/html": [
       "<a href=http://postnauka.ru/video/57127\">http://postnauka.ru/video/57127</a>"
      ],
      "text/plain": [
       "<IPython.core.display.HTML object>"
      ]
     },
     "metadata": {},
     "output_type": "display_data"
    },
    {
     "data": {
      "text/html": [
       "<a href=http://postnauka.ru/video/38510\">http://postnauka.ru/video/38510</a>"
      ],
      "text/plain": [
       "<IPython.core.display.HTML object>"
      ]
     },
     "metadata": {},
     "output_type": "display_data"
    },
    {
     "data": {
      "text/html": [
       "<a href=http://postnauka.ru/video/52416\">http://postnauka.ru/video/52416</a>"
      ],
      "text/plain": [
       "<IPython.core.display.HTML object>"
      ]
     },
     "metadata": {},
     "output_type": "display_data"
    },
    {
     "data": {
      "text/html": [
       "<a href=http://postnauka.ru/video/19330\">http://postnauka.ru/video/19330</a>"
      ],
      "text/plain": [
       "<IPython.core.display.HTML object>"
      ]
     },
     "metadata": {},
     "output_type": "display_data"
    },
    {
     "data": {
      "text/html": [
       "<h2>Социология</h2>"
      ],
      "text/plain": [
       "<IPython.core.display.HTML object>"
      ]
     },
     "metadata": {},
     "output_type": "display_data"
    },
    {
     "data": {
      "text/html": [
       "<ul><li>['Виктор_Вахштайн', 'Дмитрий_Рогозин', 'Александр_Гофман', 'Ольга_Артёмова', 'Дмитрий_Бовыкин', 'Елена_Вишленкова', 'Алина_Бодрова', 'Арсений_Хитров', 'Руслан_Хестанов', 'Ольга_Малинова']</li></ul>"
      ],
      "text/plain": [
       "<IPython.core.display.HTML object>"
      ]
     },
     "metadata": {},
     "output_type": "display_data"
    },
    {
     "data": {
      "text/html": [
       "<a href=http://postnauka.ru/video/48335\">http://postnauka.ru/video/48335</a>"
      ],
      "text/plain": [
       "<IPython.core.display.HTML object>"
      ]
     },
     "metadata": {},
     "output_type": "display_data"
    },
    {
     "data": {
      "text/html": [
       "<a href=http://postnauka.ru/video/3509\">http://postnauka.ru/video/3509</a>"
      ],
      "text/plain": [
       "<IPython.core.display.HTML object>"
      ]
     },
     "metadata": {},
     "output_type": "display_data"
    },
    {
     "data": {
      "text/html": [
       "<a href=http://postnauka.ru/video/17491\">http://postnauka.ru/video/17491</a>"
      ],
      "text/plain": [
       "<IPython.core.display.HTML object>"
      ]
     },
     "metadata": {},
     "output_type": "display_data"
    },
    {
     "data": {
      "text/html": [
       "<a href=http://postnauka.ru/video/20720\">http://postnauka.ru/video/20720</a>"
      ],
      "text/plain": [
       "<IPython.core.display.HTML object>"
      ]
     },
     "metadata": {},
     "output_type": "display_data"
    },
    {
     "data": {
      "text/html": [
       "<a href=http://postnauka.ru/video/6380\">http://postnauka.ru/video/6380</a>"
      ],
      "text/plain": [
       "<IPython.core.display.HTML object>"
      ]
     },
     "metadata": {},
     "output_type": "display_data"
    },
    {
     "data": {
      "text/html": [
       "<a href=http://postnauka.ru/video/17490\">http://postnauka.ru/video/17490</a>"
      ],
      "text/plain": [
       "<IPython.core.display.HTML object>"
      ]
     },
     "metadata": {},
     "output_type": "display_data"
    },
    {
     "data": {
      "text/html": [
       "<a href=http://postnauka.ru/video/50656\">http://postnauka.ru/video/50656</a>"
      ],
      "text/plain": [
       "<IPython.core.display.HTML object>"
      ]
     },
     "metadata": {},
     "output_type": "display_data"
    },
    {
     "data": {
      "text/html": [
       "<a href=http://postnauka.ru/video/20878\">http://postnauka.ru/video/20878</a>"
      ],
      "text/plain": [
       "<IPython.core.display.HTML object>"
      ]
     },
     "metadata": {},
     "output_type": "display_data"
    },
    {
     "data": {
      "text/html": [
       "<a href=http://postnauka.ru/video/15989\">http://postnauka.ru/video/15989</a>"
      ],
      "text/plain": [
       "<IPython.core.display.HTML object>"
      ]
     },
     "metadata": {},
     "output_type": "display_data"
    },
    {
     "data": {
      "text/html": [
       "<a href=http://postnauka.ru/video/51331\">http://postnauka.ru/video/51331</a>"
      ],
      "text/plain": [
       "<IPython.core.display.HTML object>"
      ]
     },
     "metadata": {},
     "output_type": "display_data"
    },
    {
     "data": {
      "text/html": [
       "<h2>Наука</h2>"
      ],
      "text/plain": [
       "<IPython.core.display.HTML object>"
      ]
     },
     "metadata": {},
     "output_type": "display_data"
    },
    {
     "data": {
      "text/html": [
       "<ul><li>['Валерий_Фокин', 'Валентин_Ненайденко', 'Александр_Беленький', 'Пётр_Турчин', 'Иван_Сорокин', 'Руслан_Смелянский', 'Александр_Апт', 'Алексей_Малашенко', 'Виктория_Битюкова', 'Александр_Габибов']</li></ul>"
      ],
      "text/plain": [
       "<IPython.core.display.HTML object>"
      ]
     },
     "metadata": {},
     "output_type": "display_data"
    },
    {
     "data": {
      "text/html": [
       "<a href=http://postnauka.ru/video/19069\">http://postnauka.ru/video/19069</a>"
      ],
      "text/plain": [
       "<IPython.core.display.HTML object>"
      ]
     },
     "metadata": {},
     "output_type": "display_data"
    },
    {
     "data": {
      "text/html": [
       "<a href=http://postnauka.ru/video/13700\">http://postnauka.ru/video/13700</a>"
      ],
      "text/plain": [
       "<IPython.core.display.HTML object>"
      ]
     },
     "metadata": {},
     "output_type": "display_data"
    },
    {
     "data": {
      "text/html": [
       "<a href=http://postnauka.ru/video/8632\">http://postnauka.ru/video/8632</a>"
      ],
      "text/plain": [
       "<IPython.core.display.HTML object>"
      ]
     },
     "metadata": {},
     "output_type": "display_data"
    },
    {
     "data": {
      "text/html": [
       "<a href=http://postnauka.ru/video/7771\">http://postnauka.ru/video/7771</a>"
      ],
      "text/plain": [
       "<IPython.core.display.HTML object>"
      ]
     },
     "metadata": {},
     "output_type": "display_data"
    },
    {
     "data": {
      "text/html": [
       "<a href=http://postnauka.ru/video/12373\">http://postnauka.ru/video/12373</a>"
      ],
      "text/plain": [
       "<IPython.core.display.HTML object>"
      ]
     },
     "metadata": {},
     "output_type": "display_data"
    },
    {
     "data": {
      "text/html": [
       "<a href=http://postnauka.ru/video/9144\">http://postnauka.ru/video/9144</a>"
      ],
      "text/plain": [
       "<IPython.core.display.HTML object>"
      ]
     },
     "metadata": {},
     "output_type": "display_data"
    },
    {
     "data": {
      "text/html": [
       "<a href=http://postnauka.ru/video/13151\">http://postnauka.ru/video/13151</a>"
      ],
      "text/plain": [
       "<IPython.core.display.HTML object>"
      ]
     },
     "metadata": {},
     "output_type": "display_data"
    },
    {
     "data": {
      "text/html": [
       "<a href=http://postnauka.ru/video/12172\">http://postnauka.ru/video/12172</a>"
      ],
      "text/plain": [
       "<IPython.core.display.HTML object>"
      ]
     },
     "metadata": {},
     "output_type": "display_data"
    },
    {
     "data": {
      "text/html": [
       "<a href=http://postnauka.ru/video/12259\">http://postnauka.ru/video/12259</a>"
      ],
      "text/plain": [
       "<IPython.core.display.HTML object>"
      ]
     },
     "metadata": {},
     "output_type": "display_data"
    },
    {
     "data": {
      "text/html": [
       "<a href=http://postnauka.ru/video/11646\">http://postnauka.ru/video/11646</a>"
      ],
      "text/plain": [
       "<IPython.core.display.HTML object>"
      ]
     },
     "metadata": {},
     "output_type": "display_data"
    },
    {
     "data": {
      "text/html": [
       "<h2>Квантовая физика</h2>"
      ],
      "text/plain": [
       "<IPython.core.display.HTML object>"
      ]
     },
     "metadata": {},
     "output_type": "display_data"
    },
    {
     "data": {
      "text/html": [
       "<ul><li>['Дмитрий_Казаков', 'Эмиль_Ахмедов', 'Михаил_Данилов', 'Алексей_Рубцов', 'Игорь_Волобуев', 'Наталья_Берлофф', 'Виктор_Брагута', 'Павел_Пахлов', 'Сергей_Демокритов', 'Сергей_Троицкий']</li></ul>"
      ],
      "text/plain": [
       "<IPython.core.display.HTML object>"
      ]
     },
     "metadata": {},
     "output_type": "display_data"
    },
    {
     "data": {
      "text/html": [
       "<a href=http://postnauka.ru/video/13043\">http://postnauka.ru/video/13043</a>"
      ],
      "text/plain": [
       "<IPython.core.display.HTML object>"
      ]
     },
     "metadata": {},
     "output_type": "display_data"
    },
    {
     "data": {
      "text/html": [
       "<a href=http://postnauka.ru/video/22760\">http://postnauka.ru/video/22760</a>"
      ],
      "text/plain": [
       "<IPython.core.display.HTML object>"
      ]
     },
     "metadata": {},
     "output_type": "display_data"
    },
    {
     "data": {
      "text/html": [
       "<a href=http://postnauka.ru/video/18873\">http://postnauka.ru/video/18873</a>"
      ],
      "text/plain": [
       "<IPython.core.display.HTML object>"
      ]
     },
     "metadata": {},
     "output_type": "display_data"
    },
    {
     "data": {
      "text/html": [
       "<a href=http://postnauka.ru/video/43677\">http://postnauka.ru/video/43677</a>"
      ],
      "text/plain": [
       "<IPython.core.display.HTML object>"
      ]
     },
     "metadata": {},
     "output_type": "display_data"
    },
    {
     "data": {
      "text/html": [
       "<a href=http://postnauka.ru/video/14283\">http://postnauka.ru/video/14283</a>"
      ],
      "text/plain": [
       "<IPython.core.display.HTML object>"
      ]
     },
     "metadata": {},
     "output_type": "display_data"
    },
    {
     "data": {
      "text/html": [
       "<a href=http://postnauka.ru/video/2945\">http://postnauka.ru/video/2945</a>"
      ],
      "text/plain": [
       "<IPython.core.display.HTML object>"
      ]
     },
     "metadata": {},
     "output_type": "display_data"
    },
    {
     "data": {
      "text/html": [
       "<a href=http://postnauka.ru/video/18870\">http://postnauka.ru/video/18870</a>"
      ],
      "text/plain": [
       "<IPython.core.display.HTML object>"
      ]
     },
     "metadata": {},
     "output_type": "display_data"
    },
    {
     "data": {
      "text/html": [
       "<a href=http://postnauka.ru/video/24434\">http://postnauka.ru/video/24434</a>"
      ],
      "text/plain": [
       "<IPython.core.display.HTML object>"
      ]
     },
     "metadata": {},
     "output_type": "display_data"
    },
    {
     "data": {
      "text/html": [
       "<a href=http://postnauka.ru/video/7311\">http://postnauka.ru/video/7311</a>"
      ],
      "text/plain": [
       "<IPython.core.display.HTML object>"
      ]
     },
     "metadata": {},
     "output_type": "display_data"
    },
    {
     "data": {
      "text/html": [
       "<a href=http://postnauka.ru/video/47826\">http://postnauka.ru/video/47826</a>"
      ],
      "text/plain": [
       "<IPython.core.display.HTML object>"
      ]
     },
     "metadata": {},
     "output_type": "display_data"
    },
    {
     "data": {
      "text/html": [
       "<h2>Война в России</h2>"
      ],
      "text/plain": [
       "<IPython.core.display.HTML object>"
      ]
     },
     "metadata": {},
     "output_type": "display_data"
    },
    {
     "data": {
      "text/html": [
       "<ul><li>['Кирилл_Кочегаров', 'Кирилл_Соловьев', 'Ирина_Бёме', 'Олег_Будницкий', 'Варвара_Добровольская', 'Сергей_Соколовский', 'Александр_Лаврентьев', 'Борис_Колоницкий', 'Борис_Морозов', 'Александр_Каменский']</li></ul>"
      ],
      "text/plain": [
       "<IPython.core.display.HTML object>"
      ]
     },
     "metadata": {},
     "output_type": "display_data"
    },
    {
     "data": {
      "text/html": [
       "<a href=http://postnauka.ru/video/35041\">http://postnauka.ru/video/35041</a>"
      ],
      "text/plain": [
       "<IPython.core.display.HTML object>"
      ]
     },
     "metadata": {},
     "output_type": "display_data"
    },
    {
     "data": {
      "text/html": [
       "<a href=http://postnauka.ru/video/29992\">http://postnauka.ru/video/29992</a>"
      ],
      "text/plain": [
       "<IPython.core.display.HTML object>"
      ]
     },
     "metadata": {},
     "output_type": "display_data"
    },
    {
     "data": {
      "text/html": [
       "<a href=http://postnauka.ru/video/26667\">http://postnauka.ru/video/26667</a>"
      ],
      "text/plain": [
       "<IPython.core.display.HTML object>"
      ]
     },
     "metadata": {},
     "output_type": "display_data"
    },
    {
     "data": {
      "text/html": [
       "<a href=http://postnauka.ru/video/32637\">http://postnauka.ru/video/32637</a>"
      ],
      "text/plain": [
       "<IPython.core.display.HTML object>"
      ]
     },
     "metadata": {},
     "output_type": "display_data"
    },
    {
     "data": {
      "text/html": [
       "<a href=http://postnauka.ru/video/46939\">http://postnauka.ru/video/46939</a>"
      ],
      "text/plain": [
       "<IPython.core.display.HTML object>"
      ]
     },
     "metadata": {},
     "output_type": "display_data"
    },
    {
     "data": {
      "text/html": [
       "<a href=http://postnauka.ru/video/41671\">http://postnauka.ru/video/41671</a>"
      ],
      "text/plain": [
       "<IPython.core.display.HTML object>"
      ]
     },
     "metadata": {},
     "output_type": "display_data"
    },
    {
     "data": {
      "text/html": [
       "<a href=http://postnauka.ru/video/42809\">http://postnauka.ru/video/42809</a>"
      ],
      "text/plain": [
       "<IPython.core.display.HTML object>"
      ]
     },
     "metadata": {},
     "output_type": "display_data"
    },
    {
     "data": {
      "text/html": [
       "<a href=http://postnauka.ru/video/25283\">http://postnauka.ru/video/25283</a>"
      ],
      "text/plain": [
       "<IPython.core.display.HTML object>"
      ]
     },
     "metadata": {},
     "output_type": "display_data"
    },
    {
     "data": {
      "text/html": [
       "<a href=http://postnauka.ru/video/30261\">http://postnauka.ru/video/30261</a>"
      ],
      "text/plain": [
       "<IPython.core.display.HTML object>"
      ]
     },
     "metadata": {},
     "output_type": "display_data"
    },
    {
     "data": {
      "text/html": [
       "<a href=http://postnauka.ru/video/34424\">http://postnauka.ru/video/34424</a>"
      ],
      "text/plain": [
       "<IPython.core.display.HTML object>"
      ]
     },
     "metadata": {},
     "output_type": "display_data"
    },
    {
     "data": {
      "text/html": [
       "<h2>Ювенология</h2>"
      ],
      "text/plain": [
       "<IPython.core.display.HTML object>"
      ]
     },
     "metadata": {},
     "output_type": "display_data"
    },
    {
     "data": {
      "text/html": [
       "<ul><li>['Катерина_Поливанова', 'Мария_Падун', 'Юрий_Яшков', 'Наталья_Харламенкова', 'Наталья_Кисельникова', 'Ольга_Исупова', 'Джеральд_де_Хаан', 'Мария_Медникова', 'Эмери_Браун', 'Владимир_Ковальзон']</li></ul>"
      ],
      "text/plain": [
       "<IPython.core.display.HTML object>"
      ]
     },
     "metadata": {},
     "output_type": "display_data"
    },
    {
     "data": {
      "text/html": [
       "<a href=http://postnauka.ru/video/22892\">http://postnauka.ru/video/22892</a>"
      ],
      "text/plain": [
       "<IPython.core.display.HTML object>"
      ]
     },
     "metadata": {},
     "output_type": "display_data"
    },
    {
     "data": {
      "text/html": [
       "<a href=http://postnauka.ru/video/22883\">http://postnauka.ru/video/22883</a>"
      ],
      "text/plain": [
       "<IPython.core.display.HTML object>"
      ]
     },
     "metadata": {},
     "output_type": "display_data"
    },
    {
     "data": {
      "text/html": [
       "<a href=http://postnauka.ru/video/11361\">http://postnauka.ru/video/11361</a>"
      ],
      "text/plain": [
       "<IPython.core.display.HTML object>"
      ]
     },
     "metadata": {},
     "output_type": "display_data"
    },
    {
     "data": {
      "text/html": [
       "<a href=http://postnauka.ru/video/60527\">http://postnauka.ru/video/60527</a>"
      ],
      "text/plain": [
       "<IPython.core.display.HTML object>"
      ]
     },
     "metadata": {},
     "output_type": "display_data"
    },
    {
     "data": {
      "text/html": [
       "<a href=http://postnauka.ru/video/57657\">http://postnauka.ru/video/57657</a>"
      ],
      "text/plain": [
       "<IPython.core.display.HTML object>"
      ]
     },
     "metadata": {},
     "output_type": "display_data"
    },
    {
     "data": {
      "text/html": [
       "<a href=http://postnauka.ru/video/30678\">http://postnauka.ru/video/30678</a>"
      ],
      "text/plain": [
       "<IPython.core.display.HTML object>"
      ]
     },
     "metadata": {},
     "output_type": "display_data"
    },
    {
     "data": {
      "text/html": [
       "<a href=http://postnauka.ru/video/29103\">http://postnauka.ru/video/29103</a>"
      ],
      "text/plain": [
       "<IPython.core.display.HTML object>"
      ]
     },
     "metadata": {},
     "output_type": "display_data"
    },
    {
     "data": {
      "text/html": [
       "<a href=http://postnauka.ru/video/30606\">http://postnauka.ru/video/30606</a>"
      ],
      "text/plain": [
       "<IPython.core.display.HTML object>"
      ]
     },
     "metadata": {},
     "output_type": "display_data"
    },
    {
     "data": {
      "text/html": [
       "<a href=http://postnauka.ru/video/25895\">http://postnauka.ru/video/25895</a>"
      ],
      "text/plain": [
       "<IPython.core.display.HTML object>"
      ]
     },
     "metadata": {},
     "output_type": "display_data"
    },
    {
     "data": {
      "text/html": [
       "<a href=http://postnauka.ru/video/59638\">http://postnauka.ru/video/59638</a>"
      ],
      "text/plain": [
       "<IPython.core.display.HTML object>"
      ]
     },
     "metadata": {},
     "output_type": "display_data"
    },
    {
     "data": {
      "text/html": [
       "<h2>Нейробиология</h2>"
      ],
      "text/plain": [
       "<IPython.core.display.HTML object>"
      ]
     },
     "metadata": {},
     "output_type": "display_data"
    },
    {
     "data": {
      "text/html": [
       "<ul><li>['Егор_Задереев', 'Филипп_Хайтович', 'Михаил_Бурцев', 'Дмитрий_Лось', 'Константин_Агладзе', 'Роман_Ефремов', 'Алишер_Тураев', 'Сергей_Яковенко', 'Александр_Петренко', 'Дмитрий_Дорохов']</li></ul>"
      ],
      "text/plain": [
       "<IPython.core.display.HTML object>"
      ]
     },
     "metadata": {},
     "output_type": "display_data"
    },
    {
     "data": {
      "text/html": [
       "<a href=http://postnauka.ru/video/16821\">http://postnauka.ru/video/16821</a>"
      ],
      "text/plain": [
       "<IPython.core.display.HTML object>"
      ]
     },
     "metadata": {},
     "output_type": "display_data"
    },
    {
     "data": {
      "text/html": [
       "<a href=http://postnauka.ru/video/17416\">http://postnauka.ru/video/17416</a>"
      ],
      "text/plain": [
       "<IPython.core.display.HTML object>"
      ]
     },
     "metadata": {},
     "output_type": "display_data"
    },
    {
     "data": {
      "text/html": [
       "<a href=http://postnauka.ru/video/36350\">http://postnauka.ru/video/36350</a>"
      ],
      "text/plain": [
       "<IPython.core.display.HTML object>"
      ]
     },
     "metadata": {},
     "output_type": "display_data"
    },
    {
     "data": {
      "text/html": [
       "<a href=http://postnauka.ru/video/23172\">http://postnauka.ru/video/23172</a>"
      ],
      "text/plain": [
       "<IPython.core.display.HTML object>"
      ]
     },
     "metadata": {},
     "output_type": "display_data"
    },
    {
     "data": {
      "text/html": [
       "<a href=http://postnauka.ru/video/13746\">http://postnauka.ru/video/13746</a>"
      ],
      "text/plain": [
       "<IPython.core.display.HTML object>"
      ]
     },
     "metadata": {},
     "output_type": "display_data"
    },
    {
     "data": {
      "text/html": [
       "<a href=http://postnauka.ru/video/8630\">http://postnauka.ru/video/8630</a>"
      ],
      "text/plain": [
       "<IPython.core.display.HTML object>"
      ]
     },
     "metadata": {},
     "output_type": "display_data"
    },
    {
     "data": {
      "text/html": [
       "<a href=http://postnauka.ru/video/42221\">http://postnauka.ru/video/42221</a>"
      ],
      "text/plain": [
       "<IPython.core.display.HTML object>"
      ]
     },
     "metadata": {},
     "output_type": "display_data"
    },
    {
     "data": {
      "text/html": [
       "<a href=http://postnauka.ru/video/59617\">http://postnauka.ru/video/59617</a>"
      ],
      "text/plain": [
       "<IPython.core.display.HTML object>"
      ]
     },
     "metadata": {},
     "output_type": "display_data"
    },
    {
     "data": {
      "text/html": [
       "<a href=http://postnauka.ru/video/33763\">http://postnauka.ru/video/33763</a>"
      ],
      "text/plain": [
       "<IPython.core.display.HTML object>"
      ]
     },
     "metadata": {},
     "output_type": "display_data"
    },
    {
     "data": {
      "text/html": [
       "<a href=http://postnauka.ru/video/7361\">http://postnauka.ru/video/7361</a>"
      ],
      "text/plain": [
       "<IPython.core.display.HTML object>"
      ]
     },
     "metadata": {},
     "output_type": "display_data"
    },
    {
     "data": {
      "text/html": [
       "<h2>Государства</h2>"
      ],
      "text/plain": [
       "<IPython.core.display.HTML object>"
      ]
     },
     "metadata": {},
     "output_type": "display_data"
    },
    {
     "data": {
      "text/html": [
       "<ul><li>['Дмитрий_Беляев', 'Марк_Ульянов', 'Георгий_Старостин', 'Наталья_Зубаревич', 'Дмитрий_Худяков', 'Ольга_Брилева', 'Нина_Сумбатова', 'Владимир_Каганский', 'Екатерина_Ларионова', 'Сергей_Серёгичев']</li></ul>"
      ],
      "text/plain": [
       "<IPython.core.display.HTML object>"
      ]
     },
     "metadata": {},
     "output_type": "display_data"
    },
    {
     "data": {
      "text/html": [
       "<a href=http://postnauka.ru/video/59201\">http://postnauka.ru/video/59201</a>"
      ],
      "text/plain": [
       "<IPython.core.display.HTML object>"
      ]
     },
     "metadata": {},
     "output_type": "display_data"
    },
    {
     "data": {
      "text/html": [
       "<a href=http://postnauka.ru/video/53171\">http://postnauka.ru/video/53171</a>"
      ],
      "text/plain": [
       "<IPython.core.display.HTML object>"
      ]
     },
     "metadata": {},
     "output_type": "display_data"
    },
    {
     "data": {
      "text/html": [
       "<a href=http://postnauka.ru/video/31705\">http://postnauka.ru/video/31705</a>"
      ],
      "text/plain": [
       "<IPython.core.display.HTML object>"
      ]
     },
     "metadata": {},
     "output_type": "display_data"
    },
    {
     "data": {
      "text/html": [
       "<a href=http://postnauka.ru/video/2957\">http://postnauka.ru/video/2957</a>"
      ],
      "text/plain": [
       "<IPython.core.display.HTML object>"
      ]
     },
     "metadata": {},
     "output_type": "display_data"
    },
    {
     "data": {
      "text/html": [
       "<a href=http://postnauka.ru/video/2527\">http://postnauka.ru/video/2527</a>"
      ],
      "text/plain": [
       "<IPython.core.display.HTML object>"
      ]
     },
     "metadata": {},
     "output_type": "display_data"
    },
    {
     "data": {
      "text/html": [
       "<a href=http://postnauka.ru/video/7755\">http://postnauka.ru/video/7755</a>"
      ],
      "text/plain": [
       "<IPython.core.display.HTML object>"
      ]
     },
     "metadata": {},
     "output_type": "display_data"
    },
    {
     "data": {
      "text/html": [
       "<a href=http://postnauka.ru/video/13156\">http://postnauka.ru/video/13156</a>"
      ],
      "text/plain": [
       "<IPython.core.display.HTML object>"
      ]
     },
     "metadata": {},
     "output_type": "display_data"
    },
    {
     "data": {
      "text/html": [
       "<a href=http://postnauka.ru/video/11642\">http://postnauka.ru/video/11642</a>"
      ],
      "text/plain": [
       "<IPython.core.display.HTML object>"
      ]
     },
     "metadata": {},
     "output_type": "display_data"
    },
    {
     "data": {
      "text/html": [
       "<a href=http://postnauka.ru/video/6377\">http://postnauka.ru/video/6377</a>"
      ],
      "text/plain": [
       "<IPython.core.display.HTML object>"
      ]
     },
     "metadata": {},
     "output_type": "display_data"
    },
    {
     "data": {
      "text/html": [
       "<a href=http://postnauka.ru/video/45458\">http://postnauka.ru/video/45458</a>"
      ],
      "text/plain": [
       "<IPython.core.display.HTML object>"
      ]
     },
     "metadata": {},
     "output_type": "display_data"
    },
    {
     "data": {
      "text/html": [
       "<h2>Астрономия</h2>"
      ],
      "text/plain": [
       "<IPython.core.display.HTML object>"
      ]
     },
     "metadata": {},
     "output_type": "display_data"
    },
    {
     "data": {
      "text/html": [
       "<ul><li>['Сергей_Попов', 'Анатолий_Засов', 'Алексей_Расторгуев', 'Ольга_Сильченко', 'Дмитрий_Вибе', 'Владимир_Сурдин', 'Михаил_Ревнивцев', 'Валерий_Сулейманов', 'Дмитрий_Горбунов', 'Олег_Верходанов']</li></ul>"
      ],
      "text/plain": [
       "<IPython.core.display.HTML object>"
      ]
     },
     "metadata": {},
     "output_type": "display_data"
    },
    {
     "data": {
      "text/html": [
       "<a href=http://postnauka.ru/video/6673\">http://postnauka.ru/video/6673</a>"
      ],
      "text/plain": [
       "<IPython.core.display.HTML object>"
      ]
     },
     "metadata": {},
     "output_type": "display_data"
    },
    {
     "data": {
      "text/html": [
       "<a href=http://postnauka.ru/video/58574\">http://postnauka.ru/video/58574</a>"
      ],
      "text/plain": [
       "<IPython.core.display.HTML object>"
      ]
     },
     "metadata": {},
     "output_type": "display_data"
    },
    {
     "data": {
      "text/html": [
       "<a href=http://postnauka.ru/video/31193\">http://postnauka.ru/video/31193</a>"
      ],
      "text/plain": [
       "<IPython.core.display.HTML object>"
      ]
     },
     "metadata": {},
     "output_type": "display_data"
    },
    {
     "data": {
      "text/html": [
       "<a href=http://postnauka.ru/video/17780\">http://postnauka.ru/video/17780</a>"
      ],
      "text/plain": [
       "<IPython.core.display.HTML object>"
      ]
     },
     "metadata": {},
     "output_type": "display_data"
    },
    {
     "data": {
      "text/html": [
       "<a href=http://postnauka.ru/video/30015\">http://postnauka.ru/video/30015</a>"
      ],
      "text/plain": [
       "<IPython.core.display.HTML object>"
      ]
     },
     "metadata": {},
     "output_type": "display_data"
    },
    {
     "data": {
      "text/html": [
       "<a href=http://postnauka.ru/video/31663\">http://postnauka.ru/video/31663</a>"
      ],
      "text/plain": [
       "<IPython.core.display.HTML object>"
      ]
     },
     "metadata": {},
     "output_type": "display_data"
    },
    {
     "data": {
      "text/html": [
       "<a href=http://postnauka.ru/video/2971\">http://postnauka.ru/video/2971</a>"
      ],
      "text/plain": [
       "<IPython.core.display.HTML object>"
      ]
     },
     "metadata": {},
     "output_type": "display_data"
    },
    {
     "data": {
      "text/html": [
       "<a href=http://postnauka.ru/video/57338\">http://postnauka.ru/video/57338</a>"
      ],
      "text/plain": [
       "<IPython.core.display.HTML object>"
      ]
     },
     "metadata": {},
     "output_type": "display_data"
    },
    {
     "data": {
      "text/html": [
       "<a href=http://postnauka.ru/video/29998\">http://postnauka.ru/video/29998</a>"
      ],
      "text/plain": [
       "<IPython.core.display.HTML object>"
      ]
     },
     "metadata": {},
     "output_type": "display_data"
    },
    {
     "data": {
      "text/html": [
       "<a href=http://postnauka.ru/video/48109\">http://postnauka.ru/video/48109</a>"
      ],
      "text/plain": [
       "<IPython.core.display.HTML object>"
      ]
     },
     "metadata": {},
     "output_type": "display_data"
    },
    {
     "data": {
      "text/html": [
       "<h2>Данные</h2>"
      ],
      "text/plain": [
       "<IPython.core.display.HTML object>"
      ]
     },
     "metadata": {},
     "output_type": "display_data"
    },
    {
     "data": {
      "text/html": [
       "<ul><li>['Мария_Фаликман', 'Игорь_Уточкин', 'Ольга_Сварник', 'Ольга_Тогоева', 'Павел_Балабан', 'Александр_Каплан', 'Иван_Луковников', 'Махзарин_Банаджи', 'Антон_Чижов', 'Станислав_Клименко']</li></ul>"
      ],
      "text/plain": [
       "<IPython.core.display.HTML object>"
      ]
     },
     "metadata": {},
     "output_type": "display_data"
    },
    {
     "data": {
      "text/html": [
       "<a href=http://postnauka.ru/video/7283\">http://postnauka.ru/video/7283</a>"
      ],
      "text/plain": [
       "<IPython.core.display.HTML object>"
      ]
     },
     "metadata": {},
     "output_type": "display_data"
    },
    {
     "data": {
      "text/html": [
       "<a href=http://postnauka.ru/video/24182\">http://postnauka.ru/video/24182</a>"
      ],
      "text/plain": [
       "<IPython.core.display.HTML object>"
      ]
     },
     "metadata": {},
     "output_type": "display_data"
    },
    {
     "data": {
      "text/html": [
       "<a href=http://postnauka.ru/video/5181\">http://postnauka.ru/video/5181</a>"
      ],
      "text/plain": [
       "<IPython.core.display.HTML object>"
      ]
     },
     "metadata": {},
     "output_type": "display_data"
    },
    {
     "data": {
      "text/html": [
       "<a href=http://postnauka.ru/video/53949\">http://postnauka.ru/video/53949</a>"
      ],
      "text/plain": [
       "<IPython.core.display.HTML object>"
      ]
     },
     "metadata": {},
     "output_type": "display_data"
    },
    {
     "data": {
      "text/html": [
       "<a href=http://postnauka.ru/video/10384\">http://postnauka.ru/video/10384</a>"
      ],
      "text/plain": [
       "<IPython.core.display.HTML object>"
      ]
     },
     "metadata": {},
     "output_type": "display_data"
    },
    {
     "data": {
      "text/html": [
       "<a href=http://postnauka.ru/video/23763\">http://postnauka.ru/video/23763</a>"
      ],
      "text/plain": [
       "<IPython.core.display.HTML object>"
      ]
     },
     "metadata": {},
     "output_type": "display_data"
    },
    {
     "data": {
      "text/html": [
       "<a href=http://postnauka.ru/video/17421\">http://postnauka.ru/video/17421</a>"
      ],
      "text/plain": [
       "<IPython.core.display.HTML object>"
      ]
     },
     "metadata": {},
     "output_type": "display_data"
    },
    {
     "data": {
      "text/html": [
       "<a href=http://postnauka.ru/video/9560\">http://postnauka.ru/video/9560</a>"
      ],
      "text/plain": [
       "<IPython.core.display.HTML object>"
      ]
     },
     "metadata": {},
     "output_type": "display_data"
    },
    {
     "data": {
      "text/html": [
       "<a href=http://postnauka.ru/video/19577\">http://postnauka.ru/video/19577</a>"
      ],
      "text/plain": [
       "<IPython.core.display.HTML object>"
      ]
     },
     "metadata": {},
     "output_type": "display_data"
    },
    {
     "data": {
      "text/html": [
       "<a href=http://postnauka.ru/video/50349\">http://postnauka.ru/video/50349</a>"
      ],
      "text/plain": [
       "<IPython.core.display.HTML object>"
      ]
     },
     "metadata": {},
     "output_type": "display_data"
    },
    {
     "data": {
      "text/html": [
       "<h2>Группы</h2>"
      ],
      "text/plain": [
       "<IPython.core.display.HTML object>"
      ]
     },
     "metadata": {},
     "output_type": "display_data"
    },
    {
     "data": {
      "text/html": [
       "<ul><li>['Станислав_Дробышевский', 'Виталий_Кушниров', 'Инга_Полетаева', 'Александр_Воеводский', 'Джефф_Лихтман', 'Митчел_Резник', 'Борис_Миркин', 'Михаил_Гельфанд', 'Владимир_Муронец', 'Сергей_Киселев']</li></ul>"
      ],
      "text/plain": [
       "<IPython.core.display.HTML object>"
      ]
     },
     "metadata": {},
     "output_type": "display_data"
    },
    {
     "data": {
      "text/html": [
       "<a href=http://postnauka.ru/video/32898\">http://postnauka.ru/video/32898</a>"
      ],
      "text/plain": [
       "<IPython.core.display.HTML object>"
      ]
     },
     "metadata": {},
     "output_type": "display_data"
    },
    {
     "data": {
      "text/html": [
       "<a href=http://postnauka.ru/video/31707\">http://postnauka.ru/video/31707</a>"
      ],
      "text/plain": [
       "<IPython.core.display.HTML object>"
      ]
     },
     "metadata": {},
     "output_type": "display_data"
    },
    {
     "data": {
      "text/html": [
       "<a href=http://postnauka.ru/video/42707\">http://postnauka.ru/video/42707</a>"
      ],
      "text/plain": [
       "<IPython.core.display.HTML object>"
      ]
     },
     "metadata": {},
     "output_type": "display_data"
    },
    {
     "data": {
      "text/html": [
       "<a href=http://postnauka.ru/video/42735\">http://postnauka.ru/video/42735</a>"
      ],
      "text/plain": [
       "<IPython.core.display.HTML object>"
      ]
     },
     "metadata": {},
     "output_type": "display_data"
    },
    {
     "data": {
      "text/html": [
       "<a href=http://postnauka.ru/video/40880\">http://postnauka.ru/video/40880</a>"
      ],
      "text/plain": [
       "<IPython.core.display.HTML object>"
      ]
     },
     "metadata": {},
     "output_type": "display_data"
    },
    {
     "data": {
      "text/html": [
       "<a href=http://postnauka.ru/video/31675\">http://postnauka.ru/video/31675</a>"
      ],
      "text/plain": [
       "<IPython.core.display.HTML object>"
      ]
     },
     "metadata": {},
     "output_type": "display_data"
    },
    {
     "data": {
      "text/html": [
       "<a href=http://postnauka.ru/video/37732\">http://postnauka.ru/video/37732</a>"
      ],
      "text/plain": [
       "<IPython.core.display.HTML object>"
      ]
     },
     "metadata": {},
     "output_type": "display_data"
    },
    {
     "data": {
      "text/html": [
       "<a href=http://postnauka.ru/video/35150\">http://postnauka.ru/video/35150</a>"
      ],
      "text/plain": [
       "<IPython.core.display.HTML object>"
      ]
     },
     "metadata": {},
     "output_type": "display_data"
    },
    {
     "data": {
      "text/html": [
       "<a href=http://postnauka.ru/video/36253\">http://postnauka.ru/video/36253</a>"
      ],
      "text/plain": [
       "<IPython.core.display.HTML object>"
      ]
     },
     "metadata": {},
     "output_type": "display_data"
    },
    {
     "data": {
      "text/html": [
       "<a href=http://postnauka.ru/video/14293\">http://postnauka.ru/video/14293</a>"
      ],
      "text/plain": [
       "<IPython.core.display.HTML object>"
      ]
     },
     "metadata": {},
     "output_type": "display_data"
    },
    {
     "data": {
      "text/html": [
       "<h2>Философия</h2>"
      ],
      "text/plain": [
       "<IPython.core.display.HTML object>"
      ]
     },
     "metadata": {},
     "output_type": "display_data"
    },
    {
     "data": {
      "text/html": [
       "<ul><li>['Алексей_Козырев', 'Илья_Женин', 'Кирилл_Мартынов', 'Кирилл_Титаев', 'Иван_Болдырев', 'Дина_Гусейнова', 'Дмитрий_Бовыкин', 'Денис_Новак', 'Петр_Резвых', 'Владимир_Малахов']</li></ul>"
      ],
      "text/plain": [
       "<IPython.core.display.HTML object>"
      ]
     },
     "metadata": {},
     "output_type": "display_data"
    },
    {
     "data": {
      "text/html": [
       "<a href=http://postnauka.ru/video/36581\">http://postnauka.ru/video/36581</a>"
      ],
      "text/plain": [
       "<IPython.core.display.HTML object>"
      ]
     },
     "metadata": {},
     "output_type": "display_data"
    },
    {
     "data": {
      "text/html": [
       "<a href=http://postnauka.ru/video/12371\">http://postnauka.ru/video/12371</a>"
      ],
      "text/plain": [
       "<IPython.core.display.HTML object>"
      ]
     },
     "metadata": {},
     "output_type": "display_data"
    },
    {
     "data": {
      "text/html": [
       "<a href=http://postnauka.ru/video/19574\">http://postnauka.ru/video/19574</a>"
      ],
      "text/plain": [
       "<IPython.core.display.HTML object>"
      ]
     },
     "metadata": {},
     "output_type": "display_data"
    },
    {
     "data": {
      "text/html": [
       "<a href=http://postnauka.ru/video/31688\">http://postnauka.ru/video/31688</a>"
      ],
      "text/plain": [
       "<IPython.core.display.HTML object>"
      ]
     },
     "metadata": {},
     "output_type": "display_data"
    },
    {
     "data": {
      "text/html": [
       "<a href=http://postnauka.ru/video/12738\">http://postnauka.ru/video/12738</a>"
      ],
      "text/plain": [
       "<IPython.core.display.HTML object>"
      ]
     },
     "metadata": {},
     "output_type": "display_data"
    },
    {
     "data": {
      "text/html": [
       "<a href=http://postnauka.ru/video/42423\">http://postnauka.ru/video/42423</a>"
      ],
      "text/plain": [
       "<IPython.core.display.HTML object>"
      ]
     },
     "metadata": {},
     "output_type": "display_data"
    },
    {
     "data": {
      "text/html": [
       "<a href=http://postnauka.ru/video/3418\">http://postnauka.ru/video/3418</a>"
      ],
      "text/plain": [
       "<IPython.core.display.HTML object>"
      ]
     },
     "metadata": {},
     "output_type": "display_data"
    },
    {
     "data": {
      "text/html": [
       "<a href=http://postnauka.ru/video/13159\">http://postnauka.ru/video/13159</a>"
      ],
      "text/plain": [
       "<IPython.core.display.HTML object>"
      ]
     },
     "metadata": {},
     "output_type": "display_data"
    },
    {
     "data": {
      "text/html": [
       "<a href=http://postnauka.ru/video/22087\">http://postnauka.ru/video/22087</a>"
      ],
      "text/plain": [
       "<IPython.core.display.HTML object>"
      ]
     },
     "metadata": {},
     "output_type": "display_data"
    },
    {
     "data": {
      "text/html": [
       "<a href=http://postnauka.ru/video/2526\">http://postnauka.ru/video/2526</a>"
      ],
      "text/plain": [
       "<IPython.core.display.HTML object>"
      ]
     },
     "metadata": {},
     "output_type": "display_data"
    },
    {
     "data": {
      "text/html": [
       "<h2>Лингвистика</h2>"
      ],
      "text/plain": [
       "<IPython.core.display.HTML object>"
      ]
     },
     "metadata": {},
     "output_type": "display_data"
    },
    {
     "data": {
      "text/html": [
       "<ul><li>['Александр_Пиперски', 'Владимир_Спиридонов', 'Дмитрий_Добровольский', 'Надежда_Онипенко', 'Светлана_Евграфова', 'Борис_Иомдин', 'Петр_Аркадьев', 'Анатолий_Баранов', 'Алексей_Шмелев', 'Екатерина_Лютикова']</li></ul>"
      ],
      "text/plain": [
       "<IPython.core.display.HTML object>"
      ]
     },
     "metadata": {},
     "output_type": "display_data"
    },
    {
     "data": {
      "text/html": [
       "<a href=http://postnauka.ru/video/36272\">http://postnauka.ru/video/36272</a>"
      ],
      "text/plain": [
       "<IPython.core.display.HTML object>"
      ]
     },
     "metadata": {},
     "output_type": "display_data"
    },
    {
     "data": {
      "text/html": [
       "<a href=http://postnauka.ru/video/56616\">http://postnauka.ru/video/56616</a>"
      ],
      "text/plain": [
       "<IPython.core.display.HTML object>"
      ]
     },
     "metadata": {},
     "output_type": "display_data"
    },
    {
     "data": {
      "text/html": [
       "<a href=http://postnauka.ru/video/48960\">http://postnauka.ru/video/48960</a>"
      ],
      "text/plain": [
       "<IPython.core.display.HTML object>"
      ]
     },
     "metadata": {},
     "output_type": "display_data"
    },
    {
     "data": {
      "text/html": [
       "<a href=http://postnauka.ru/video/50793\">http://postnauka.ru/video/50793</a>"
      ],
      "text/plain": [
       "<IPython.core.display.HTML object>"
      ]
     },
     "metadata": {},
     "output_type": "display_data"
    },
    {
     "data": {
      "text/html": [
       "<a href=http://postnauka.ru/video/1898\">http://postnauka.ru/video/1898</a>"
      ],
      "text/plain": [
       "<IPython.core.display.HTML object>"
      ]
     },
     "metadata": {},
     "output_type": "display_data"
    },
    {
     "data": {
      "text/html": [
       "<a href=http://postnauka.ru/video/57524\">http://postnauka.ru/video/57524</a>"
      ],
      "text/plain": [
       "<IPython.core.display.HTML object>"
      ]
     },
     "metadata": {},
     "output_type": "display_data"
    },
    {
     "data": {
      "text/html": [
       "<a href=http://postnauka.ru/video/46559\">http://postnauka.ru/video/46559</a>"
      ],
      "text/plain": [
       "<IPython.core.display.HTML object>"
      ]
     },
     "metadata": {},
     "output_type": "display_data"
    },
    {
     "data": {
      "text/html": [
       "<a href=http://postnauka.ru/video/51499\">http://postnauka.ru/video/51499</a>"
      ],
      "text/plain": [
       "<IPython.core.display.HTML object>"
      ]
     },
     "metadata": {},
     "output_type": "display_data"
    },
    {
     "data": {
      "text/html": [
       "<a href=http://postnauka.ru/video/56829\">http://postnauka.ru/video/56829</a>"
      ],
      "text/plain": [
       "<IPython.core.display.HTML object>"
      ]
     },
     "metadata": {},
     "output_type": "display_data"
    },
    {
     "data": {
      "text/html": [
       "<a href=http://postnauka.ru/video/47548\">http://postnauka.ru/video/47548</a>"
      ],
      "text/plain": [
       "<IPython.core.display.HTML object>"
      ]
     },
     "metadata": {},
     "output_type": "display_data"
    },
    {
     "data": {
      "text/html": [
       "<h2>Социология</h2>"
      ],
      "text/plain": [
       "<IPython.core.display.HTML object>"
      ]
     },
     "metadata": {},
     "output_type": "display_data"
    },
    {
     "data": {
      "text/html": [
       "<ul><li>['Михаил_Соколов', 'Галина_Зеленина', 'Василий_Жарков', 'Екатерина_Лапина-Кратасюк', 'Виктор_Вахштайн', 'Вера_Мильчина', 'Михаил_Маяцкий', 'Лев_Беклемишев', 'Екатерина_Щербакова', 'Армен_Сергеев']</li></ul>"
      ],
      "text/plain": [
       "<IPython.core.display.HTML object>"
      ]
     },
     "metadata": {},
     "output_type": "display_data"
    },
    {
     "data": {
      "text/html": [
       "<a href=http://postnauka.ru/video/9997\">http://postnauka.ru/video/9997</a>"
      ],
      "text/plain": [
       "<IPython.core.display.HTML object>"
      ]
     },
     "metadata": {},
     "output_type": "display_data"
    },
    {
     "data": {
      "text/html": [
       "<a href=http://postnauka.ru/video/12083\">http://postnauka.ru/video/12083</a>"
      ],
      "text/plain": [
       "<IPython.core.display.HTML object>"
      ]
     },
     "metadata": {},
     "output_type": "display_data"
    },
    {
     "data": {
      "text/html": [
       "<a href=http://postnauka.ru/video/11634\">http://postnauka.ru/video/11634</a>"
      ],
      "text/plain": [
       "<IPython.core.display.HTML object>"
      ]
     },
     "metadata": {},
     "output_type": "display_data"
    },
    {
     "data": {
      "text/html": [
       "<a href=http://postnauka.ru/video/55533\">http://postnauka.ru/video/55533</a>"
      ],
      "text/plain": [
       "<IPython.core.display.HTML object>"
      ]
     },
     "metadata": {},
     "output_type": "display_data"
    },
    {
     "data": {
      "text/html": [
       "<a href=http://postnauka.ru/video/54742\">http://postnauka.ru/video/54742</a>"
      ],
      "text/plain": [
       "<IPython.core.display.HTML object>"
      ]
     },
     "metadata": {},
     "output_type": "display_data"
    },
    {
     "data": {
      "text/html": [
       "<a href=http://postnauka.ru/video/30265\">http://postnauka.ru/video/30265</a>"
      ],
      "text/plain": [
       "<IPython.core.display.HTML object>"
      ]
     },
     "metadata": {},
     "output_type": "display_data"
    },
    {
     "data": {
      "text/html": [
       "<a href=http://postnauka.ru/video/25292\">http://postnauka.ru/video/25292</a>"
      ],
      "text/plain": [
       "<IPython.core.display.HTML object>"
      ]
     },
     "metadata": {},
     "output_type": "display_data"
    },
    {
     "data": {
      "text/html": [
       "<a href=http://postnauka.ru/video/48624\">http://postnauka.ru/video/48624</a>"
      ],
      "text/plain": [
       "<IPython.core.display.HTML object>"
      ]
     },
     "metadata": {},
     "output_type": "display_data"
    },
    {
     "data": {
      "text/html": [
       "<a href=http://postnauka.ru/video/22079\">http://postnauka.ru/video/22079</a>"
      ],
      "text/plain": [
       "<IPython.core.display.HTML object>"
      ]
     },
     "metadata": {},
     "output_type": "display_data"
    },
    {
     "data": {
      "text/html": [
       "<a href=http://postnauka.ru/video/51203\">http://postnauka.ru/video/51203</a>"
      ],
      "text/plain": [
       "<IPython.core.display.HTML object>"
      ]
     },
     "metadata": {},
     "output_type": "display_data"
    },
    {
     "data": {
      "text/html": [
       "<h2>Технологии</h2>"
      ],
      "text/plain": [
       "<IPython.core.display.HTML object>"
      ]
     },
     "metadata": {},
     "output_type": "display_data"
    },
    {
     "data": {
      "text/html": [
       "<ul><li>['ПостНаука', 'Александр_Сафонов', 'Алексей_Лебедев', 'Оксана_Запорожец', 'Елена_Брызгалина', 'Александр_Тормасов', 'Евгений_Хоров', 'Дарья_Радченко', 'Дэвид_Кларк', 'Деметрис_Зейналипур']</li></ul>"
      ],
      "text/plain": [
       "<IPython.core.display.HTML object>"
      ]
     },
     "metadata": {},
     "output_type": "display_data"
    },
    {
     "data": {
      "text/html": [
       "<a href=http://postnauka.ru/video/12515\">http://postnauka.ru/video/12515</a>"
      ],
      "text/plain": [
       "<IPython.core.display.HTML object>"
      ]
     },
     "metadata": {},
     "output_type": "display_data"
    },
    {
     "data": {
      "text/html": [
       "<a href=http://postnauka.ru/video/13742\">http://postnauka.ru/video/13742</a>"
      ],
      "text/plain": [
       "<IPython.core.display.HTML object>"
      ]
     },
     "metadata": {},
     "output_type": "display_data"
    },
    {
     "data": {
      "text/html": [
       "<a href=http://postnauka.ru/video/7068\">http://postnauka.ru/video/7068</a>"
      ],
      "text/plain": [
       "<IPython.core.display.HTML object>"
      ]
     },
     "metadata": {},
     "output_type": "display_data"
    },
    {
     "data": {
      "text/html": [
       "<a href=http://postnauka.ru/video/17604\">http://postnauka.ru/video/17604</a>"
      ],
      "text/plain": [
       "<IPython.core.display.HTML object>"
      ]
     },
     "metadata": {},
     "output_type": "display_data"
    },
    {
     "data": {
      "text/html": [
       "<a href=http://postnauka.ru/video/47301\">http://postnauka.ru/video/47301</a>"
      ],
      "text/plain": [
       "<IPython.core.display.HTML object>"
      ]
     },
     "metadata": {},
     "output_type": "display_data"
    },
    {
     "data": {
      "text/html": [
       "<a href=http://postnauka.ru/video/29812\">http://postnauka.ru/video/29812</a>"
      ],
      "text/plain": [
       "<IPython.core.display.HTML object>"
      ]
     },
     "metadata": {},
     "output_type": "display_data"
    },
    {
     "data": {
      "text/html": [
       "<a href=http://postnauka.ru/video/3422\">http://postnauka.ru/video/3422</a>"
      ],
      "text/plain": [
       "<IPython.core.display.HTML object>"
      ]
     },
     "metadata": {},
     "output_type": "display_data"
    },
    {
     "data": {
      "text/html": [
       "<a href=http://postnauka.ru/video/8313\">http://postnauka.ru/video/8313</a>"
      ],
      "text/plain": [
       "<IPython.core.display.HTML object>"
      ]
     },
     "metadata": {},
     "output_type": "display_data"
    },
    {
     "data": {
      "text/html": [
       "<a href=http://postnauka.ru/video/7541\">http://postnauka.ru/video/7541</a>"
      ],
      "text/plain": [
       "<IPython.core.display.HTML object>"
      ]
     },
     "metadata": {},
     "output_type": "display_data"
    },
    {
     "data": {
      "text/html": [
       "<a href=http://postnauka.ru/video/30026\">http://postnauka.ru/video/30026</a>"
      ],
      "text/plain": [
       "<IPython.core.display.HTML object>"
      ]
     },
     "metadata": {},
     "output_type": "display_data"
    },
    {
     "data": {
      "text/html": [
       "<h2>Альцгеймер</h2>"
      ],
      "text/plain": [
       "<IPython.core.display.HTML object>"
      ]
     },
     "metadata": {},
     "output_type": "display_data"
    },
    {
     "data": {
      "text/html": [
       "<ul><li>['Константин_Анохин', 'Алексей_Алексеев', 'Ярослав_Ашихмин', 'Алла_Ножевникова', 'Вера_Ижевская', 'Андрей_Лукашов', 'Владимир_Бобровников', 'Александр_Васильев', 'Сергей_Румянцев', 'Алексей_Чжао']</li></ul>"
      ],
      "text/plain": [
       "<IPython.core.display.HTML object>"
      ]
     },
     "metadata": {},
     "output_type": "display_data"
    },
    {
     "data": {
      "text/html": [
       "<a href=http://postnauka.ru/video/54325\">http://postnauka.ru/video/54325</a>"
      ],
      "text/plain": [
       "<IPython.core.display.HTML object>"
      ]
     },
     "metadata": {},
     "output_type": "display_data"
    },
    {
     "data": {
      "text/html": [
       "<a href=http://postnauka.ru/video/2541\">http://postnauka.ru/video/2541</a>"
      ],
      "text/plain": [
       "<IPython.core.display.HTML object>"
      ]
     },
     "metadata": {},
     "output_type": "display_data"
    },
    {
     "data": {
      "text/html": [
       "<a href=http://postnauka.ru/video/51384\">http://postnauka.ru/video/51384</a>"
      ],
      "text/plain": [
       "<IPython.core.display.HTML object>"
      ]
     },
     "metadata": {},
     "output_type": "display_data"
    },
    {
     "data": {
      "text/html": [
       "<a href=http://postnauka.ru/video/8953\">http://postnauka.ru/video/8953</a>"
      ],
      "text/plain": [
       "<IPython.core.display.HTML object>"
      ]
     },
     "metadata": {},
     "output_type": "display_data"
    },
    {
     "data": {
      "text/html": [
       "<a href=http://postnauka.ru/video/9994\">http://postnauka.ru/video/9994</a>"
      ],
      "text/plain": [
       "<IPython.core.display.HTML object>"
      ]
     },
     "metadata": {},
     "output_type": "display_data"
    },
    {
     "data": {
      "text/html": [
       "<a href=http://postnauka.ru/video/44263\">http://postnauka.ru/video/44263</a>"
      ],
      "text/plain": [
       "<IPython.core.display.HTML object>"
      ]
     },
     "metadata": {},
     "output_type": "display_data"
    },
    {
     "data": {
      "text/html": [
       "<a href=http://postnauka.ru/video/5179\">http://postnauka.ru/video/5179</a>"
      ],
      "text/plain": [
       "<IPython.core.display.HTML object>"
      ]
     },
     "metadata": {},
     "output_type": "display_data"
    },
    {
     "data": {
      "text/html": [
       "<a href=http://postnauka.ru/video/55539\">http://postnauka.ru/video/55539</a>"
      ],
      "text/plain": [
       "<IPython.core.display.HTML object>"
      ]
     },
     "metadata": {},
     "output_type": "display_data"
    },
    {
     "data": {
      "text/html": [
       "<a href=http://postnauka.ru/video/12974\">http://postnauka.ru/video/12974</a>"
      ],
      "text/plain": [
       "<IPython.core.display.HTML object>"
      ]
     },
     "metadata": {},
     "output_type": "display_data"
    },
    {
     "data": {
      "text/html": [
       "<a href=http://postnauka.ru/video/54916\">http://postnauka.ru/video/54916</a>"
      ],
      "text/plain": [
       "<IPython.core.display.HTML object>"
      ]
     },
     "metadata": {},
     "output_type": "display_data"
    },
    {
     "data": {
      "text/html": [
       "<h2>Объекты</h2>"
      ],
      "text/plain": [
       "<IPython.core.display.HTML object>"
      ]
     },
     "metadata": {},
     "output_type": "display_data"
    },
    {
     "data": {
      "text/html": [
       "<ul><li>['Виктор_Вахштайн', 'Дмитрий_Ветров', 'Светлана_Баньковская', 'Леонид_Иомдин', 'Рафаэль_Арутюнян', 'Александр_Дьяконов', 'Сезар_Идальго', 'Михаил_Эпштейн', 'Дэвид_Вайнберг', 'Джеффри_Шнапп']</li></ul>"
      ],
      "text/plain": [
       "<IPython.core.display.HTML object>"
      ]
     },
     "metadata": {},
     "output_type": "display_data"
    },
    {
     "data": {
      "text/html": [
       "<a href=http://postnauka.ru/video/32901\">http://postnauka.ru/video/32901</a>"
      ],
      "text/plain": [
       "<IPython.core.display.HTML object>"
      ]
     },
     "metadata": {},
     "output_type": "display_data"
    },
    {
     "data": {
      "text/html": [
       "<a href=http://postnauka.ru/video/11246\">http://postnauka.ru/video/11246</a>"
      ],
      "text/plain": [
       "<IPython.core.display.HTML object>"
      ]
     },
     "metadata": {},
     "output_type": "display_data"
    },
    {
     "data": {
      "text/html": [
       "<a href=http://postnauka.ru/video/55303\">http://postnauka.ru/video/55303</a>"
      ],
      "text/plain": [
       "<IPython.core.display.HTML object>"
      ]
     },
     "metadata": {},
     "output_type": "display_data"
    },
    {
     "data": {
      "text/html": [
       "<a href=http://postnauka.ru/video/49258\">http://postnauka.ru/video/49258</a>"
      ],
      "text/plain": [
       "<IPython.core.display.HTML object>"
      ]
     },
     "metadata": {},
     "output_type": "display_data"
    },
    {
     "data": {
      "text/html": [
       "<a href=http://postnauka.ru/video/3645\">http://postnauka.ru/video/3645</a>"
      ],
      "text/plain": [
       "<IPython.core.display.HTML object>"
      ]
     },
     "metadata": {},
     "output_type": "display_data"
    },
    {
     "data": {
      "text/html": [
       "<a href=http://postnauka.ru/video/37984\">http://postnauka.ru/video/37984</a>"
      ],
      "text/plain": [
       "<IPython.core.display.HTML object>"
      ]
     },
     "metadata": {},
     "output_type": "display_data"
    },
    {
     "data": {
      "text/html": [
       "<a href=http://postnauka.ru/video/11640\">http://postnauka.ru/video/11640</a>"
      ],
      "text/plain": [
       "<IPython.core.display.HTML object>"
      ]
     },
     "metadata": {},
     "output_type": "display_data"
    },
    {
     "data": {
      "text/html": [
       "<a href=http://postnauka.ru/video/53575\">http://postnauka.ru/video/53575</a>"
      ],
      "text/plain": [
       "<IPython.core.display.HTML object>"
      ]
     },
     "metadata": {},
     "output_type": "display_data"
    },
    {
     "data": {
      "text/html": [
       "<a href=http://postnauka.ru/video/32669\">http://postnauka.ru/video/32669</a>"
      ],
      "text/plain": [
       "<IPython.core.display.HTML object>"
      ]
     },
     "metadata": {},
     "output_type": "display_data"
    },
    {
     "data": {
      "text/html": [
       "<a href=http://postnauka.ru/video/48493\">http://postnauka.ru/video/48493</a>"
      ],
      "text/plain": [
       "<IPython.core.display.HTML object>"
      ]
     },
     "metadata": {},
     "output_type": "display_data"
    },
    {
     "data": {
      "text/html": [
       "<h2>Математика</h2>"
      ],
      "text/plain": [
       "<IPython.core.display.HTML object>"
      ]
     },
     "metadata": {},
     "output_type": "display_data"
    },
    {
     "data": {
      "text/html": [
       "<ul><li>['Илья_Щуров', 'Иван_Оселедец', 'Владимир_Кузнецов', 'Станислав_Протасов', 'Александр_Жданов', 'Елена_Гороховская', 'Александр_Жаворонков', 'Максим_Таланов', 'Игорь_Петров', 'Владимир_Редько']</li></ul>"
      ],
      "text/plain": [
       "<IPython.core.display.HTML object>"
      ]
     },
     "metadata": {},
     "output_type": "display_data"
    },
    {
     "data": {
      "text/html": [
       "<a href=http://postnauka.ru/video/52738\">http://postnauka.ru/video/52738</a>"
      ],
      "text/plain": [
       "<IPython.core.display.HTML object>"
      ]
     },
     "metadata": {},
     "output_type": "display_data"
    },
    {
     "data": {
      "text/html": [
       "<a href=http://postnauka.ru/video/42416\">http://postnauka.ru/video/42416</a>"
      ],
      "text/plain": [
       "<IPython.core.display.HTML object>"
      ]
     },
     "metadata": {},
     "output_type": "display_data"
    },
    {
     "data": {
      "text/html": [
       "<a href=http://postnauka.ru/video/34964\">http://postnauka.ru/video/34964</a>"
      ],
      "text/plain": [
       "<IPython.core.display.HTML object>"
      ]
     },
     "metadata": {},
     "output_type": "display_data"
    },
    {
     "data": {
      "text/html": [
       "<a href=http://postnauka.ru/video/2531\">http://postnauka.ru/video/2531</a>"
      ],
      "text/plain": [
       "<IPython.core.display.HTML object>"
      ]
     },
     "metadata": {},
     "output_type": "display_data"
    },
    {
     "data": {
      "text/html": [
       "<a href=http://postnauka.ru/video/2947\">http://postnauka.ru/video/2947</a>"
      ],
      "text/plain": [
       "<IPython.core.display.HTML object>"
      ]
     },
     "metadata": {},
     "output_type": "display_data"
    },
    {
     "data": {
      "text/html": [
       "<a href=http://postnauka.ru/video/31671\">http://postnauka.ru/video/31671</a>"
      ],
      "text/plain": [
       "<IPython.core.display.HTML object>"
      ]
     },
     "metadata": {},
     "output_type": "display_data"
    },
    {
     "data": {
      "text/html": [
       "<a href=http://postnauka.ru/video/15341\">http://postnauka.ru/video/15341</a>"
      ],
      "text/plain": [
       "<IPython.core.display.HTML object>"
      ]
     },
     "metadata": {},
     "output_type": "display_data"
    },
    {
     "data": {
      "text/html": [
       "<a href=http://postnauka.ru/video/37976\">http://postnauka.ru/video/37976</a>"
      ],
      "text/plain": [
       "<IPython.core.display.HTML object>"
      ]
     },
     "metadata": {},
     "output_type": "display_data"
    },
    {
     "data": {
      "text/html": [
       "<a href=http://postnauka.ru/video/3651\">http://postnauka.ru/video/3651</a>"
      ],
      "text/plain": [
       "<IPython.core.display.HTML object>"
      ]
     },
     "metadata": {},
     "output_type": "display_data"
    },
    {
     "data": {
      "text/html": [
       "<a href=http://postnauka.ru/video/9865\">http://postnauka.ru/video/9865</a>"
      ],
      "text/plain": [
       "<IPython.core.display.HTML object>"
      ]
     },
     "metadata": {},
     "output_type": "display_data"
    },
    {
     "data": {
      "text/html": [
       "<h2>История России</h2>"
      ],
      "text/plain": [
       "<IPython.core.display.HTML object>"
      ]
     },
     "metadata": {},
     "output_type": "display_data"
    },
    {
     "data": {
      "text/html": [
       "<ul><li>['Гасан_Гусейнов', 'Алексей_Муравьёв', 'Сергей_Неклюдов', 'Олег_Воскобойников', 'Мария_Штейнман', 'Олег_Лекманов', 'Ивар_Максутов', 'Владимир_Емельянов', 'Александр_Доброхотов', 'Иван_Ладынин']</li></ul>"
      ],
      "text/plain": [
       "<IPython.core.display.HTML object>"
      ]
     },
     "metadata": {},
     "output_type": "display_data"
    },
    {
     "data": {
      "text/html": [
       "<a href=http://postnauka.ru/video/3387\">http://postnauka.ru/video/3387</a>"
      ],
      "text/plain": [
       "<IPython.core.display.HTML object>"
      ]
     },
     "metadata": {},
     "output_type": "display_data"
    },
    {
     "data": {
      "text/html": [
       "<a href=http://postnauka.ru/video/9429\">http://postnauka.ru/video/9429</a>"
      ],
      "text/plain": [
       "<IPython.core.display.HTML object>"
      ]
     },
     "metadata": {},
     "output_type": "display_data"
    },
    {
     "data": {
      "text/html": [
       "<a href=http://postnauka.ru/video/11034\">http://postnauka.ru/video/11034</a>"
      ],
      "text/plain": [
       "<IPython.core.display.HTML object>"
      ]
     },
     "metadata": {},
     "output_type": "display_data"
    },
    {
     "data": {
      "text/html": [
       "<a href=http://postnauka.ru/video/12527\">http://postnauka.ru/video/12527</a>"
      ],
      "text/plain": [
       "<IPython.core.display.HTML object>"
      ]
     },
     "metadata": {},
     "output_type": "display_data"
    },
    {
     "data": {
      "text/html": [
       "<a href=http://postnauka.ru/video/10751\">http://postnauka.ru/video/10751</a>"
      ],
      "text/plain": [
       "<IPython.core.display.HTML object>"
      ]
     },
     "metadata": {},
     "output_type": "display_data"
    },
    {
     "data": {
      "text/html": [
       "<a href=http://postnauka.ru/video/10779\">http://postnauka.ru/video/10779</a>"
      ],
      "text/plain": [
       "<IPython.core.display.HTML object>"
      ]
     },
     "metadata": {},
     "output_type": "display_data"
    },
    {
     "data": {
      "text/html": [
       "<a href=http://postnauka.ru/video/5876\">http://postnauka.ru/video/5876</a>"
      ],
      "text/plain": [
       "<IPython.core.display.HTML object>"
      ]
     },
     "metadata": {},
     "output_type": "display_data"
    },
    {
     "data": {
      "text/html": [
       "<a href=http://postnauka.ru/video/2524\">http://postnauka.ru/video/2524</a>"
      ],
      "text/plain": [
       "<IPython.core.display.HTML object>"
      ]
     },
     "metadata": {},
     "output_type": "display_data"
    },
    {
     "data": {
      "text/html": [
       "<a href=http://postnauka.ru/video/10477\">http://postnauka.ru/video/10477</a>"
      ],
      "text/plain": [
       "<IPython.core.display.HTML object>"
      ]
     },
     "metadata": {},
     "output_type": "display_data"
    },
    {
     "data": {
      "text/html": [
       "<a href=http://postnauka.ru/video/49203\">http://postnauka.ru/video/49203</a>"
      ],
      "text/plain": [
       "<IPython.core.display.HTML object>"
      ]
     },
     "metadata": {},
     "output_type": "display_data"
    },
    {
     "data": {
      "text/html": [
       "<h2>Лингвистика</h2>"
      ],
      "text/plain": [
       "<IPython.core.display.HTML object>"
      ]
     },
     "metadata": {},
     "output_type": "display_data"
    },
    {
     "data": {
      "text/html": [
       "<ul><li>['Владимир_Плунгян', 'Андрей_Кибрик', 'Игорь_Исаев', 'Кирилл_Бабаев', 'Илья_Иткин', 'Григорий_Крейдлин', 'Владимир_Беликов', 'Мира_Бергельсон', 'Евгений_Зуев', 'Дмитрий_Дагаев']</li></ul>"
      ],
      "text/plain": [
       "<IPython.core.display.HTML object>"
      ]
     },
     "metadata": {},
     "output_type": "display_data"
    },
    {
     "data": {
      "text/html": [
       "<a href=http://postnauka.ru/video/10773\">http://postnauka.ru/video/10773</a>"
      ],
      "text/plain": [
       "<IPython.core.display.HTML object>"
      ]
     },
     "metadata": {},
     "output_type": "display_data"
    },
    {
     "data": {
      "text/html": [
       "<a href=http://postnauka.ru/video/8964\">http://postnauka.ru/video/8964</a>"
      ],
      "text/plain": [
       "<IPython.core.display.HTML object>"
      ]
     },
     "metadata": {},
     "output_type": "display_data"
    },
    {
     "data": {
      "text/html": [
       "<a href=http://postnauka.ru/video/13041\">http://postnauka.ru/video/13041</a>"
      ],
      "text/plain": [
       "<IPython.core.display.HTML object>"
      ]
     },
     "metadata": {},
     "output_type": "display_data"
    },
    {
     "data": {
      "text/html": [
       "<a href=http://postnauka.ru/video/48114\">http://postnauka.ru/video/48114</a>"
      ],
      "text/plain": [
       "<IPython.core.display.HTML object>"
      ]
     },
     "metadata": {},
     "output_type": "display_data"
    },
    {
     "data": {
      "text/html": [
       "<a href=http://postnauka.ru/video/6609\">http://postnauka.ru/video/6609</a>"
      ],
      "text/plain": [
       "<IPython.core.display.HTML object>"
      ]
     },
     "metadata": {},
     "output_type": "display_data"
    },
    {
     "data": {
      "text/html": [
       "<a href=http://postnauka.ru/video/51171\">http://postnauka.ru/video/51171</a>"
      ],
      "text/plain": [
       "<IPython.core.display.HTML object>"
      ]
     },
     "metadata": {},
     "output_type": "display_data"
    },
    {
     "data": {
      "text/html": [
       "<a href=http://postnauka.ru/video/15343\">http://postnauka.ru/video/15343</a>"
      ],
      "text/plain": [
       "<IPython.core.display.HTML object>"
      ]
     },
     "metadata": {},
     "output_type": "display_data"
    },
    {
     "data": {
      "text/html": [
       "<a href=http://postnauka.ru/video/40001\">http://postnauka.ru/video/40001</a>"
      ],
      "text/plain": [
       "<IPython.core.display.HTML object>"
      ]
     },
     "metadata": {},
     "output_type": "display_data"
    },
    {
     "data": {
      "text/html": [
       "<a href=http://postnauka.ru/video/14284\">http://postnauka.ru/video/14284</a>"
      ],
      "text/plain": [
       "<IPython.core.display.HTML object>"
      ]
     },
     "metadata": {},
     "output_type": "display_data"
    },
    {
     "data": {
      "text/html": [
       "<a href=http://postnauka.ru/video/57879\">http://postnauka.ru/video/57879</a>"
      ],
      "text/plain": [
       "<IPython.core.display.HTML object>"
      ]
     },
     "metadata": {},
     "output_type": "display_data"
    },
    {
     "data": {
      "text/html": [
       "<h2>Экономика</h2>"
      ],
      "text/plain": [
       "<IPython.core.display.HTML object>"
      ]
     },
     "metadata": {},
     "output_type": "display_data"
    },
    {
     "data": {
      "text/html": [
       "<ul><li>['Фуад_Алескеров', 'Олег_Хлевнюк', 'Алексей_Белянин', 'Сергей_Гуриев', 'Виктор_Полтерович', 'Сергей_Бобылев', 'Сергей_Пекарский', 'Владимир_Гимпельсон', 'Александр_Аузан', 'Сергей_Афонцев']</li></ul>"
      ],
      "text/plain": [
       "<IPython.core.display.HTML object>"
      ]
     },
     "metadata": {},
     "output_type": "display_data"
    },
    {
     "data": {
      "text/html": [
       "<a href=http://postnauka.ru/video/3605\">http://postnauka.ru/video/3605</a>"
      ],
      "text/plain": [
       "<IPython.core.display.HTML object>"
      ]
     },
     "metadata": {},
     "output_type": "display_data"
    },
    {
     "data": {
      "text/html": [
       "<a href=http://postnauka.ru/video/10380\">http://postnauka.ru/video/10380</a>"
      ],
      "text/plain": [
       "<IPython.core.display.HTML object>"
      ]
     },
     "metadata": {},
     "output_type": "display_data"
    },
    {
     "data": {
      "text/html": [
       "<a href=http://postnauka.ru/video/7781\">http://postnauka.ru/video/7781</a>"
      ],
      "text/plain": [
       "<IPython.core.display.HTML object>"
      ]
     },
     "metadata": {},
     "output_type": "display_data"
    },
    {
     "data": {
      "text/html": [
       "<a href=http://postnauka.ru/video/31684\">http://postnauka.ru/video/31684</a>"
      ],
      "text/plain": [
       "<IPython.core.display.HTML object>"
      ]
     },
     "metadata": {},
     "output_type": "display_data"
    },
    {
     "data": {
      "text/html": [
       "<a href=http://postnauka.ru/video/13152\">http://postnauka.ru/video/13152</a>"
      ],
      "text/plain": [
       "<IPython.core.display.HTML object>"
      ]
     },
     "metadata": {},
     "output_type": "display_data"
    },
    {
     "data": {
      "text/html": [
       "<a href=http://postnauka.ru/video/3627\">http://postnauka.ru/video/3627</a>"
      ],
      "text/plain": [
       "<IPython.core.display.HTML object>"
      ]
     },
     "metadata": {},
     "output_type": "display_data"
    },
    {
     "data": {
      "text/html": [
       "<a href=http://postnauka.ru/video/28278\">http://postnauka.ru/video/28278</a>"
      ],
      "text/plain": [
       "<IPython.core.display.HTML object>"
      ]
     },
     "metadata": {},
     "output_type": "display_data"
    },
    {
     "data": {
      "text/html": [
       "<a href=http://postnauka.ru/video/5882\">http://postnauka.ru/video/5882</a>"
      ],
      "text/plain": [
       "<IPython.core.display.HTML object>"
      ]
     },
     "metadata": {},
     "output_type": "display_data"
    },
    {
     "data": {
      "text/html": [
       "<a href=http://postnauka.ru/video/9389\">http://postnauka.ru/video/9389</a>"
      ],
      "text/plain": [
       "<IPython.core.display.HTML object>"
      ]
     },
     "metadata": {},
     "output_type": "display_data"
    },
    {
     "data": {
      "text/html": [
       "<a href=http://postnauka.ru/video/5465\">http://postnauka.ru/video/5465</a>"
      ],
      "text/plain": [
       "<IPython.core.display.HTML object>"
      ]
     },
     "metadata": {},
     "output_type": "display_data"
    },
    {
     "data": {
      "text/html": [
       "<h2>Генетика</h2>"
      ],
      "text/plain": [
       "<IPython.core.display.HTML object>"
      ]
     },
     "metadata": {},
     "output_type": "display_data"
    },
    {
     "data": {
      "text/html": [
       "<ul><li>['Евгений_Шеваль', 'Константин_Северинов', 'Максим_Франк-Каменецкий', 'Антон_Буздин', 'Петр_Федичев', 'Сергей_Киселев', 'Светлана_Боринская', 'Андрей_Летаров', 'Евгений_Куликов', 'Алексей_Кондрашов']</li></ul>"
      ],
      "text/plain": [
       "<IPython.core.display.HTML object>"
      ]
     },
     "metadata": {},
     "output_type": "display_data"
    },
    {
     "data": {
      "text/html": [
       "<a href=http://postnauka.ru/video/5915\">http://postnauka.ru/video/5915</a>"
      ],
      "text/plain": [
       "<IPython.core.display.HTML object>"
      ]
     },
     "metadata": {},
     "output_type": "display_data"
    },
    {
     "data": {
      "text/html": [
       "<a href=http://postnauka.ru/video/19436\">http://postnauka.ru/video/19436</a>"
      ],
      "text/plain": [
       "<IPython.core.display.HTML object>"
      ]
     },
     "metadata": {},
     "output_type": "display_data"
    },
    {
     "data": {
      "text/html": [
       "<a href=http://postnauka.ru/video/10754\">http://postnauka.ru/video/10754</a>"
      ],
      "text/plain": [
       "<IPython.core.display.HTML object>"
      ]
     },
     "metadata": {},
     "output_type": "display_data"
    },
    {
     "data": {
      "text/html": [
       "<a href=http://postnauka.ru/video/9854\">http://postnauka.ru/video/9854</a>"
      ],
      "text/plain": [
       "<IPython.core.display.HTML object>"
      ]
     },
     "metadata": {},
     "output_type": "display_data"
    },
    {
     "data": {
      "text/html": [
       "<a href=http://postnauka.ru/video/5390\">http://postnauka.ru/video/5390</a>"
      ],
      "text/plain": [
       "<IPython.core.display.HTML object>"
      ]
     },
     "metadata": {},
     "output_type": "display_data"
    },
    {
     "data": {
      "text/html": [
       "<a href=http://postnauka.ru/video/17051\">http://postnauka.ru/video/17051</a>"
      ],
      "text/plain": [
       "<IPython.core.display.HTML object>"
      ]
     },
     "metadata": {},
     "output_type": "display_data"
    },
    {
     "data": {
      "text/html": [
       "<a href=http://postnauka.ru/video/35051\">http://postnauka.ru/video/35051</a>"
      ],
      "text/plain": [
       "<IPython.core.display.HTML object>"
      ]
     },
     "metadata": {},
     "output_type": "display_data"
    },
    {
     "data": {
      "text/html": [
       "<a href=http://postnauka.ru/video/10475\">http://postnauka.ru/video/10475</a>"
      ],
      "text/plain": [
       "<IPython.core.display.HTML object>"
      ]
     },
     "metadata": {},
     "output_type": "display_data"
    },
    {
     "data": {
      "text/html": [
       "<a href=http://postnauka.ru/video/37537\">http://postnauka.ru/video/37537</a>"
      ],
      "text/plain": [
       "<IPython.core.display.HTML object>"
      ]
     },
     "metadata": {},
     "output_type": "display_data"
    },
    {
     "data": {
      "text/html": [
       "<a href=http://postnauka.ru/video/22764\">http://postnauka.ru/video/22764</a>"
      ],
      "text/plain": [
       "<IPython.core.display.HTML object>"
      ]
     },
     "metadata": {},
     "output_type": "display_data"
    },
    {
     "data": {
      "text/html": [
       "<h2>Исследования</h2>"
      ],
      "text/plain": [
       "<IPython.core.display.HTML object>"
      ]
     },
     "metadata": {},
     "output_type": "display_data"
    },
    {
     "data": {
      "text/html": [
       "<ul><li>['Владимир_Белотелов', 'Наталья_Ростиславлева', 'Илья_Шкредов', 'Анна_Дыбо', 'Евгений_Николаев', 'Михаил_Эльдаров', 'Владимир_Польшаков', 'Борис_Миркин', 'Александр_Дмитриев', 'Рой_Глаубер']</li></ul>"
      ],
      "text/plain": [
       "<IPython.core.display.HTML object>"
      ]
     },
     "metadata": {},
     "output_type": "display_data"
    },
    {
     "data": {
      "text/html": [
       "<a href=http://postnauka.ru/video/2973\">http://postnauka.ru/video/2973</a>"
      ],
      "text/plain": [
       "<IPython.core.display.HTML object>"
      ]
     },
     "metadata": {},
     "output_type": "display_data"
    },
    {
     "data": {
      "text/html": [
       "<a href=http://postnauka.ru/video/31198\">http://postnauka.ru/video/31198</a>"
      ],
      "text/plain": [
       "<IPython.core.display.HTML object>"
      ]
     },
     "metadata": {},
     "output_type": "display_data"
    },
    {
     "data": {
      "text/html": [
       "<a href=http://postnauka.ru/video/31200\">http://postnauka.ru/video/31200</a>"
      ],
      "text/plain": [
       "<IPython.core.display.HTML object>"
      ]
     },
     "metadata": {},
     "output_type": "display_data"
    },
    {
     "data": {
      "text/html": [
       "<a href=http://postnauka.ru/video/51380\">http://postnauka.ru/video/51380</a>"
      ],
      "text/plain": [
       "<IPython.core.display.HTML object>"
      ]
     },
     "metadata": {},
     "output_type": "display_data"
    },
    {
     "data": {
      "text/html": [
       "<a href=http://postnauka.ru/video/55756\">http://postnauka.ru/video/55756</a>"
      ],
      "text/plain": [
       "<IPython.core.display.HTML object>"
      ]
     },
     "metadata": {},
     "output_type": "display_data"
    },
    {
     "data": {
      "text/html": [
       "<a href=http://postnauka.ru/video/10473\">http://postnauka.ru/video/10473</a>"
      ],
      "text/plain": [
       "<IPython.core.display.HTML object>"
      ]
     },
     "metadata": {},
     "output_type": "display_data"
    },
    {
     "data": {
      "text/html": [
       "<a href=http://postnauka.ru/video/40889\">http://postnauka.ru/video/40889</a>"
      ],
      "text/plain": [
       "<IPython.core.display.HTML object>"
      ]
     },
     "metadata": {},
     "output_type": "display_data"
    },
    {
     "data": {
      "text/html": [
       "<a href=http://postnauka.ru/video/49445\">http://postnauka.ru/video/49445</a>"
      ],
      "text/plain": [
       "<IPython.core.display.HTML object>"
      ]
     },
     "metadata": {},
     "output_type": "display_data"
    },
    {
     "data": {
      "text/html": [
       "<a href=http://postnauka.ru/video/36221\">http://postnauka.ru/video/36221</a>"
      ],
      "text/plain": [
       "<IPython.core.display.HTML object>"
      ]
     },
     "metadata": {},
     "output_type": "display_data"
    },
    {
     "data": {
      "text/html": [
       "<a href=http://postnauka.ru/video/25119\">http://postnauka.ru/video/25119</a>"
      ],
      "text/plain": [
       "<IPython.core.display.HTML object>"
      ]
     },
     "metadata": {},
     "output_type": "display_data"
    },
    {
     "data": {
      "text/html": [
       "<h2>Фоновая тема</h2>"
      ],
      "text/plain": [
       "<IPython.core.display.HTML object>"
      ]
     },
     "metadata": {},
     "output_type": "display_data"
    },
    {
     "data": {
      "text/html": [
       "<ul><li>['Мария_Фаликман', 'Михаил_Соколов', 'Михаил_Гельфанд', 'Виталий_Куренной', 'Михаил_Алексеевский', 'Александр_Филиппов', 'Алексей_Миллер', 'Алексей_Маслов', 'Алексей_Акимов', 'Андрей_Зорин']</li></ul>"
      ],
      "text/plain": [
       "<IPython.core.display.HTML object>"
      ]
     },
     "metadata": {},
     "output_type": "display_data"
    },
    {
     "ename": "KeyError",
     "evalue": "'bcg'",
     "output_type": "error",
     "traceback": [
      "\u001b[1;31m---------------------------------------------------------------------------\u001b[0m",
      "\u001b[1;31mKeyError\u001b[0m                                  Traceback (most recent call last)",
      "\u001b[1;32m<ipython-input-182-e1737cf8fe00>\u001b[0m in \u001b[0;36m<module>\u001b[1;34m\u001b[0m\n\u001b[0;32m      2\u001b[0m     \u001b[0mdisplay\u001b[0m\u001b[1;33m(\u001b[0m\u001b[0mHTML\u001b[0m\u001b[1;33m(\u001b[0m\u001b[1;34mf\"<h2>{topic_labels[i]}</h2>\"\u001b[0m\u001b[1;33m)\u001b[0m\u001b[1;33m)\u001b[0m   \u001b[1;31m# также <h2>, <h3>\u001b[0m\u001b[1;33m\u001b[0m\u001b[1;33m\u001b[0m\u001b[0m\n\u001b[0;32m      3\u001b[0m     \u001b[0mdisplay\u001b[0m\u001b[1;33m(\u001b[0m\u001b[0mHTML\u001b[0m\u001b[1;33m(\u001b[0m\u001b[1;34mf\"<ul><li>{tokens[topic][:10]}</li></ul>\"\u001b[0m\u001b[1;33m)\u001b[0m\u001b[1;33m)\u001b[0m\u001b[1;33m\u001b[0m\u001b[1;33m\u001b[0m\u001b[0m\n\u001b[1;32m----> 4\u001b[1;33m     \u001b[1;32mfor\u001b[0m \u001b[0mj\u001b[0m \u001b[1;32min\u001b[0m \u001b[0mdict_a\u001b[0m\u001b[1;33m[\u001b[0m\u001b[0mtopic\u001b[0m\u001b[1;33m]\u001b[0m\u001b[1;33m:\u001b[0m\u001b[1;33m\u001b[0m\u001b[1;33m\u001b[0m\u001b[0m\n\u001b[0m\u001b[0;32m      5\u001b[0m         \u001b[0mdisplay\u001b[0m\u001b[1;33m(\u001b[0m\u001b[0mHTML\u001b[0m\u001b[1;33m(\u001b[0m\u001b[1;34mf'<a href={j}\">{j}</a>'\u001b[0m\u001b[1;33m)\u001b[0m\u001b[1;33m)\u001b[0m\u001b[1;33m\u001b[0m\u001b[1;33m\u001b[0m\u001b[0m\n",
      "\u001b[1;31mKeyError\u001b[0m: 'bcg'"
     ]
    }
   ],
   "source": [
    "for i, topic in enumerate(p_dt.index):    \n",
    "    display(HTML(f\"<h2>{topic_labels[i]}</h2>\"))   # также <h2>, <h3>\n",
    "    display(HTML(f\"<ul><li>{tokens[topic][:10]}</li></ul>\"))\n",
    "    for j in dict_a[topic]:\n",
    "        display(HTML(f'<a href={j}\">{j}</a>'))\n"
   ]
  },
  {
   "cell_type": "markdown",
   "metadata": {},
   "source": [
    "##### Заключение"
   ]
  },
  {
   "cell_type": "markdown",
   "metadata": {},
   "source": [
    "В этом Peer Review мы познакомились с базовыми возможностями библиотеки BigARTM и с методами визуализации тематических моделей. Визуализация тематических моделей - это широкая и активно развивающаяся область научных исследований. Мы рассмотрели только самые простые приемы. Желающие могут попробовать применить [Serendip](http://vep.cs.wisc.edu/serendip/#serendipHero), разработанный в  University of Wisconsin-Madison, к построенной модели. Эта библиотека позволяет максимально полно охарактеризовать темы и написана для языка python. \n",
    "\n",
    "Сделав задание, вы можете выбрать в навигаторе наиболее интересную для вас тему и посмотреть видеолекции :) На Постнауке очень много интересных материалов. "
   ]
  }
 ],
 "metadata": {
  "kernelspec": {
   "display_name": "Python 3",
   "language": "python",
   "name": "python3"
  },
  "language_info": {
   "codemirror_mode": {
    "name": "ipython",
    "version": 3
   },
   "file_extension": ".py",
   "mimetype": "text/x-python",
   "name": "python",
   "nbconvert_exporter": "python",
   "pygments_lexer": "ipython3",
   "version": "3.7.4"
  }
 },
 "nbformat": 4,
 "nbformat_minor": 4
}
