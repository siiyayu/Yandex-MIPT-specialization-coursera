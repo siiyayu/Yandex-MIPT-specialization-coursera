{
 "cells": [
  {
   "cell_type": "code",
   "execution_count": null,
   "metadata": {
    "_cell_guid": "23e2c9dd-6380-4c22-84c6-8fefcbb11e42",
    "_uuid": "3700778c58aa5c29f596dbcd2db246fc7c3d4e26"
   },
   "outputs": [],
   "source": [
    "# Import libraries and set desired options\n",
    "import numpy as np\n",
    "import pandas as pd\n",
    "from scipy.sparse import hstack\n",
    "from sklearn.feature_extraction.text import CountVectorizer\n",
    "from sklearn.model_selection import TimeSeriesSplit, cross_val_score, GridSearchCV\n",
    "from sklearn.metrics import roc_auc_score\n",
    "from sklearn.linear_model import LogisticRegression"
   ]
  },
  {
   "cell_type": "code",
   "execution_count": null,
   "metadata": {
    "_cell_guid": "ecbf2042-fb1a-45f0-8146-946af9e96581",
    "_uuid": "374a63e1b365554ef958e4323d043368d04254f4"
   },
   "outputs": [],
   "source": [
    "# A helper function for writing predictions to a file\n",
    "def write_to_submission_file(predicted_labels, out_file,\n",
    "                             target='target', index_label=\"session_id\"):\n",
    "    predicted_df = pd.DataFrame(predicted_labels,\n",
    "                                index = np.arange(1, predicted_labels.shape[0] + 1),\n",
    "                                columns=[target])\n",
    "    predicted_df.to_csv(out_file, index_label=index_label)"
   ]
  },
  {
   "cell_type": "markdown",
   "metadata": {
    "_cell_guid": "19017385-2dee-48d6-aab8-88738aff0219",
    "_uuid": "b6223fe90b6d5a8eb3eb57e1e0c85c0427794b74"
   },
   "source": [
    "**Read training and test sets, sort train set by session start time.**"
   ]
  },
  {
   "cell_type": "code",
   "execution_count": null,
   "metadata": {
    "_cell_guid": "6f004297-26fa-4cab-ab2e-8b02c98d6db6",
    "_uuid": "6289ed79d9fa6842e471768a491c1b237a8115a9"
   },
   "outputs": [],
   "source": [
    "train_df = pd.read_csv('../input/train_sessions.csv',\n",
    "                       index_col='session_id', parse_dates=['time1'])\n",
    "test_df = pd.read_csv('../input/test_sessions.csv',\n",
    "                      index_col='session_id', parse_dates=['time1'])\n",
    "\n",
    "# Sort the data by time\n",
    "train_df = train_df.sort_values(by='time1')\n",
    "\n",
    "# Look at the first rows of the training set\n",
    "train_df.head()"
   ]
  },
  {
   "cell_type": "markdown",
   "metadata": {
    "_cell_guid": "751b30ef-4415-4a47-b7da-384f0743e5d8",
    "_uuid": "c33465d7de6d53f48a4d589e5faee442e57de766"
   },
   "source": [
    "**Transform data into format which can be fed into `CountVectorizer`**"
   ]
  },
  {
   "cell_type": "code",
   "execution_count": null,
   "metadata": {
    "_cell_guid": "4f7668c3-0cfe-43cb-9fc5-c1b6e859c1bd",
    "_uuid": "48dfa730dd5292c50e981a7d0b864de5b3d55064"
   },
   "outputs": [],
   "source": [
    "sites = ['site%s' % i for i in range(1, 11)]\n",
    "train_df[sites].fillna(0).astype('int').to_csv('train_sessions_text.txt', \n",
    "                                               sep=' ', \n",
    "                       index=None, header=None)\n",
    "test_df[sites].fillna(0).astype('int').to_csv('test_sessions_text.txt', \n",
    "                                              sep=' ', \n",
    "                       index=None, header=None)"
   ]
  },
  {
   "cell_type": "code",
   "execution_count": null,
   "metadata": {
    "_cell_guid": "644cb326-b3ee-4cdf-bfc6-9b85514d44d0",
    "_uuid": "5a62e402a917618813559c77bec41b05a6bb532b"
   },
   "outputs": [],
   "source": [
    "!head -5 train_sessions_text.txt"
   ]
  },
  {
   "cell_type": "markdown",
   "metadata": {
    "_cell_guid": "fc4c15fa-02cb-416c-b274-023431b6e823",
    "_uuid": "c7bc62ef42363f0cad933383c84f92180c2bdad7"
   },
   "source": [
    "**Fit `CountVectorizer` and transfrom data with it.**"
   ]
  },
  {
   "cell_type": "code",
   "execution_count": null,
   "metadata": {
    "_cell_guid": "5c4b8b45-378d-4b30-b2a6-a38cf229ee62",
    "_uuid": "25e14c5d3e5e4f6319cae5d3e00e24e2d5eaf314"
   },
   "outputs": [],
   "source": [
    "%%time\n",
    "cv = CountVectorizer(ngram_range=(1, 3), max_features=50000)\n",
    "with open('train_sessions_text.txt') as inp_train_file:\n",
    "    X_train = cv.fit_transform(inp_train_file)\n",
    "with open('test_sessions_text.txt') as inp_test_file:\n",
    "    X_test = cv.transform(inp_test_file)\n",
    "X_train.shape, X_test.shape"
   ]
  },
  {
   "cell_type": "markdown",
   "metadata": {
    "_cell_guid": "05ab3add-fa37-430a-af2c-8b504417564f",
    "_uuid": "96853d529b7fc67f3a0975e5260c10defab591c6"
   },
   "source": [
    "**Save train targets into a separate vector.**"
   ]
  },
  {
   "cell_type": "code",
   "execution_count": null,
   "metadata": {
    "_cell_guid": "59c45cc6-ecdb-42cb-a7a6-9bce457c11d2",
    "_uuid": "e5a0439979e1b54b63362afaeecb03bdb32973a5"
   },
   "outputs": [],
   "source": [
    "y_train = train_df['target'].astype('int').values"
   ]
  },
  {
   "cell_type": "markdown",
   "metadata": {
    "_cell_guid": "3cf467b2-5d7f-446e-b45f-15963a1989e4",
    "_uuid": "a9e2d874aeb53cb0584ebb71963575b7fd0cda2e"
   },
   "source": [
    "**We'll be performing time series cross-validation, see `sklearn` [TimeSeriesSplit](http://scikit-learn.org/stable/modules/generated/sklearn.model_selection.TimeSeriesSplit.html) and [this dicussion](https://stats.stackexchange.com/questions/14099/using-k-fold-cross-validation-for-time-series-model-selection) on StackOverflow.**"
   ]
  },
  {
   "cell_type": "code",
   "execution_count": null,
   "metadata": {
    "_cell_guid": "1a91baf3-eba0-4492-847d-16ad167189b0",
    "_uuid": "d7b70a610910e0b71e792761b6b1048c92451f59"
   },
   "outputs": [],
   "source": [
    "time_split = TimeSeriesSplit(n_splits=10)"
   ]
  },
  {
   "cell_type": "markdown",
   "metadata": {
    "_cell_guid": "01c2d632-f7ad-4259-82be-d91d74f8704e",
    "_uuid": "6b82d6086e755db0677553c6876d771b94cb4651"
   },
   "source": [
    "<img src=\"https://habrastorage.org/webt/8i/5k/vx/8i5kvxrehatyvf-l3glz_-ymhtw.png\" />"
   ]
  },
  {
   "cell_type": "code",
   "execution_count": null,
   "metadata": {
    "_cell_guid": "64585091-3d43-46af-967c-8ff125f3220e",
    "_uuid": "568d144c5eb03da5aa80bed52bf28b7124cd850f"
   },
   "outputs": [],
   "source": [
    "[(el[0].shape, el[1].shape) for el in time_split.split(X_train)]"
   ]
  },
  {
   "cell_type": "markdown",
   "metadata": {
    "_cell_guid": "1bd79174-3310-49d7-a4bc-49ac259a536f",
    "_uuid": "ad06c65f030688745f3532a69fabe2a1ea3dca24"
   },
   "source": [
    "**Perform time series cross-validation with logistic regression.**"
   ]
  },
  {
   "cell_type": "code",
   "execution_count": null,
   "metadata": {
    "_cell_guid": "f551bcad-4033-4676-b973-b1ad63445758",
    "_uuid": "ef0d5313d605117d52eaf58068938f4f3f7637d0"
   },
   "outputs": [],
   "source": [
    "logit = LogisticRegression(C=1, random_state=17, solver='liblinear')"
   ]
  },
  {
   "cell_type": "code",
   "execution_count": null,
   "metadata": {
    "_cell_guid": "df8ac4aa-a7ab-4c77-a1a9-c7395b3fb94e",
    "_uuid": "970b8d837b6c0710b5a68b3c1e074609c4af83c0"
   },
   "outputs": [],
   "source": [
    "%%time\n",
    "\n",
    "cv_scores = cross_val_score(logit, X_train, y_train, cv=time_split, \n",
    "                            scoring='roc_auc', n_jobs=1) # hangs with n_jobs > 1, and locally this runs much faster"
   ]
  },
  {
   "cell_type": "code",
   "execution_count": null,
   "metadata": {
    "_cell_guid": "e42c7e3c-81d0-4ef9-9044-9efe75203c8a",
    "_uuid": "972260b63fca42a2299ed81ecc79424c72daede9"
   },
   "outputs": [],
   "source": [
    "cv_scores, cv_scores.mean()"
   ]
  },
  {
   "cell_type": "markdown",
   "metadata": {
    "_cell_guid": "06727411-34f3-470d-a4b2-d34418596b25",
    "_uuid": "21b7f1a146a68ca78265472e3b06f36b215a5ed0"
   },
   "source": [
    "**Train logistic regression with all training data, make predictions for test set and form a submission file.**"
   ]
  },
  {
   "cell_type": "code",
   "execution_count": null,
   "metadata": {
    "_cell_guid": "9b90f9c0-53e0-42ec-8c5c-6f9929e92aa7",
    "_uuid": "dadf87048162d3d3ee189060dd60be2c0f2e77ec"
   },
   "outputs": [],
   "source": [
    "logit.fit(X_train, y_train)"
   ]
  },
  {
   "cell_type": "code",
   "execution_count": null,
   "metadata": {
    "_cell_guid": "be494a66-0162-4436-bc85-d58f4ab32115",
    "_uuid": "76921322d696636415ac1af7f6d7cc9c9214cc1d"
   },
   "outputs": [],
   "source": [
    "logit_test_pred = logit.predict_proba(X_test)[:, 1]\n",
    "write_to_submission_file(logit_test_pred, 'subm1.csv') # 0.91288"
   ]
  },
  {
   "cell_type": "markdown",
   "metadata": {
    "_cell_guid": "c7e8b34f-622a-43c2-a96e-6d8554462909",
    "_uuid": "c39d7637b347303a7d8b4690209df466612bc091"
   },
   "source": [
    "**Now we'll add some time features: indicators of morning, day, evening and night.**"
   ]
  },
  {
   "cell_type": "code",
   "execution_count": null,
   "metadata": {
    "_cell_guid": "715d41f3-c9e3-4d68-a88c-f891d6778e34",
    "_uuid": "655cd4e2b4c02de492e27e32497a167cd367b42a"
   },
   "outputs": [],
   "source": [
    "def add_time_features(df, X_sparse):\n",
    "    hour = df['time1'].apply(lambda ts: ts.hour)\n",
    "    morning = ((hour >= 7) & (hour <= 11)).astype('int')\n",
    "    day = ((hour >= 12) & (hour <= 18)).astype('int')\n",
    "    evening = ((hour >= 19) & (hour <= 23)).astype('int')\n",
    "    night = ((hour >= 0) & (hour <= 6)).astype('int')\n",
    "    X = hstack([X_sparse, morning.values.reshape(-1, 1), \n",
    "                day.values.reshape(-1, 1), evening.values.reshape(-1, 1), \n",
    "                night.values.reshape(-1, 1)])\n",
    "    return X"
   ]
  },
  {
   "cell_type": "code",
   "execution_count": null,
   "metadata": {
    "_cell_guid": "d8fcb47c-da2e-4e15-9709-5aa229921218",
    "_uuid": "8a83601a9b588f2355f177ce024c02afc525f2d4"
   },
   "outputs": [],
   "source": [
    "%%time\n",
    "X_train_new = add_time_features(train_df.fillna(0), X_train)\n",
    "X_test_new = add_time_features(test_df.fillna(0), X_test)"
   ]
  },
  {
   "cell_type": "code",
   "execution_count": null,
   "metadata": {
    "_cell_guid": "d9fdcac1-1d8c-4dfa-a66a-4959b2721220",
    "_uuid": "e0c45ca5734de9a6c1c77fdbaaaf8c171c8a98e5"
   },
   "outputs": [],
   "source": [
    "X_train_new.shape, X_test_new.shape"
   ]
  },
  {
   "cell_type": "markdown",
   "metadata": {
    "_cell_guid": "fd672328-d191-4571-9261-6dbf47327662",
    "_uuid": "47aef7e554ccd06c681f21d0b545b2e71185e892"
   },
   "source": [
    "**Performing time series cross-validation, we see an improvement in ROC AUC.**"
   ]
  },
  {
   "cell_type": "code",
   "execution_count": null,
   "metadata": {
    "_cell_guid": "26a6c177-df90-4223-9932-88c2b50d40a6",
    "_uuid": "03a563edcf9d3608555043ca37703fa042b1d374"
   },
   "outputs": [],
   "source": [
    "%%time\n",
    "cv_scores = cross_val_score(logit, X_train_new, y_train, cv=time_split, \n",
    "                            scoring='roc_auc', n_jobs=1) # hangs with n_jobs > 1, and locally this runs much faster"
   ]
  },
  {
   "cell_type": "code",
   "execution_count": null,
   "metadata": {
    "_cell_guid": "b5777028-2d0f-4dd9-986d-429e064e583d",
    "_uuid": "29d4570115bf0ab4ed186b6bef825f026e2ab806"
   },
   "outputs": [],
   "source": [
    "cv_scores, cv_scores.mean()"
   ]
  },
  {
   "cell_type": "markdown",
   "metadata": {
    "_cell_guid": "a80ed291-6875-4744-9655-2a10325f1b87",
    "_uuid": "a404a026f0ca758b9125c3e618ef274296f0201b"
   },
   "source": [
    "**Making a new submission, we notice a leaderboard score improvement as well (0.91288 ->  0.93843). Correlated CV and LB improvements is a good justifications for added features being useful and CV scheme being correct.**"
   ]
  },
  {
   "cell_type": "code",
   "execution_count": null,
   "metadata": {
    "_cell_guid": "93046ebd-136b-4d8a-8e5e-0916698a585c",
    "_uuid": "18b9946b223b657e1dad9b74a1b440a602040a0f"
   },
   "outputs": [],
   "source": [
    "logit.fit(X_train_new, y_train)"
   ]
  },
  {
   "cell_type": "code",
   "execution_count": null,
   "metadata": {
    "_cell_guid": "bf1507b7-4c43-4744-aea1-75e08aad2c94",
    "_uuid": "dfe6545afb7249a673751a72ec2f83d303170ae4"
   },
   "outputs": [],
   "source": [
    "logit_test_pred2 = logit.predict_proba(X_test_new)[:, 1]\n",
    "write_to_submission_file(logit_test_pred2, 'subm2.csv') # 0.93843"
   ]
  },
  {
   "cell_type": "markdown",
   "metadata": {
    "_cell_guid": "a31636b5-b091-404a-b931-ccb27f16155c",
    "_uuid": "8eb5b865b8ed63de0e6d3be9afbf2f926dd6aa0d"
   },
   "source": [
    "**Now we tune regularization parameter `C`.**"
   ]
  },
  {
   "cell_type": "code",
   "execution_count": null,
   "metadata": {
    "_cell_guid": "21c5cbda-bd32-423b-8b33-8bd06a020709",
    "_uuid": "703759cbdc1feea447fb42799190394a47c5c52b"
   },
   "outputs": [],
   "source": [
    "c_values = np.logspace(-2, 2, 10)\n",
    "\n",
    "logit_grid_searcher = GridSearchCV(estimator=logit, param_grid={'C': c_values},\n",
    "                                  scoring='roc_auc', n_jobs=1, cv=time_split, verbose=1)"
   ]
  },
  {
   "cell_type": "code",
   "execution_count": null,
   "metadata": {
    "_cell_guid": "fcc3a01d-68e5-471e-90a3-c234e77bd5a5",
    "_uuid": "4db046159d3772daf9332edf463836ec621cd3b6"
   },
   "outputs": [],
   "source": [
    "%%time\n",
    "logit_grid_searcher.fit(X_train_new, y_train) # WTF? Locally, it's 3min 30s"
   ]
  },
  {
   "cell_type": "code",
   "execution_count": null,
   "metadata": {
    "_cell_guid": "2169876c-84e3-4819-8823-d5f7640a2afc",
    "_uuid": "1297778f5db0180674f2bd717a794968c08a33a6"
   },
   "outputs": [],
   "source": [
    "logit_grid_searcher.best_score_, logit_grid_searcher.best_params_"
   ]
  },
  {
   "cell_type": "code",
   "execution_count": null,
   "metadata": {
    "_cell_guid": "6bb550b1-9af9-45e3-90f1-e8230d4319d9",
    "_uuid": "c9a6f9c949140ec0ba8d7fd4b088eb07ac58f563"
   },
   "outputs": [],
   "source": [
    "logit_test_pred3 = logit_grid_searcher.predict_proba(X_test_new)[:, 1]\n",
    "write_to_submission_file(logit_test_pred3, 'subm3.csv') # 0.94242"
   ]
  },
  {
   "cell_type": "markdown",
   "metadata": {
    "_cell_guid": "12f51768-8240-4fa0-855d-537d42e5b9f5",
    "_uuid": "2d8377f93751a084830a14d8048b91f3cca0b537"
   },
   "source": [
    "**Again, we notice an improvement in both cross-validation score and LB score. Now that you've settled a correct cross-validation scheme, go on with feature engineering! Good luck!**"
   ]
  }
 ],
 "metadata": {
  "kernelspec": {
   "display_name": "Python 3",
   "language": "python",
   "name": "python3"
  },
  "language_info": {
   "codemirror_mode": {
    "name": "ipython",
    "version": 3
   },
   "file_extension": ".py",
   "mimetype": "text/x-python",
   "name": "python",
   "nbconvert_exporter": "python",
   "pygments_lexer": "ipython3",
   "version": "3.7.7"
  }
 },
 "nbformat": 4,
 "nbformat_minor": 4
}
