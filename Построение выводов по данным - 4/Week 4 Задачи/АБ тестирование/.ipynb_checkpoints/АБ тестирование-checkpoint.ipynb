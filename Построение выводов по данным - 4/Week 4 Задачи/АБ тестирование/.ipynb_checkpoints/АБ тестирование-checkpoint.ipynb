{
 "cells": [
  {
   "cell_type": "markdown",
   "metadata": {},
   "source": [
    "## Анализ результатов АБ-теста\n"
   ]
  },
  {
   "cell_type": "markdown",
   "metadata": {},
   "source": [
    "В данном задании вам нужно будет\n",
    "* проанализировать АБ тест, проведенный на реальных пользователях Яндекса\n",
    "* подтвердить или опровергнуть наличие изменений в пользовательском поведении между контрольной (control) и тестовой (exp) группами\n",
    "* определить характер этих изменений и практическую значимость вводимого изменения\n",
    "понять, какая из пользовательских групп более всего проигрывает / выигрывает от тестируемого изменения (локализовать изменение)\n",
    "\n",
    "Описание данных:\n",
    "* userID: уникальный идентификатор пользователя\n",
    "* browser: браузер, который использовал userID\n",
    "* slot: в каком статусе пользователь участвовал в исследовании (exp = видел измененную страницу, control = видел неизменную страницу)\n",
    "* n_clicks: количество кликов, которые пользоваль совершил за n_queries\n",
    "* n_queries: количество запросов, который совершил userID, пользуясь браузером browser\n",
    "* n_nonclk_queries: количество запросов пользователя, в которых им не было совершено ни одного клика\n",
    "\n",
    "Обращаем ваше внимание, что не все люди используют только один браузер, поэтому в столбце userID есть повторяющиеся идентификаторы. В предлагаемых данных уникальным является сочетание userID и browser.\n",
    "\n",
    "Основная метрика, на которой мы сосредоточимся в этой работе, — это количество пользовательских кликов на web-странице в зависимости от тестируемого изменения этой страницы.\n",
    "\n",
    "Посчитайте, насколько в группе exp больше пользовательских кликов по сравнению с группой control в процентах от числа кликов в контрольной группе.\n",
    "\n",
    "Полученный процент округлите до третьего знака после точки.\n"
   ]
  },
  {
   "cell_type": "code",
   "execution_count": null,
   "metadata": {},
   "outputs": [],
   "source": [
    "import pandas as pd\n",
    "import numpy as np"
   ]
  },
  {
   "cell_type": "code",
   "execution_count": null,
   "metadata": {},
   "outputs": [],
   "source": [
    "data = pd.read_csv('ab_browser_test.csv')\n",
    "print(\"data shape: \", data.shape)\n",
    "data.head()"
   ]
  },
  {
   "cell_type": "code",
   "execution_count": null,
   "metadata": {},
   "outputs": [],
   "source": [
    "sum_n_clicks_control = sum(data[data.slot == 'control'].n_clicks)\n",
    "sum_n_clicks_exp = sum(data[data.slot == 'exp'].n_clicks)\n",
    "print(sum_n_clicks_control, sum_n_clicks_exp)"
   ]
  },
  {
   "cell_type": "code",
   "execution_count": 15,
   "metadata": {},
   "outputs": [
    {
     "data": {
      "text/plain": [
       "1.614"
      ]
     },
     "execution_count": 15,
     "metadata": {},
     "output_type": "execute_result"
    }
   ],
   "source": [
    "ans = sum_n_clicks_exp*100/sum_n_clicks_control\n",
    "np.round(ans - 100, 3)"
   ]
  },
  {
   "cell_type": "markdown",
   "metadata": {},
   "source": [
    "Давайте попробуем посмотреть более внимательно на разницу между двумя группами (control и exp) относительно количества пользовательских кликов.\n",
    "\n",
    "Для этого постройте с помощью бутстрепа 95% доверительный интервал для средних значений и медиан количества кликов в каждой из двух групп. Отметьте все верные утверждения."
   ]
  },
  {
   "cell_type": "code",
   "execution_count": 16,
   "metadata": {},
   "outputs": [],
   "source": [
    "def get_bootstrap_samples(data, n_samples):\n",
    "    indices = np.random.randint(0, len(data), (n_samples, len(data)))\n",
    "    samples = data[indices]\n",
    "    return samples\n",
    "def stat_intervals(stat, alpha):\n",
    "    boundaries = np.percentile(stat, [100 * alpha / 2., 100 * (1 - alpha / 2.)])\n",
    "    return boundaries"
   ]
  },
  {
   "cell_type": "code",
   "execution_count": 17,
   "metadata": {},
   "outputs": [
    {
     "name": "stdout",
     "output_type": "stream",
     "text": [
      "95% confidence interval for the control n_clicks: [4. 4.]\n",
      "95% confidence interval for the exp n_clicks: [5. 5.]\n",
      "difference between medians: -1.0\n",
      "95% confidence interval for the difference between medians [-1. -1.]\n"
     ]
    }
   ],
   "source": [
    "np.random.seed(0)\n",
    "\n",
    "n_clicks_control = data[data.slot == 'control'].n_clicks.values\n",
    "n_clicks_exp = data[data.slot == 'exp'].n_clicks.values\n",
    "\n",
    "\n",
    "control_median_scores = list(map(np.median, get_bootstrap_samples(n_clicks_control, 1000)))\n",
    "exp_median_scores = list(map(np.median, get_bootstrap_samples(n_clicks_exp, 1000)))\n",
    "\n",
    "print(\"95% confidence interval for the control n_clicks:\",  stat_intervals(control_median_scores, 0.05))\n",
    "print(\"95% confidence interval for the exp n_clicks:\",  stat_intervals(exp_median_scores, 0.05))\n",
    "print(\"difference between medians:\", np.median(n_clicks_control) - np.median(n_clicks_exp))\n",
    "\n",
    "delta_median_scores = list(map(lambda x: x[0] - x[1], zip(control_median_scores, exp_median_scores)))\n",
    "print(\"95% confidence interval for the difference between medians\",  stat_intervals(delta_median_scores, 0.05))"
   ]
  },
  {
   "cell_type": "code",
   "execution_count": 18,
   "metadata": {},
   "outputs": [
    {
     "name": "stdout",
     "output_type": "stream",
     "text": [
      "95% confidence interval for the control n_clicks: [11.20679809 11.35869615]\n",
      "95% confidence interval for the exp n_clicks: [11.50965481 11.65920804]\n",
      "difference between means: -0.3030947340656329\n",
      "95% confidence interval for the difference between means [-0.40880383 -0.1980987 ]\n"
     ]
    }
   ],
   "source": [
    "n_clicks_control = data[data.slot == 'control'].n_clicks.values\n",
    "n_clicks_exp = data[data.slot == 'exp'].n_clicks.values\n",
    "\n",
    "\n",
    "control_mean_scores = list(map(np.mean, get_bootstrap_samples(n_clicks_control, 1000)))\n",
    "exp_mean_scores = list(map(np.mean, get_bootstrap_samples(n_clicks_exp, 1000)))\n",
    "\n",
    "print(\"95% confidence interval for the control n_clicks:\",  stat_intervals(control_mean_scores, 0.05))\n",
    "print(\"95% confidence interval for the exp n_clicks:\",  stat_intervals(exp_mean_scores, 0.05))\n",
    "print(\"difference between means:\", np.mean(n_clicks_control) - np.mean(n_clicks_exp))\n",
    "\n",
    "delta_mean_scores = list(map(lambda x: x[0] - x[1], zip(control_mean_scores, exp_mean_scores)))\n",
    "print(\"95% confidence interval for the difference between means\",  stat_intervals(delta_mean_scores, 0.05))"
   ]
  },
  {
   "cell_type": "code",
   "execution_count": 22,
   "metadata": {},
   "outputs": [
    {
     "data": {
      "text/plain": [
       "array([12,  4, 22, ...,  4,  4,  3])"
      ]
     },
     "execution_count": 22,
     "metadata": {},
     "output_type": "execute_result"
    }
   ],
   "source": [
    "n_clicks  = np.hstack((n_clicks_control, n_clicks_exp))\n",
    "n_clicks"
   ]
  },
  {
   "cell_type": "code",
   "execution_count": 24,
   "metadata": {},
   "outputs": [
    {
     "name": "stdout",
     "output_type": "stream",
     "text": [
      "95% confidence interval for the united n_clicks: [11.38001176 11.48318057]\n"
     ]
    }
   ],
   "source": [
    "mean_scores = list(map(np.mean, get_bootstrap_samples(n_clicks, 1000)))\n",
    "print(\"95% confidence interval for the united n_clicks:\",  stat_intervals(mean_scores, 0.05)) ##bullshit?"
   ]
  },
  {
   "cell_type": "code",
   "execution_count": 25,
   "metadata": {},
   "outputs": [
    {
     "data": {
      "image/png": "[encoded data removed]",
      "text/plain": [
       "<Figure size 432x288 with 1 Axes>"
      ]
     },
     "metadata": {
      "needs_background": "light"
     },
     "output_type": "display_data"
    }
   ],
   "source": [
    "import matplotlib.pyplot as plt\n",
    "plt.hist(n_clicks_control, bins = 80)\n",
    "plt.show()"
   ]
  },
  {
   "cell_type": "code",
   "execution_count": 21,
   "metadata": {},
   "outputs": [
    {
     "data": {
      "text/plain": [
       "((array([494.42976641, 494.61921974, 494.72195324, ..., 503.27804676,\n",
       "         503.38078026, 503.57023359]),\n",
       "  array([  0,   0,   0, ..., 627, 773, 863])),\n",
       " (14.864475170767367, -7406.092203952593, 0.7328783997528364))"
      ]
     },
     "execution_count": 21,
     "metadata": {},
     "output_type": "execute_result"
    },
    {
     "data": {
      "image/png": "[encoded data removed]",
      "text/plain": [
       "<Figure size 432x288 with 1 Axes>"
      ]
     },
     "metadata": {
      "needs_background": "light"
     },
     "output_type": "display_data"
    }
   ],
   "source": [
    "from scipy import stats\n",
    "stats.probplot(n_clicks_control, dist=\"norm\", sparams=(n_boot_samples-1), plot=plt)"
   ]
  },
  {
   "cell_type": "markdown",
   "metadata": {},
   "source": [
    "<image src=\"image.png\">\n",
    "    \n",
    "Простое доказательство необходимости и достаточности этого требования можно посмотреть в самом последнем абзаце этого вопроса. Усвоение этого доказательства не обязательно для выполнения задания.\n",
    "\n",
    "Оба этих предположения можно проверить с помощью бутстрепа. Ограничимся сейчас только контрольной группой, в которой распределение кликов будем называть данными в рамках данного вопроса.\n",
    "\n",
    "Поскольку мы не знаем истинного распределения генеральной совокупности, мы можем применить бутстреп, чтобы понять, как распределены среднее значение и выборочная дисперсия. Для этого\n",
    "\n",
    "Получите из данных n_boot_samples псевдовыборок.\n",
    "По каждой из этих выборок посчитайте среднее и сумму квадратов отклонения от выборочного среднего (control_boot_chi_squared)\n",
    "Для получившегося вектора средних значений из n_boot_samples постройте q-q plot с помощью scipy.stats.probplot для нормального распределения\n",
    "Для получившегося вектора сумм квадратов отклонения от выборочного среднего постройте qq-plot с помощью scipy.stats.probplot для хи-квадрат распределения с помощью команды\n",
    "    \n",
    "В качестве ответа отметьте верные утвердения о значениях R^2\n",
    " , которые генерирует scipy.stats.probplot при отображении qq-графиков: одно c графика для среднего и одно с графика для выборочной суммы квадратов отклонения от выборочной суммы.\n",
    "\n"
   ]
  },
  {
   "cell_type": "code",
   "execution_count": 11,
   "metadata": {},
   "outputs": [
    {
     "ename": "NameError",
     "evalue": "name 'get_bootstrap_samples' is not defined",
     "output_type": "error",
     "traceback": [
      "\u001b[0;31m---------------------------------------------------------------------------\u001b[0m",
      "\u001b[0;31mNameError\u001b[0m                                 Traceback (most recent call last)",
      "\u001b[0;32m<ipython-input-11-06aa8841eb72>\u001b[0m in \u001b[0;36m<module>\u001b[0;34m\u001b[0m\n\u001b[1;32m      1\u001b[0m \u001b[0mnp\u001b[0m\u001b[0;34m.\u001b[0m\u001b[0mrandom\u001b[0m\u001b[0;34m.\u001b[0m\u001b[0mseed\u001b[0m\u001b[0;34m(\u001b[0m\u001b[0;36m0\u001b[0m\u001b[0;34m)\u001b[0m\u001b[0;34m\u001b[0m\u001b[0;34m\u001b[0m\u001b[0m\n\u001b[1;32m      2\u001b[0m \u001b[0mn_boot_samples\u001b[0m \u001b[0;34m=\u001b[0m \u001b[0;36m500\u001b[0m\u001b[0;34m\u001b[0m\u001b[0;34m\u001b[0m\u001b[0m\n\u001b[0;32m----> 3\u001b[0;31m \u001b[0mn_clicks_control_bootstrap\u001b[0m \u001b[0;34m=\u001b[0m  \u001b[0mget_bootstrap_samples\u001b[0m\u001b[0;34m(\u001b[0m\u001b[0mn_clicks_control\u001b[0m\u001b[0;34m,\u001b[0m \u001b[0mn_boot_samples\u001b[0m\u001b[0;34m)\u001b[0m\u001b[0;34m\u001b[0m\u001b[0;34m\u001b[0m\u001b[0m\n\u001b[0m\u001b[1;32m      4\u001b[0m \u001b[0mn_clicks_control_bootstrap_means\u001b[0m \u001b[0;34m=\u001b[0m \u001b[0mnp\u001b[0m\u001b[0;34m.\u001b[0m\u001b[0mmean\u001b[0m\u001b[0;34m(\u001b[0m\u001b[0mn_clicks_control_bootstrap\u001b[0m\u001b[0;34m,\u001b[0m \u001b[0maxis\u001b[0m \u001b[0;34m=\u001b[0m \u001b[0;36m1\u001b[0m\u001b[0;34m)\u001b[0m\u001b[0;34m\u001b[0m\u001b[0;34m\u001b[0m\u001b[0m\n\u001b[1;32m      5\u001b[0m \u001b[0mcontrol_boot_chi_squared\u001b[0m \u001b[0;34m=\u001b[0m \u001b[0msum\u001b[0m\u001b[0;34m(\u001b[0m\u001b[0;34m(\u001b[0m\u001b[0mn_clicks_control_bootstrap\u001b[0m \u001b[0;34m-\u001b[0m \u001b[0mn_clicks_control_bootstrap_means\u001b[0m\u001b[0;34m.\u001b[0m\u001b[0mreshape\u001b[0m\u001b[0;34m(\u001b[0m\u001b[0mn_boot_samples\u001b[0m\u001b[0;34m,\u001b[0m \u001b[0;36m1\u001b[0m\u001b[0;34m)\u001b[0m\u001b[0;34m)\u001b[0m\u001b[0;34m**\u001b[0m\u001b[0;36m2\u001b[0m\u001b[0;34m)\u001b[0m\u001b[0;34m\u001b[0m\u001b[0;34m\u001b[0m\u001b[0m\n",
      "\u001b[0;31mNameError\u001b[0m: name 'get_bootstrap_samples' is not defined"
     ]
    }
   ],
   "source": [
    "np.random.seed(0)\n",
    "n_boot_samples = 500\n",
    "n_clicks_control_bootstrap =  get_bootstrap_samples(n_clicks_control, n_boot_samples)\n",
    "n_clicks_control_bootstrap_means = np.mean(n_clicks_control_bootstrap, axis = 1)\n",
    "control_boot_chi_squared = sum((n_clicks_control_bootstrap - n_clicks_control_bootstrap_means.reshape(n_boot_samples, 1))**2)"
   ]
  },
  {
   "cell_type": "code",
   "execution_count": 99,
   "metadata": {},
   "outputs": [
    {
     "data": {
      "text/plain": [
       "((array([496.00790142, 496.28984073, 496.44837459, 496.56078615,\n",
       "         496.64886689, 496.72177909, 496.78427733, 496.83915848,\n",
       "         496.88821233, 496.93265597, 496.97335597, 497.01095206,\n",
       "         497.04593046, 497.07866967, 497.10947035, 497.13857541,\n",
       "         497.16618407, 497.1924618 , 497.2175476 , 497.24155939,\n",
       "         497.26459814, 497.28675096, 497.30809357, 497.3286922 ,\n",
       "         497.34860517, 497.36788405, 497.38657472, 497.40471817,\n",
       "         497.42235117, 497.43950686, 497.45621519, 497.47250333,\n",
       "         497.48839601, 497.50391582, 497.51908341, 497.53391776,\n",
       "         497.54843633, 497.56265521, 497.57658929, 497.59025236,\n",
       "         497.60365721, 497.61681574, 497.62973905, 497.64243747,\n",
       "         497.65492068, 497.66719774, 497.67927713, 497.69116683,\n",
       "         497.70287433, 497.71440669, 497.72577056, 497.73697222,\n",
       "         497.74801761, 497.75891232, 497.76966169, 497.78027074,\n",
       "         497.79074426, 497.80108678, 497.81130262, 497.82139589,\n",
       "         497.8313705 , 497.84123017, 497.85097846, 497.86061877,\n",
       "         497.87015434, 497.87958827, 497.88892352, 497.89816293,\n",
       "         497.90730923, 497.91636502, 497.92533281, 497.93421499,\n",
       "         497.94301388, 497.95173169, 497.96037054, 497.9689325 ,\n",
       "         497.97741954, 497.98583355, 497.99417636, 498.00244975,\n",
       "         498.01065542, 498.018795  , 498.0268701 , 498.03488223,\n",
       "         498.04283288, 498.05072347, 498.05855541, 498.06633002,\n",
       "         498.0740486 , 498.0817124 , 498.08932265, 498.09688051,\n",
       "         498.10438714, 498.11184363, 498.11925107, 498.1266105 ,\n",
       "         498.13392292, 498.14118932, 498.14841066, 498.15558786,\n",
       "         498.16272182, 498.16981342, 498.17686352, 498.18387294,\n",
       "         498.19084249, 498.19777295, 498.20466509, 498.21151966,\n",
       "         498.21833739, 498.22511897, 498.2318651 , 498.23857645,\n",
       "         498.24525368, 498.25189743, 498.25850831, 498.26508696,\n",
       "         498.27163394, 498.27814986, 498.28463527, 498.29109073,\n",
       "         498.29751678, 498.30391396, 498.31028277, 498.31662373,\n",
       "         498.32293733, 498.32922406, 498.33548438, 498.34171877,\n",
       "         498.34792768, 498.35411155, 498.36027083, 498.36640592,\n",
       "         498.37251726, 498.37860526, 498.38467031, 498.39071281,\n",
       "         498.39673314, 498.40273169, 498.40870883, 498.41466491,\n",
       "         498.4206003 , 498.42651535, 498.4324104 , 498.43828579,\n",
       "         498.44414186, 498.44997892, 498.45579731, 498.46159733,\n",
       "         498.46737929, 498.4731435 , 498.47889026, 498.48461986,\n",
       "         498.4903326 , 498.49602874, 498.50170858, 498.50737239,\n",
       "         498.51302045, 498.51865301, 498.52427034, 498.5298727 ,\n",
       "         498.53546034, 498.54103351, 498.54659247, 498.55213745,\n",
       "         498.55766869, 498.56318643, 498.56869091, 498.57418235,\n",
       "         498.57966098, 498.58512702, 498.59058069, 498.59602221,\n",
       "         498.6014518 , 498.60686966, 498.61227601, 498.61767105,\n",
       "         498.62305498, 498.62842801, 498.63379033, 498.63914214,\n",
       "         498.64448364, 498.64981501, 498.65513645, 498.66044814,\n",
       "         498.66575027, 498.67104302, 498.67632656, 498.68160109,\n",
       "         498.68686678, 498.69212379, 498.69737231, 498.70261251,\n",
       "         498.70784456, 498.71306862, 498.71828486, 498.72349344,\n",
       "         498.72869454, 498.7338883 , 498.7390749 , 498.74425449,\n",
       "         498.74942723, 498.75459327, 498.75975277, 498.76490588,\n",
       "         498.77005275, 498.77519355, 498.7803284 , 498.78545748,\n",
       "         498.79058091, 498.79569885, 498.80081145, 498.80591885,\n",
       "         498.81102118, 498.81611861, 498.82121126, 498.82629927,\n",
       "         498.8313828 , 498.83646197, 498.84153692, 498.8466078 ,\n",
       "         498.85167473, 498.85673787, 498.86179733, 498.86685325,\n",
       "         498.87190577, 498.87695503, 498.88200115, 498.88704427,\n",
       "         498.89208452, 498.89712202, 498.90215692, 498.90718934,\n",
       "         498.91221941, 498.91724726, 498.92227301, 498.92729681,\n",
       "         498.93231877, 498.93733902, 498.9423577 , 498.94737492,\n",
       "         498.95239083, 498.95740553, 498.96241916, 498.96743185,\n",
       "         498.97244372, 498.97745489, 498.9824655 , 498.98747567,\n",
       "         498.99248553, 498.9974952 , 499.0025048 , 499.00751447,\n",
       "         499.01252433, 499.0175345 , 499.02254511, 499.02755628,\n",
       "         499.03256815, 499.03758084, 499.04259447, 499.04760917,\n",
       "         499.05262508, 499.0576423 , 499.06266098, 499.06768123,\n",
       "         499.07270319, 499.07772699, 499.08275274, 499.08778059,\n",
       "         499.09281066, 499.09784308, 499.10287798, 499.10791548,\n",
       "         499.11295573, 499.11799885, 499.12304497, 499.12809423,\n",
       "         499.13314675, 499.13820267, 499.14326213, 499.14832527,\n",
       "         499.1533922 , 499.15846308, 499.16353803, 499.1686172 ,\n",
       "         499.17370073, 499.17878874, 499.18388139, 499.18897882,\n",
       "         499.19408115, 499.19918855, 499.20430115, 499.20941909,\n",
       "         499.21454252, 499.2196716 , 499.22480645, 499.22994725,\n",
       "         499.23509412, 499.24024723, 499.24540673, 499.25057277,\n",
       "         499.25574551, 499.2609251 , 499.2661117 , 499.27130546,\n",
       "         499.27650656, 499.28171514, 499.28693138, 499.29215544,\n",
       "         499.29738749, 499.30262769, 499.30787621, 499.31313322,\n",
       "         499.31839891, 499.32367344, 499.32895698, 499.33424973,\n",
       "         499.33955186, 499.34486355, 499.35018499, 499.35551636,\n",
       "         499.36085786, 499.36620967, 499.37157199, 499.37694502,\n",
       "         499.38232895, 499.38772399, 499.39313034, 499.3985482 ,\n",
       "         499.40397779, 499.40941931, 499.41487298, 499.42033902,\n",
       "         499.42581765, 499.43130909, 499.43681357, 499.44233131,\n",
       "         499.44786255, 499.45340753, 499.45896649, 499.46453966,\n",
       "         499.4701273 , 499.47572966, 499.48134699, 499.48697955,\n",
       "         499.49262761, 499.49829142, 499.50397126, 499.5096674 ,\n",
       "         499.51538014, 499.52110974, 499.5268565 , 499.53262071,\n",
       "         499.53840267, 499.54420269, 499.55002108, 499.55585814,\n",
       "         499.56171421, 499.5675896 , 499.57348465, 499.5793997 ,\n",
       "         499.58533509, 499.59129117, 499.59726831, 499.60326686,\n",
       "         499.60928719, 499.61532969, 499.62139474, 499.62748274,\n",
       "         499.63359408, 499.63972917, 499.64588845, 499.65207232,\n",
       "         499.65828123, 499.66451562, 499.67077594, 499.67706267,\n",
       "         499.68337627, 499.68971723, 499.69608604, 499.70248322,\n",
       "         499.70890927, 499.71536473, 499.72185014, 499.72836606,\n",
       "         499.73491304, 499.74149169, 499.74810257, 499.75474632,\n",
       "         499.76142355, 499.7681349 , 499.77488103, 499.78166261,\n",
       "         499.78848034, 499.79533491, 499.80222705, 499.80915751,\n",
       "         499.81612706, 499.82313648, 499.83018658, 499.83727818,\n",
       "         499.84441214, 499.85158934, 499.85881068, 499.86607708,\n",
       "         499.8733895 , 499.88074893, 499.88815637, 499.89561286,\n",
       "         499.90311949, 499.91067735, 499.9182876 , 499.9259514 ,\n",
       "         499.93366998, 499.94144459, 499.94927653, 499.95716712,\n",
       "         499.96511777, 499.9731299 , 499.981205  , 499.98934458,\n",
       "         499.99755025, 500.00582364, 500.01416645, 500.02258046,\n",
       "         500.0310675 , 500.03962946, 500.04826831, 500.05698612,\n",
       "         500.06578501, 500.07466719, 500.08363498, 500.09269077,\n",
       "         500.10183707, 500.11107648, 500.12041173, 500.12984566,\n",
       "         500.13938123, 500.14902154, 500.15876983, 500.1686295 ,\n",
       "         500.17860411, 500.18869738, 500.19891322, 500.20925574,\n",
       "         500.21972926, 500.23033831, 500.24108768, 500.25198239,\n",
       "         500.26302778, 500.27422944, 500.28559331, 500.29712567,\n",
       "         500.30883317, 500.32072287, 500.33280226, 500.34507932,\n",
       "         500.35756253, 500.37026095, 500.38318426, 500.39634279,\n",
       "         500.40974764, 500.42341071, 500.43734479, 500.45156367,\n",
       "         500.46608224, 500.48091659, 500.49608418, 500.51160399,\n",
       "         500.52749667, 500.54378481, 500.56049314, 500.57764883,\n",
       "         500.59528183, 500.61342528, 500.63211595, 500.65139483,\n",
       "         500.6713078 , 500.69190643, 500.71324904, 500.73540186,\n",
       "         500.75844061, 500.7824524 , 500.8075382 , 500.83381593,\n",
       "         500.86142459, 500.89052965, 500.92133033, 500.95406954,\n",
       "         500.98904794, 501.02664403, 501.06734403, 501.11178767,\n",
       "         501.16084152, 501.21572267, 501.27822091, 501.35113311,\n",
       "         501.43921385, 501.55162541, 501.71015927, 501.99209858]),\n",
       "  array([11.1824434 , 11.18473822, 11.18830521, 11.19382261, 11.20258369,\n",
       "         11.20325492, 11.20355363, 11.20505423, 11.20609094, 11.20625611,\n",
       "         11.2079043 , 11.21138343, 11.21287699, 11.21341468, 11.2142827 ,\n",
       "         11.21573761, 11.21579735, 11.21644749, 11.21674621, 11.21906563,\n",
       "         11.21948031, 11.21979308, 11.22034833, 11.22213007, 11.22245338,\n",
       "         11.22327924, 11.22662131, 11.22713439, 11.22731011, 11.22771776,\n",
       "         11.22815002, 11.22822382, 11.2283187 , 11.22885287, 11.22957681,\n",
       "         11.22997744, 11.23038158, 11.23081032, 11.23154129, 11.23157292,\n",
       "         11.23189623, 11.23309108, 11.23465845, 11.23483065, 11.23608524,\n",
       "         11.23640153, 11.23664401, 11.23698138, 11.23704112, 11.23742769,\n",
       "         11.23755772, 11.23802863, 11.23852766, 11.23865417, 11.23902669,\n",
       "         11.23916726, 11.23991228, 11.23992283, 11.24141639, 11.24158508,\n",
       "         11.24160968, 11.24163779, 11.24169753, 11.24231605, 11.24278344,\n",
       "         11.24281859, 11.24329653, 11.24353901, 11.24396424, 11.24425592,\n",
       "         11.24438244, 11.24446327, 11.24460384, 11.24470224, 11.24473035,\n",
       "         11.24482172, 11.24492715, 11.24534183, 11.24545078, 11.24585492,\n",
       "         11.24586195, 11.24649803, 11.24708843, 11.2472782 , 11.24735551,\n",
       "         11.24748202, 11.2476472 , 11.24791779, 11.24809351, 11.24811811,\n",
       "         11.24844845, 11.24918996, 11.2492497 , 11.2493727 , 11.25008259,\n",
       "         11.25017747, 11.25060621, 11.25065541, 11.25088735, 11.2511193 ,\n",
       "         11.25147775, 11.25171321, 11.25188541, 11.25189244, 11.25201895,\n",
       "         11.25222981, 11.25248986, 11.25299943, 11.25305566, 11.25328409,\n",
       "         11.25384637, 11.25398343, 11.2544684 , 11.25458085, 11.25487605,\n",
       "         11.25488659, 11.25505528, 11.25508691, 11.25525559, 11.25577219,\n",
       "         11.25590925, 11.25621147, 11.2565875 , 11.25684404, 11.25686513,\n",
       "         11.25702679, 11.25707247, 11.2574977 , 11.2575223 , 11.25800024,\n",
       "         11.25810215, 11.25842898, 11.25844304, 11.25859415, 11.25865741,\n",
       "         11.25881555, 11.25891746, 11.25895964, 11.25947623, 11.25970466,\n",
       "         11.25977846, 11.25985577, 11.26035129, 11.2605024 , 11.26053403,\n",
       "         11.26064649, 11.26068163, 11.26083977, 11.26097331, 11.2612896 ,\n",
       "         11.2613634 , 11.26144071, 11.26180619, 11.26218222, 11.26227359,\n",
       "         11.26281479, 11.26318028, 11.26321893, 11.26322947, 11.26338762,\n",
       "         11.26359496, 11.26368633, 11.2644419 , 11.26454381, 11.26457544,\n",
       "         11.2647617 , 11.26483901, 11.26504284, 11.26541184, 11.26546455,\n",
       "         11.26611821, 11.26614281, 11.26634312, 11.26644152, 11.26677186,\n",
       "         11.26709869, 11.26725683, 11.26732009, 11.26743254, 11.26772071,\n",
       "         11.267791  , 11.26825137, 11.26838843, 11.26864848, 11.26938648,\n",
       "         11.26955165, 11.26982225, 11.26989956, 11.27000499, 11.27000499,\n",
       "         11.2701069 , 11.27039156, 11.27042319, 11.27065162, 11.27087302,\n",
       "         11.27089762, 11.2709679 , 11.27140016, 11.27146341, 11.27182538,\n",
       "         11.2718535 , 11.27223655, 11.27256338, 11.27274261, 11.27291481,\n",
       "         11.27308701, 11.27322758, 11.27336815, 11.27396909, 11.2742924 ,\n",
       "         11.27455597, 11.27467546, 11.27471411, 11.27503743, 11.27530451,\n",
       "         11.27552942, 11.27571217, 11.27575082, 11.27606359, 11.27607765,\n",
       "         11.27635879, 11.27653802, 11.27671373, 11.27682971, 11.27694568,\n",
       "         11.2769527 , 11.2769773 , 11.27720573, 11.27725142, 11.27727602,\n",
       "         11.27733927, 11.27770827, 11.2779121 , 11.2780597 , 11.27836544,\n",
       "         11.27838301, 11.27846033, 11.27860793, 11.27994686, 11.28058646,\n",
       "         11.28083246, 11.28117334, 11.2812612 , 11.28151072, 11.28184106,\n",
       "         11.28203434, 11.28229088, 11.28238577, 11.28250877, 11.28252634,\n",
       "         11.28253688, 11.28272314, 11.28278991, 11.28314134, 11.28398828,\n",
       "         11.28416399, 11.28446973, 11.28469816, 11.28474033, 11.28484927,\n",
       "         11.2850285 , 11.28556267, 11.28580515, 11.28592464, 11.2860125 ,\n",
       "         11.28606521, 11.28624444, 11.28626904, 11.2863077 , 11.28664507,\n",
       "         11.28678915, 11.28686295, 11.28696838, 11.28699298, 11.28710895,\n",
       "         11.28711949, 11.28720735, 11.28752363, 11.28766772, 11.28801563,\n",
       "         11.28801915, 11.28806483, 11.28822649, 11.2882546 , 11.28858143,\n",
       "         11.28905937, 11.28936863, 11.28947405, 11.28947405, 11.2894846 ,\n",
       "         11.29010311, 11.29016637, 11.29018042, 11.29076379, 11.29080245,\n",
       "         11.29098871, 11.29106602, 11.2914315 , 11.29150179, 11.29210976,\n",
       "         11.29266853, 11.29273178, 11.29294967, 11.2932765 , 11.29331515,\n",
       "         11.29344518, 11.29394069, 11.29416209, 11.29428158, 11.29433781,\n",
       "         11.29509689, 11.29521989, 11.29547994, 11.29560294, 11.29560294,\n",
       "         11.29567323, 11.29593329, 11.29605277, 11.29621091, 11.29674157,\n",
       "         11.29675211, 11.29711759, 11.29722302, 11.29742685, 11.29763068,\n",
       "         11.29792939, 11.29811565, 11.2981543 , 11.29825973, 11.29829136,\n",
       "         11.29831596, 11.29833353, 11.29864279, 11.2987939 , 11.29890284,\n",
       "         11.29922616, 11.29926833, 11.29961273, 11.29963381, 11.29964787,\n",
       "         11.29983413, 11.29996415, 11.30047021, 11.30052292, 11.30085678,\n",
       "         11.30089544, 11.30102546, 11.30107466, 11.30115198, 11.30138743,\n",
       "         11.30154558, 11.30205866, 11.30206217, 11.30224492, 11.30304968,\n",
       "         11.30406531, 11.30407234, 11.30417074, 11.30423399, 11.30444134,\n",
       "         11.30509851, 11.30533396, 11.30537613, 11.3056151 , 11.30621253,\n",
       "         11.30638121, 11.3064023 , 11.3066237 , 11.3067467 , 11.30696458,\n",
       "         11.30697513, 11.30702433, 11.30723167, 11.30758309, 11.30762527,\n",
       "         11.30769907, 11.30774827, 11.30777638, 11.30783261, 11.30794155,\n",
       "         11.30805401, 11.30807158, 11.30812781, 11.30849329, 11.30862683,\n",
       "         11.30909775, 11.30965652, 11.30980763, 11.30995171, 11.31005011,\n",
       "         11.31013094, 11.31022583, 11.31023988, 11.31073891, 11.31076702,\n",
       "         11.31091814, 11.31153665, 11.31211651, 11.3121903 , 11.31226762,\n",
       "         11.31240116, 11.3129529 , 11.3130759 , 11.31313213, 11.31313213,\n",
       "         11.31350113, 11.31362061, 11.31378578, 11.31448864, 11.3145765 ,\n",
       "         11.31662532, 11.31675183, 11.3168432 , 11.3173352 , 11.31745117,\n",
       "         11.3177042 , 11.31774285, 11.31789045, 11.31813997, 11.31905368,\n",
       "         11.31961947, 11.31993224, 11.32042424, 11.32091624, 11.3211517 ,\n",
       "         11.32129227, 11.3215207 , 11.32158395, 11.32161558, 11.32216029,\n",
       "         11.32217786, 11.32259958, 11.323443  , 11.32429697, 11.32484168,\n",
       "         11.32580811, 11.32588893, 11.32591002, 11.32596625, 11.32616305,\n",
       "         11.32656719, 11.32761444, 11.32796236, 11.32822593, 11.32949809,\n",
       "         11.3303134 , 11.33039775, 11.33050669, 11.33194402, 11.33224977,\n",
       "         11.33308616, 11.33376442, 11.33431967, 11.33487844, 11.33491358,\n",
       "         11.33536341, 11.33593272, 11.33637552, 11.33695186, 11.33701863,\n",
       "         11.33731383, 11.337971  , 11.33971408, 11.34042045, 11.34072267,\n",
       "         11.34170316, 11.34221624, 11.34325646, 11.34401203, 11.344128  ,\n",
       "         11.3461698 , 11.34617682, 11.34640174, 11.34911476, 11.3497649 ,\n",
       "         11.34978598, 11.35071023, 11.3522776 , 11.35456188, 11.35491682,\n",
       "         11.35499413, 11.35563021, 11.35623818, 11.35998088, 11.36001603,\n",
       "         11.36725542, 11.36806371, 11.36816211, 11.3690477 , 11.37050261,\n",
       "         11.37085404, 11.37088215, 11.37353191, 11.37428748, 11.37443508,\n",
       "         11.37471271, 11.3776155 , 11.37896849, 11.38956402, 11.39341215])),\n",
       " (0.03777466718563094, -7.566314311250846, 0.9979748364604206))"
      ]
     },
     "execution_count": 99,
     "metadata": {},
     "output_type": "execute_result"
    },
    {
     "data": {
      "image/png": "[encoded data removed]",
      "text/plain": [
       "<Figure size 432x288 with 1 Axes>"
      ]
     },
     "metadata": {
      "needs_background": "light"
     },
     "output_type": "display_data"
    }
   ],
   "source": [
    "scipy.stats.probplot(n_clicks_control_bootstrap_means, dist=\"norm\", sparams=(n_boot_samples-1), plot=plt)"
   ]
  },
  {
   "cell_type": "code",
   "execution_count": 100,
   "metadata": {},
   "outputs": [
    {
     "data": {
      "text/plain": [
       "((array([367.64115114, 372.53326213, 375.20457679, ..., 645.84222049,\n",
       "         649.69750111, 656.84640958]),\n",
       "  array([  68573.45237094,   69599.04061781,   70613.10771931, ...,\n",
       "         1315437.24235808, 1360642.7970296 , 1633292.84230748])),\n",
       " (2296.4187509497774, -940101.3239492843, 0.8892761730048838))"
      ]
     },
     "execution_count": 100,
     "metadata": {},
     "output_type": "execute_result"
    },
    {
     "data": {
      "image/png": "[encoded data removed]",
      "text/plain": [
       "<Figure size 432x288 with 1 Axes>"
      ]
     },
     "metadata": {
      "needs_background": "light"
     },
     "output_type": "display_data"
    }
   ],
   "source": [
    "scipy.stats.probplot(control_boot_chi_squared, dist=\"chi2\", sparams=(n_boot_samples-1), plot=plt) #R^2 - last number in tuple of size 3"
   ]
  },
  {
   "cell_type": "markdown",
   "metadata": {},
   "source": [
    "Одним из возможных аналогов t-критерия, которым можно воспрользоваться, является тест Манна-Уитни. На достаточно обширном классе распределений он является асимптотически более эффективным, чем t-критерий, и при этом не требует параметрических предположений о характере распределения.\n",
    "\n",
    "Разделите выборку на две части, соответствующие control и exp группам. Преобразуйте данные к виду, чтобы каждому пользователю соответствовало суммарное значение его кликов. С помощью критерия Манна-Уитни проверьте гипотезу о равенстве средних. Что можно сказать о получившемся значении достигаемого уровня значимости ? Выберите все правильные ответы"
   ]
  },
  {
   "cell_type": "code",
   "execution_count": 102,
   "metadata": {},
   "outputs": [
    {
     "data": {
      "text/html": [
       "<div>\n",
       "<style scoped>\n",
       "    .dataframe tbody tr th:only-of-type {\n",
       "        vertical-align: middle;\n",
       "    }\n",
       "\n",
       "    .dataframe tbody tr th {\n",
       "        vertical-align: top;\n",
       "    }\n",
       "\n",
       "    .dataframe thead tr th {\n",
       "        text-align: left;\n",
       "    }\n",
       "\n",
       "    .dataframe thead tr:last-of-type th {\n",
       "        text-align: right;\n",
       "    }\n",
       "</style>\n",
       "<table border=\"1\" class=\"dataframe\">\n",
       "  <thead>\n",
       "    <tr>\n",
       "      <th></th>\n",
       "      <th colspan=\"2\" halign=\"left\">n_clicks</th>\n",
       "    </tr>\n",
       "    <tr>\n",
       "      <th>slot</th>\n",
       "      <th>control</th>\n",
       "      <th>exp</th>\n",
       "    </tr>\n",
       "    <tr>\n",
       "      <th>userID</th>\n",
       "      <th></th>\n",
       "      <th></th>\n",
       "    </tr>\n",
       "  </thead>\n",
       "  <tbody>\n",
       "    <tr>\n",
       "      <th>1</th>\n",
       "      <td>NaN</td>\n",
       "      <td>23.0</td>\n",
       "    </tr>\n",
       "    <tr>\n",
       "      <th>3</th>\n",
       "      <td>NaN</td>\n",
       "      <td>3.0</td>\n",
       "    </tr>\n",
       "    <tr>\n",
       "      <th>5</th>\n",
       "      <td>NaN</td>\n",
       "      <td>29.0</td>\n",
       "    </tr>\n",
       "    <tr>\n",
       "      <th>6</th>\n",
       "      <td>12.0</td>\n",
       "      <td>NaN</td>\n",
       "    </tr>\n",
       "    <tr>\n",
       "      <th>7</th>\n",
       "      <td>NaN</td>\n",
       "      <td>54.0</td>\n",
       "    </tr>\n",
       "    <tr>\n",
       "      <th>...</th>\n",
       "      <td>...</td>\n",
       "      <td>...</td>\n",
       "    </tr>\n",
       "    <tr>\n",
       "      <th>603133</th>\n",
       "      <td>1.0</td>\n",
       "      <td>NaN</td>\n",
       "    </tr>\n",
       "    <tr>\n",
       "      <th>603134</th>\n",
       "      <td>NaN</td>\n",
       "      <td>4.0</td>\n",
       "    </tr>\n",
       "    <tr>\n",
       "      <th>603135</th>\n",
       "      <td>0.0</td>\n",
       "      <td>NaN</td>\n",
       "    </tr>\n",
       "    <tr>\n",
       "      <th>603136</th>\n",
       "      <td>2.0</td>\n",
       "      <td>NaN</td>\n",
       "    </tr>\n",
       "    <tr>\n",
       "      <th>603137</th>\n",
       "      <td>NaN</td>\n",
       "      <td>3.0</td>\n",
       "    </tr>\n",
       "  </tbody>\n",
       "</table>\n",
       "<p>565842 rows × 2 columns</p>\n",
       "</div>"
      ],
      "text/plain": [
       "       n_clicks      \n",
       "slot    control   exp\n",
       "userID               \n",
       "1           NaN  23.0\n",
       "3           NaN   3.0\n",
       "5           NaN  29.0\n",
       "6          12.0   NaN\n",
       "7           NaN  54.0\n",
       "...         ...   ...\n",
       "603133      1.0   NaN\n",
       "603134      NaN   4.0\n",
       "603135      0.0   NaN\n",
       "603136      2.0   NaN\n",
       "603137      NaN   3.0\n",
       "\n",
       "[565842 rows x 2 columns]"
      ]
     },
     "execution_count": 102,
     "metadata": {},
     "output_type": "execute_result"
    }
   ],
   "source": [
    "table = pd.pivot_table(data, values = ['n_clicks'], index = ['userID'], columns = ['slot'], aggfunc = np.sum)\n",
    "table"
   ]
  },
  {
   "cell_type": "code",
   "execution_count": 128,
   "metadata": {},
   "outputs": [],
   "source": [
    "n_clicks_control = table.n_clicks.control.values\n",
    "n_clicks_exp = table.n_clicks.exp.values"
   ]
  },
  {
   "cell_type": "code",
   "execution_count": 146,
   "metadata": {},
   "outputs": [],
   "source": [
    "def isNaN(x):\n",
    "    return x != x"
   ]
  },
  {
   "cell_type": "code",
   "execution_count": 157,
   "metadata": {},
   "outputs": [],
   "source": [
    "n_clicks_control = n_clicks_control[~isNaN(n_clicks_control)]\n",
    "n_clicks_exp = n_clicks_exp[~isNaN(n_clicks_exp)]"
   ]
  },
  {
   "cell_type": "markdown",
   "metadata": {},
   "source": [
    "Вообще, критерий Манна-Уитни использовать нельзя, т.к в выборке много повторяющихся значений."
   ]
  },
  {
   "cell_type": "code",
   "execution_count": 158,
   "metadata": {},
   "outputs": [
    {
     "data": {
      "text/plain": [
       "MannwhitneyuResult(statistic=38901259929.0, pvalue=4.3471471887604393e-75)"
      ]
     },
     "execution_count": 158,
     "metadata": {},
     "output_type": "execute_result"
    }
   ],
   "source": [
    "stats.mannwhitneyu(n_clicks_control, n_clicks_exp)\n"
   ]
  },
  {
   "cell_type": "code",
   "execution_count": null,
   "metadata": {},
   "outputs": [],
   "source": [
    "exp_data = data[data[\"slot\"]==\"exp\"]\n",
    "control_data = data[data[\"slot\"]==\"control\"]\n",
    "\n",
    "exp_user_clicks = exp_data.groupby(\"userID\").agg(\"sum\")[\"n_clicks\"]\n",
    "control_user_clicks = control_data.groupby(\"userID\").agg(\"sum\")[\"n_clicks\"]\n",
    "\n",
    "mann_whitney_stat = stats.mannwhitneyu(control_user_clicks, exp_user_clicks, alternative=\"two-sided\")\n",
    "print \"Mann-Whitney criterion pvalue result: %.4f\" % np.round(mann_whitney_stat.pvalue, 4)\n",
    "mann_whitney_stat"
   ]
  },
  {
   "cell_type": "markdown",
   "metadata": {},
   "source": [
    "Проверьте, для какого из браузеров наиболее сильно выражено отличие между количеством кликов в контрольной и экспериментальной группах.\n",
    "\n",
    "Для этого примените для каждого из срезов (по каждому из уникальных значений столбца browser) критерий Манна-Уитни между control и exp группами и сделайте поправку Холма-Бонферрони на множественную проверку с α=0.05.\n",
    "\n",
    "Какое заключение можно сделать исходя из полученных результатов ?\n",
    "\n",
    "В качестве ответа введите количество незначимых изменений с точки зрения результатов, полученных после введения коррекции.\n",
    "\n"
   ]
  },
  {
   "cell_type": "code",
   "execution_count": 177,
   "metadata": {},
   "outputs": [],
   "source": [
    "vc = data.browser.value_counts()"
   ]
  },
  {
   "cell_type": "code",
   "execution_count": 169,
   "metadata": {},
   "outputs": [
    {
     "name": "stderr",
     "output_type": "stream",
     "text": [
      "/Users/andrewbelyaev/opt/anaconda3/lib/python3.7/site-packages/ipykernel_launcher.py:1: UserWarning: Boolean Series key will be reindexed to match DataFrame index.\n",
      "  \"\"\"Entry point for launching an IPython kernel.\n",
      "/Users/andrewbelyaev/opt/anaconda3/lib/python3.7/site-packages/ipykernel_launcher.py:2: UserWarning: Boolean Series key will be reindexed to match DataFrame index.\n",
      "  \n",
      "/Users/andrewbelyaev/opt/anaconda3/lib/python3.7/site-packages/ipykernel_launcher.py:3: UserWarning: Boolean Series key will be reindexed to match DataFrame index.\n",
      "  This is separate from the ipykernel package so we can avoid doing imports until\n",
      "/Users/andrewbelyaev/opt/anaconda3/lib/python3.7/site-packages/ipykernel_launcher.py:4: UserWarning: Boolean Series key will be reindexed to match DataFrame index.\n",
      "  after removing the cwd from sys.path.\n",
      "/Users/andrewbelyaev/opt/anaconda3/lib/python3.7/site-packages/ipykernel_launcher.py:5: UserWarning: Boolean Series key will be reindexed to match DataFrame index.\n",
      "  \"\"\"\n",
      "/Users/andrewbelyaev/opt/anaconda3/lib/python3.7/site-packages/ipykernel_launcher.py:6: UserWarning: Boolean Series key will be reindexed to match DataFrame index.\n",
      "  \n",
      "/Users/andrewbelyaev/opt/anaconda3/lib/python3.7/site-packages/ipykernel_launcher.py:7: UserWarning: Boolean Series key will be reindexed to match DataFrame index.\n",
      "  import sys\n",
      "/Users/andrewbelyaev/opt/anaconda3/lib/python3.7/site-packages/ipykernel_launcher.py:8: UserWarning: Boolean Series key will be reindexed to match DataFrame index.\n",
      "  \n",
      "/Users/andrewbelyaev/opt/anaconda3/lib/python3.7/site-packages/ipykernel_launcher.py:9: UserWarning: Boolean Series key will be reindexed to match DataFrame index.\n",
      "  if __name__ == '__main__':\n",
      "/Users/andrewbelyaev/opt/anaconda3/lib/python3.7/site-packages/ipykernel_launcher.py:10: UserWarning: Boolean Series key will be reindexed to match DataFrame index.\n",
      "  # Remove the CWD from sys.path while we load stuff.\n",
      "/Users/andrewbelyaev/opt/anaconda3/lib/python3.7/site-packages/ipykernel_launcher.py:11: UserWarning: Boolean Series key will be reindexed to match DataFrame index.\n",
      "  # This is added back by InteractiveShellApp.init_path()\n",
      "/Users/andrewbelyaev/opt/anaconda3/lib/python3.7/site-packages/ipykernel_launcher.py:12: UserWarning: Boolean Series key will be reindexed to match DataFrame index.\n",
      "  if sys.path[0] == '':\n"
     ]
    }
   ],
   "source": [
    "control_4 = data[data.slot == 'control'][data.browser == 'Browser #4'].n_clicks.values\n",
    "exp_4 = data[data.slot == 'exp'][data.browser == 'Browser #4'].n_clicks.values\n",
    "control_22 = data[data.slot == 'control'][data.browser == 'Browser #22'].n_clicks.values\n",
    "exp_22 = data[data.slot == 'exp'][data.browser == 'Browser #22'].n_clicks.values\n",
    "control_2 = data[data.slot == 'control'][data.browser == 'Browser #4'].n_clicks.values\n",
    "exp_2 = data[data.slot == 'exp'][data.browser == 'Browser #4'].n_clicks.values\n",
    "control_14 = data[data.slot == 'control'][data.browser == 'Browser #14'].n_clicks.values\n",
    "exp_14 = data[data.slot == 'exp'][data.browser == 'Browser #14'].n_clicks.values\n",
    "control_20 = data[data.slot == 'control'][data.browser == 'Browser #20'].n_clicks.values\n",
    "exp_20 = data[data.slot == 'exp'][data.browser == 'Browser #20'].n_clicks.values\n",
    "control_17 = data[data.slot == 'control'][data.browser == 'Browser #17'].n_clicks.values\n",
    "exp_17 = data[data.slot == 'exp'][data.browser == 'Browser #17'].n_clicks.values"
   ]
  },
  {
   "cell_type": "code",
   "execution_count": 181,
   "metadata": {},
   "outputs": [
    {
     "data": {
      "text/html": [
       "<div>\n",
       "<style scoped>\n",
       "    .dataframe tbody tr th:only-of-type {\n",
       "        vertical-align: middle;\n",
       "    }\n",
       "\n",
       "    .dataframe tbody tr th {\n",
       "        vertical-align: top;\n",
       "    }\n",
       "\n",
       "    .dataframe thead th {\n",
       "        text-align: right;\n",
       "    }\n",
       "</style>\n",
       "<table border=\"1\" class=\"dataframe\">\n",
       "  <thead>\n",
       "    <tr style=\"text-align: right;\">\n",
       "      <th></th>\n",
       "      <th>p</th>\n",
       "      <th>p_corrected</th>\n",
       "      <th>reject</th>\n",
       "    </tr>\n",
       "  </thead>\n",
       "  <tbody>\n",
       "    <tr>\n",
       "      <th>Browser #4</th>\n",
       "      <td>0.407606</td>\n",
       "      <td>1.000000</td>\n",
       "      <td>False</td>\n",
       "    </tr>\n",
       "    <tr>\n",
       "      <th>Browser #22</th>\n",
       "      <td>0.257406</td>\n",
       "      <td>1.000000</td>\n",
       "      <td>False</td>\n",
       "    </tr>\n",
       "    <tr>\n",
       "      <th>Browser #2</th>\n",
       "      <td>0.407606</td>\n",
       "      <td>1.000000</td>\n",
       "      <td>False</td>\n",
       "    </tr>\n",
       "    <tr>\n",
       "      <th>Browser #14</th>\n",
       "      <td>0.000000</td>\n",
       "      <td>0.000000</td>\n",
       "      <td>True</td>\n",
       "    </tr>\n",
       "    <tr>\n",
       "      <th>Browser #20</th>\n",
       "      <td>0.453667</td>\n",
       "      <td>1.000000</td>\n",
       "      <td>False</td>\n",
       "    </tr>\n",
       "    <tr>\n",
       "      <th>Browser #17</th>\n",
       "      <td>0.037401</td>\n",
       "      <td>0.187003</td>\n",
       "      <td>False</td>\n",
       "    </tr>\n",
       "  </tbody>\n",
       "</table>\n",
       "</div>"
      ],
      "text/plain": [
       "                    p  p_corrected  reject\n",
       "Browser #4   0.407606     1.000000   False\n",
       "Browser #22  0.257406     1.000000   False\n",
       "Browser #2   0.407606     1.000000   False\n",
       "Browser #14  0.000000     0.000000    True\n",
       "Browser #20  0.453667     1.000000   False\n",
       "Browser #17  0.037401     0.187003   False"
      ]
     },
     "execution_count": 181,
     "metadata": {},
     "output_type": "execute_result"
    }
   ],
   "source": [
    "from statsmodels.sandbox.stats.multicomp import multipletests \n",
    "p = []\n",
    "for item in [(control_4, exp_4), (control_22, exp_22), (control_2, exp_2), (control_14, exp_14),\n",
    "             (control_20, exp_20), (control_17, exp_17)]:\n",
    "    stat, p_value = stats.mannwhitneyu(item[0], item[1])\n",
    "    p.append(p_value)\n",
    "\n",
    "reject, p_corrected, a1, a2 = multipletests(p, \n",
    "                                            alpha = 0.05, \n",
    "                                            method = 'holm')\n",
    "df = pd.DataFrame({'p': p, 'p_corrected': p_corrected, 'reject': reject}, index = vc.index)\n",
    "df"
   ]
  },
  {
   "cell_type": "code",
   "execution_count": 188,
   "metadata": {},
   "outputs": [
    {
     "data": {
      "text/plain": [
       "5"
      ]
     },
     "execution_count": 188,
     "metadata": {},
     "output_type": "execute_result"
    }
   ],
   "source": [
    "df[df.reject == False].reject.count()"
   ]
  },
  {
   "cell_type": "code",
   "execution_count": null,
   "metadata": {},
   "outputs": [],
   "source": []
  },
  {
   "cell_type": "code",
   "execution_count": 193,
   "metadata": {},
   "outputs": [
    {
     "name": "stderr",
     "output_type": "stream",
     "text": [
      "/Users/andrewbelyaev/opt/anaconda3/lib/python3.7/site-packages/ipykernel_launcher.py:1: UserWarning: Boolean Series key will be reindexed to match DataFrame index.\n",
      "  \"\"\"Entry point for launching an IPython kernel.\n",
      "/Users/andrewbelyaev/opt/anaconda3/lib/python3.7/site-packages/ipykernel_launcher.py:2: UserWarning: Boolean Series key will be reindexed to match DataFrame index.\n",
      "  \n",
      "/Users/andrewbelyaev/opt/anaconda3/lib/python3.7/site-packages/ipykernel_launcher.py:3: UserWarning: Boolean Series key will be reindexed to match DataFrame index.\n",
      "  This is separate from the ipykernel package so we can avoid doing imports until\n",
      "/Users/andrewbelyaev/opt/anaconda3/lib/python3.7/site-packages/ipykernel_launcher.py:4: UserWarning: Boolean Series key will be reindexed to match DataFrame index.\n",
      "  after removing the cwd from sys.path.\n",
      "/Users/andrewbelyaev/opt/anaconda3/lib/python3.7/site-packages/ipykernel_launcher.py:5: UserWarning: Boolean Series key will be reindexed to match DataFrame index.\n",
      "  \"\"\"\n",
      "/Users/andrewbelyaev/opt/anaconda3/lib/python3.7/site-packages/ipykernel_launcher.py:6: UserWarning: Boolean Series key will be reindexed to match DataFrame index.\n",
      "  \n",
      "/Users/andrewbelyaev/opt/anaconda3/lib/python3.7/site-packages/ipykernel_launcher.py:7: UserWarning: Boolean Series key will be reindexed to match DataFrame index.\n",
      "  import sys\n",
      "/Users/andrewbelyaev/opt/anaconda3/lib/python3.7/site-packages/ipykernel_launcher.py:8: UserWarning: Boolean Series key will be reindexed to match DataFrame index.\n",
      "  \n",
      "/Users/andrewbelyaev/opt/anaconda3/lib/python3.7/site-packages/ipykernel_launcher.py:9: UserWarning: Boolean Series key will be reindexed to match DataFrame index.\n",
      "  if __name__ == '__main__':\n",
      "/Users/andrewbelyaev/opt/anaconda3/lib/python3.7/site-packages/ipykernel_launcher.py:10: UserWarning: Boolean Series key will be reindexed to match DataFrame index.\n",
      "  # Remove the CWD from sys.path while we load stuff.\n",
      "/Users/andrewbelyaev/opt/anaconda3/lib/python3.7/site-packages/ipykernel_launcher.py:11: UserWarning: Boolean Series key will be reindexed to match DataFrame index.\n",
      "  # This is added back by InteractiveShellApp.init_path()\n",
      "/Users/andrewbelyaev/opt/anaconda3/lib/python3.7/site-packages/ipykernel_launcher.py:12: UserWarning: Boolean Series key will be reindexed to match DataFrame index.\n",
      "  if sys.path[0] == '':\n"
     ]
    }
   ],
   "source": [
    "control_4 = data[data.slot == 'control'][data.browser == 'Browser #4'][['n_queries', 'n_nonclk_queries']]\n",
    "exp_4 = data[data.slot == 'exp'][data.browser == 'Browser #4'][['n_queries', 'n_nonclk_queries']]\n",
    "control_22 = data[data.slot == 'control'][data.browser == 'Browser #22'][['n_queries', 'n_nonclk_queries']]\n",
    "exp_22 = data[data.slot == 'exp'][data.browser == 'Browser #22'][['n_queries', 'n_nonclk_queries']]\n",
    "control_2 = data[data.slot == 'control'][data.browser == 'Browser #4'][['n_queries', 'n_nonclk_queries']]\n",
    "exp_2 = data[data.slot == 'exp'][data.browser == 'Browser #4'][['n_queries', 'n_nonclk_queries']]\n",
    "control_14 = data[data.slot == 'control'][data.browser == 'Browser #14'][['n_queries', 'n_nonclk_queries']]\n",
    "exp_14 = data[data.slot == 'exp'][data.browser == 'Browser #14'][['n_queries', 'n_nonclk_queries']]\n",
    "control_20 = data[data.slot == 'control'][data.browser == 'Browser #20'][['n_queries', 'n_nonclk_queries']]\n",
    "exp_20 = data[data.slot == 'exp'][data.browser == 'Browser #20'][['n_queries', 'n_nonclk_queries']]\n",
    "control_17 = data[data.slot == 'control'][data.browser == 'Browser #17'][['n_queries', 'n_nonclk_queries']]\n",
    "exp_17 = data[data.slot == 'exp'][data.browser == 'Browser #17'][['n_queries', 'n_nonclk_queries']]"
   ]
  },
  {
   "cell_type": "code",
   "execution_count": 196,
   "metadata": {},
   "outputs": [],
   "source": [
    "\n",
    "for item in [(control_4, exp_4), (control_22, exp_22), (control_2, exp_2), (control_14, exp_14),\n",
    "             (control_20, exp_20), (control_17, exp_17)]:\n",
    "    item[0] = item[0].sum()\n",
    "    item[1] = item[1].sum()"
   ]
  },
  {
   "cell_type": "code",
   "execution_count": 199,
   "metadata": {},
   "outputs": [
    {
     "data": {
      "text/plain": [
       "1060771"
      ]
     },
     "execution_count": 199,
     "metadata": {},
     "output_type": "execute_result"
    }
   ],
   "source": [
    "for item in [(control_4, exp_4), (control_22, exp_22), (control_2, exp_2), (control_14, exp_14),\n",
    "             (control_20, exp_20), (control_17, exp_17)]:"
   ]
  },
  {
   "cell_type": "code",
   "execution_count": null,
   "metadata": {},
   "outputs": [],
   "source": []
  }
 ],
 "metadata": {
  "kernelspec": {
   "display_name": "Python 3",
   "language": "python",
   "name": "python3"
  },
  "language_info": {
   "codemirror_mode": {
    "name": "ipython",
    "version": 3
   },
   "file_extension": ".py",
   "mimetype": "text/x-python",
   "name": "python",
   "nbconvert_exporter": "python",
   "pygments_lexer": "ipython3",
   "version": "3.7.4"
  }
 },
 "nbformat": 4,
 "nbformat_minor": 4
}
