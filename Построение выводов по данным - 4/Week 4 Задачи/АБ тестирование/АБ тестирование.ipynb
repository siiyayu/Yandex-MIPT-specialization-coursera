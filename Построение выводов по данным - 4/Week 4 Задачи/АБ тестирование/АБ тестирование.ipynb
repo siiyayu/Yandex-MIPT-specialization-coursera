{
 "cells": [
  {
   "cell_type": "markdown",
   "metadata": {},
   "source": [
    "## Анализ результатов АБ-теста\n"
   ]
  },
  {
   "cell_type": "markdown",
   "metadata": {},
   "source": [
    "В данном задании вам нужно будет\n",
    "* проанализировать АБ тест, проведенный на реальных пользователях Яндекса\n",
    "* подтвердить или опровергнуть наличие изменений в пользовательском поведении между контрольной (control) и тестовой (exp) группами\n",
    "* определить характер этих изменений и практическую значимость вводимого изменения\n",
    "понять, какая из пользовательских групп более всего проигрывает / выигрывает от тестируемого изменения (локализовать изменение)\n",
    "\n",
    "Описание данных:\n",
    "* userID: уникальный идентификатор пользователя\n",
    "* browser: браузер, который использовал userID\n",
    "* slot: в каком статусе пользователь участвовал в исследовании (exp = видел измененную страницу, control = видел неизменную страницу)\n",
    "* n_clicks: количество кликов, которые пользоваль совершил за n_queries\n",
    "* n_queries: количество запросов, который совершил userID, пользуясь браузером browser\n",
    "* n_nonclk_queries: количество запросов пользователя, в которых им не было совершено ни одного клика\n",
    "\n",
    "Обращаем ваше внимание, что не все люди используют только один браузер, поэтому в столбце userID есть повторяющиеся идентификаторы. В предлагаемых данных уникальным является сочетание userID и browser.\n",
    "\n",
    "Основная метрика, на которой мы сосредоточимся в этой работе, — это количество пользовательских кликов на web-странице в зависимости от тестируемого изменения этой страницы.\n",
    "\n",
    "Посчитайте, насколько в группе exp больше пользовательских кликов по сравнению с группой control в процентах от числа кликов в контрольной группе.\n",
    "\n",
    "Полученный процент округлите до третьего знака после точки.\n"
   ]
  },
  {
   "cell_type": "code",
   "execution_count": 1,
   "metadata": {},
   "outputs": [],
   "source": [
    "import pandas as pd\n",
    "import numpy as np"
   ]
  },
  {
   "cell_type": "code",
   "execution_count": 2,
   "metadata": {},
   "outputs": [
    {
     "name": "stdout",
     "output_type": "stream",
     "text": [
      "data shape:  (566134, 6)\n"
     ]
    },
    {
     "data": {
      "text/html": [
       "<div>\n",
       "<style scoped>\n",
       "    .dataframe tbody tr th:only-of-type {\n",
       "        vertical-align: middle;\n",
       "    }\n",
       "\n",
       "    .dataframe tbody tr th {\n",
       "        vertical-align: top;\n",
       "    }\n",
       "\n",
       "    .dataframe thead th {\n",
       "        text-align: right;\n",
       "    }\n",
       "</style>\n",
       "<table border=\"1\" class=\"dataframe\">\n",
       "  <thead>\n",
       "    <tr style=\"text-align: right;\">\n",
       "      <th></th>\n",
       "      <th>userID</th>\n",
       "      <th>browser</th>\n",
       "      <th>slot</th>\n",
       "      <th>n_clicks</th>\n",
       "      <th>n_queries</th>\n",
       "      <th>n_nonclk_queries</th>\n",
       "    </tr>\n",
       "  </thead>\n",
       "  <tbody>\n",
       "    <tr>\n",
       "      <th>0</th>\n",
       "      <td>1</td>\n",
       "      <td>Browser #2</td>\n",
       "      <td>exp</td>\n",
       "      <td>23</td>\n",
       "      <td>32</td>\n",
       "      <td>19</td>\n",
       "    </tr>\n",
       "    <tr>\n",
       "      <th>1</th>\n",
       "      <td>3</td>\n",
       "      <td>Browser #4</td>\n",
       "      <td>exp</td>\n",
       "      <td>3</td>\n",
       "      <td>4</td>\n",
       "      <td>2</td>\n",
       "    </tr>\n",
       "    <tr>\n",
       "      <th>2</th>\n",
       "      <td>5</td>\n",
       "      <td>Browser #4</td>\n",
       "      <td>exp</td>\n",
       "      <td>29</td>\n",
       "      <td>35</td>\n",
       "      <td>16</td>\n",
       "    </tr>\n",
       "    <tr>\n",
       "      <th>3</th>\n",
       "      <td>6</td>\n",
       "      <td>Browser #4</td>\n",
       "      <td>control</td>\n",
       "      <td>12</td>\n",
       "      <td>6</td>\n",
       "      <td>0</td>\n",
       "    </tr>\n",
       "    <tr>\n",
       "      <th>4</th>\n",
       "      <td>7</td>\n",
       "      <td>Browser #4</td>\n",
       "      <td>exp</td>\n",
       "      <td>54</td>\n",
       "      <td>68</td>\n",
       "      <td>30</td>\n",
       "    </tr>\n",
       "  </tbody>\n",
       "</table>\n",
       "</div>"
      ],
      "text/plain": [
       "   userID     browser     slot  n_clicks  n_queries  n_nonclk_queries\n",
       "0       1  Browser #2      exp        23         32                19\n",
       "1       3  Browser #4      exp         3          4                 2\n",
       "2       5  Browser #4      exp        29         35                16\n",
       "3       6  Browser #4  control        12          6                 0\n",
       "4       7  Browser #4      exp        54         68                30"
      ]
     },
     "execution_count": 2,
     "metadata": {},
     "output_type": "execute_result"
    }
   ],
   "source": [
    "data = pd.read_csv('ab_browser_test.csv')\n",
    "print(\"data shape: \", data.shape)\n",
    "data.head()"
   ]
  },
  {
   "cell_type": "code",
   "execution_count": 3,
   "metadata": {},
   "outputs": [
    {
     "name": "stdout",
     "output_type": "stream",
     "text": [
      "3210027 3261823\n"
     ]
    }
   ],
   "source": [
    "sum_n_clicks_control = sum(data[data.slot == 'control'].n_clicks)\n",
    "sum_n_clicks_exp = sum(data[data.slot == 'exp'].n_clicks)\n",
    "print(sum_n_clicks_control, sum_n_clicks_exp)"
   ]
  },
  {
   "cell_type": "code",
   "execution_count": 4,
   "metadata": {},
   "outputs": [
    {
     "data": {
      "text/plain": [
       "1.614"
      ]
     },
     "execution_count": 4,
     "metadata": {},
     "output_type": "execute_result"
    }
   ],
   "source": [
    "ans = sum_n_clicks_exp*100/sum_n_clicks_control\n",
    "np.round(ans - 100, 3)"
   ]
  },
  {
   "cell_type": "markdown",
   "metadata": {},
   "source": [
    "Давайте попробуем посмотреть более внимательно на разницу между двумя группами (control и exp) относительно количества пользовательских кликов.\n",
    "\n",
    "Для этого постройте с помощью бутстрепа 95% доверительный интервал для средних значений и медиан количества кликов в каждой из двух групп. Отметьте все верные утверждения."
   ]
  },
  {
   "cell_type": "code",
   "execution_count": 5,
   "metadata": {},
   "outputs": [],
   "source": [
    "def get_bootstrap_samples(data, n_samples):\n",
    "    indices = np.random.randint(0, len(data), (n_samples, len(data)))\n",
    "    samples = data[indices]\n",
    "    return samples\n",
    "def stat_intervals(stat, alpha):\n",
    "    boundaries = np.percentile(stat, [100 * alpha / 2., 100 * (1 - alpha / 2.)])\n",
    "    return boundaries"
   ]
  },
  {
   "cell_type": "code",
   "execution_count": 6,
   "metadata": {},
   "outputs": [
    {
     "name": "stdout",
     "output_type": "stream",
     "text": [
      "95% confidence interval for the control n_clicks: [4. 4.]\n",
      "95% confidence interval for the exp n_clicks: [5. 5.]\n",
      "difference between medians: -1.0\n",
      "95% confidence interval for the difference between medians [-1. -1.]\n"
     ]
    }
   ],
   "source": [
    "np.random.seed(0)\n",
    "\n",
    "n_clicks_control = data[data.slot == 'control'].n_clicks.values\n",
    "n_clicks_exp = data[data.slot == 'exp'].n_clicks.values\n",
    "\n",
    "\n",
    "control_median_scores = list(map(np.median, get_bootstrap_samples(n_clicks_control, 1000)))\n",
    "exp_median_scores = list(map(np.median, get_bootstrap_samples(n_clicks_exp, 1000)))\n",
    "\n",
    "print(\"95% confidence interval for the control n_clicks:\",  stat_intervals(control_median_scores, 0.05))\n",
    "print(\"95% confidence interval for the exp n_clicks:\",  stat_intervals(exp_median_scores, 0.05))\n",
    "print(\"difference between medians:\", np.median(n_clicks_control) - np.median(n_clicks_exp))\n",
    "\n",
    "delta_median_scores = list(map(lambda x: x[0] - x[1], zip(control_median_scores, exp_median_scores)))\n",
    "print(\"95% confidence interval for the difference between medians\",  stat_intervals(delta_median_scores, 0.05))"
   ]
  },
  {
   "cell_type": "code",
   "execution_count": 7,
   "metadata": {},
   "outputs": [
    {
     "name": "stdout",
     "output_type": "stream",
     "text": [
      "95% confidence interval for the control n_clicks: [11.20679809 11.35869615]\n",
      "95% confidence interval for the exp n_clicks: [11.50965481 11.65920804]\n",
      "difference between means: -0.3030947340656329\n",
      "95% confidence interval for the difference between means [-0.40880383 -0.1980987 ]\n"
     ]
    }
   ],
   "source": [
    "n_clicks_control = data[data.slot == 'control'].n_clicks.values\n",
    "n_clicks_exp = data[data.slot == 'exp'].n_clicks.values\n",
    "\n",
    "\n",
    "control_mean_scores = list(map(np.mean, get_bootstrap_samples(n_clicks_control, 1000)))\n",
    "exp_mean_scores = list(map(np.mean, get_bootstrap_samples(n_clicks_exp, 1000)))\n",
    "\n",
    "print(\"95% confidence interval for the control n_clicks:\",  stat_intervals(control_mean_scores, 0.05))\n",
    "print(\"95% confidence interval for the exp n_clicks:\",  stat_intervals(exp_mean_scores, 0.05))\n",
    "print(\"difference between means:\", np.mean(n_clicks_control) - np.mean(n_clicks_exp))\n",
    "\n",
    "delta_mean_scores = list(map(lambda x: x[0] - x[1], zip(control_mean_scores, exp_mean_scores)))\n",
    "print(\"95% confidence interval for the difference between means\",  stat_intervals(delta_mean_scores, 0.05))"
   ]
  },
  {
   "cell_type": "code",
   "execution_count": 8,
   "metadata": {},
   "outputs": [
    {
     "data": {
      "text/plain": [
       "array([12,  4, 22, ...,  4,  4,  3])"
      ]
     },
     "execution_count": 8,
     "metadata": {},
     "output_type": "execute_result"
    }
   ],
   "source": [
    "n_clicks  = np.hstack((n_clicks_control, n_clicks_exp))\n",
    "n_clicks"
   ]
  },
  {
   "cell_type": "code",
   "execution_count": 9,
   "metadata": {},
   "outputs": [
    {
     "name": "stdout",
     "output_type": "stream",
     "text": [
      "95% confidence interval for the united n_clicks: [11.37937993 11.48187611]\n"
     ]
    }
   ],
   "source": [
    "mean_scores = list(map(np.mean, get_bootstrap_samples(n_clicks, 1000)))\n",
    "print(\"95% confidence interval for the united n_clicks:\",  stat_intervals(mean_scores, 0.05)) ##bullshit?"
   ]
  },
  {
   "cell_type": "code",
   "execution_count": 12,
   "metadata": {},
   "outputs": [
    {
     "data": {
      "image/png": "[encoded data removed]",
      "text/plain": [
       "<Figure size 432x288 with 1 Axes>"
      ]
     },
     "metadata": {
      "needs_background": "light"
     },
     "output_type": "display_data"
    }
   ],
   "source": [
    "import matplotlib.pyplot as plt\n",
    "plt.hist(n_clicks_control, bins = 80)\n",
    "plt.show()"
   ]
  },
  {
   "cell_type": "code",
   "execution_count": 13,
   "metadata": {},
   "outputs": [
    {
     "data": {
      "text/plain": [
       "((array([494.42976641, 494.61921974, 494.72195324, ..., 503.27804676,\n",
       "         503.38078026, 503.57023359]),\n",
       "  array([  0,   0,   0, ..., 627, 773, 863])),\n",
       " (14.864475170767367, -7406.092203952593, 0.7328783997528364))"
      ]
     },
     "execution_count": 13,
     "metadata": {},
     "output_type": "execute_result"
    },
    {
     "data": {
      "image/png": "[encoded data removed]",
      "text/plain": [
       "<Figure size 432x288 with 1 Axes>"
      ]
     },
     "metadata": {
      "needs_background": "light"
     },
     "output_type": "display_data"
    }
   ],
   "source": [
    "from scipy import stats\n",
    "n_boot_samples = 500\n",
    "stats.probplot(n_clicks_control, dist=\"norm\", sparams=(n_boot_samples-1), plot=plt)"
   ]
  },
  {
   "cell_type": "markdown",
   "metadata": {},
   "source": [
    "\n",
    "<img src = \"image1.png\">\n",
    "    \n",
    "Простое доказательство необходимости и достаточности этого требования можно посмотреть в самом последнем абзаце этого вопроса. Усвоение этого доказательства не обязательно для выполнения задания.\n",
    "\n",
    "Оба этих предположения можно проверить с помощью бутстрепа. Ограничимся сейчас только контрольной группой, в которой распределение кликов будем называть данными в рамках данного вопроса.\n",
    "\n",
    "Поскольку мы не знаем истинного распределения генеральной совокупности, мы можем применить бутстреп, чтобы понять, как распределены среднее значение и выборочная дисперсия. Для этого\n",
    "\n",
    "Получите из данных n_boot_samples псевдовыборок.\n",
    "По каждой из этих выборок посчитайте среднее и сумму квадратов отклонения от выборочного среднего (control_boot_chi_squared)\n",
    "Для получившегося вектора средних значений из n_boot_samples постройте q-q plot с помощью scipy.stats.probplot для нормального распределения\n",
    "Для получившегося вектора сумм квадратов отклонения от выборочного среднего постройте qq-plot с помощью scipy.stats.probplot для хи-квадрат распределения с помощью команды\n",
    "    \n",
    "В качестве ответа отметьте верные утвердения о значениях R^2\n",
    " , которые генерирует scipy.stats.probplot при отображении qq-графиков: одно c графика для среднего и одно с графика для выборочной суммы квадратов отклонения от выборочной суммы.\n",
    "\n",
    "<img src = \"image2.png\">\n"
   ]
  },
  {
   "cell_type": "code",
   "execution_count": 45,
   "metadata": {},
   "outputs": [],
   "source": [
    "np.random.seed(0)\n",
    "n_boot_samples = 500\n",
    "n_clicks_control_bootstrap =  get_bootstrap_samples(n_clicks_control, n_boot_samples)\n",
    "n_clicks_control_bootstrap_means = np.mean(n_clicks_control_bootstrap, axis = 1)\n",
    "control_boot_chi_squared = sum((n_clicks_control_bootstrap - n_clicks_control_bootstrap_means.reshape(n_boot_samples, 1))**2)"
   ]
  },
  {
   "cell_type": "code",
   "execution_count": 46,
   "metadata": {},
   "outputs": [
    {
     "data": {
      "text/plain": [
       "((array([496.00790142, 496.28984073, 496.44837459, 496.56078615,\n",
       "         496.64886689, 496.72177909, 496.78427733, 496.83915848,\n",
       "         496.88821233, 496.93265597, 496.97335597, 497.01095206,\n",
       "         497.04593046, 497.07866967, 497.10947035, 497.13857541,\n",
       "         497.16618407, 497.1924618 , 497.2175476 , 497.24155939,\n",
       "         497.26459814, 497.28675096, 497.30809357, 497.3286922 ,\n",
       "         497.34860517, 497.36788405, 497.38657472, 497.40471817,\n",
       "         497.42235117, 497.43950686, 497.45621519, 497.47250333,\n",
       "         497.48839601, 497.50391582, 497.51908341, 497.53391776,\n",
       "         497.54843633, 497.56265521, 497.57658929, 497.59025236,\n",
       "         497.60365721, 497.61681574, 497.62973905, 497.64243747,\n",
       "         497.65492068, 497.66719774, 497.67927713, 497.69116683,\n",
       "         497.70287433, 497.71440669, 497.72577056, 497.73697222,\n",
       "         497.74801761, 497.75891232, 497.76966169, 497.78027074,\n",
       "         497.79074426, 497.80108678, 497.81130262, 497.82139589,\n",
       "         497.8313705 , 497.84123017, 497.85097846, 497.86061877,\n",
       "         497.87015434, 497.87958827, 497.88892352, 497.89816293,\n",
       "         497.90730923, 497.91636502, 497.92533281, 497.93421499,\n",
       "         497.94301388, 497.95173169, 497.96037054, 497.9689325 ,\n",
       "         497.97741954, 497.98583355, 497.99417636, 498.00244975,\n",
       "         498.01065542, 498.018795  , 498.0268701 , 498.03488223,\n",
       "         498.04283288, 498.05072347, 498.05855541, 498.06633002,\n",
       "         498.0740486 , 498.0817124 , 498.08932265, 498.09688051,\n",
       "         498.10438714, 498.11184363, 498.11925107, 498.1266105 ,\n",
       "         498.13392292, 498.14118932, 498.14841066, 498.15558786,\n",
       "         498.16272182, 498.16981342, 498.17686352, 498.18387294,\n",
       "         498.19084249, 498.19777295, 498.20466509, 498.21151966,\n",
       "         498.21833739, 498.22511897, 498.2318651 , 498.23857645,\n",
       "         498.24525368, 498.25189743, 498.25850831, 498.26508696,\n",
       "         498.27163394, 498.27814986, 498.28463527, 498.29109073,\n",
       "         498.29751678, 498.30391396, 498.31028277, 498.31662373,\n",
       "         498.32293733, 498.32922406, 498.33548438, 498.34171877,\n",
       "         498.34792768, 498.35411155, 498.36027083, 498.36640592,\n",
       "         498.37251726, 498.37860526, 498.38467031, 498.39071281,\n",
       "         498.39673314, 498.40273169, 498.40870883, 498.41466491,\n",
       "         498.4206003 , 498.42651535, 498.4324104 , 498.43828579,\n",
       "         498.44414186, 498.44997892, 498.45579731, 498.46159733,\n",
       "         498.46737929, 498.4731435 , 498.47889026, 498.48461986,\n",
       "         498.4903326 , 498.49602874, 498.50170858, 498.50737239,\n",
       "         498.51302045, 498.51865301, 498.52427034, 498.5298727 ,\n",
       "         498.53546034, 498.54103351, 498.54659247, 498.55213745,\n",
       "         498.55766869, 498.56318643, 498.56869091, 498.57418235,\n",
       "         498.57966098, 498.58512702, 498.59058069, 498.59602221,\n",
       "         498.6014518 , 498.60686966, 498.61227601, 498.61767105,\n",
       "         498.62305498, 498.62842801, 498.63379033, 498.63914214,\n",
       "         498.64448364, 498.64981501, 498.65513645, 498.66044814,\n",
       "         498.66575027, 498.67104302, 498.67632656, 498.68160109,\n",
       "         498.68686678, 498.69212379, 498.69737231, 498.70261251,\n",
       "         498.70784456, 498.71306862, 498.71828486, 498.72349344,\n",
       "         498.72869454, 498.7338883 , 498.7390749 , 498.74425449,\n",
       "         498.74942723, 498.75459327, 498.75975277, 498.76490588,\n",
       "         498.77005275, 498.77519355, 498.7803284 , 498.78545748,\n",
       "         498.79058091, 498.79569885, 498.80081145, 498.80591885,\n",
       "         498.81102118, 498.81611861, 498.82121126, 498.82629927,\n",
       "         498.8313828 , 498.83646197, 498.84153692, 498.8466078 ,\n",
       "         498.85167473, 498.85673787, 498.86179733, 498.86685325,\n",
       "         498.87190577, 498.87695503, 498.88200115, 498.88704427,\n",
       "         498.89208452, 498.89712202, 498.90215692, 498.90718934,\n",
       "         498.91221941, 498.91724726, 498.92227301, 498.92729681,\n",
       "         498.93231877, 498.93733902, 498.9423577 , 498.94737492,\n",
       "         498.95239083, 498.95740553, 498.96241916, 498.96743185,\n",
       "         498.97244372, 498.97745489, 498.9824655 , 498.98747567,\n",
       "         498.99248553, 498.9974952 , 499.0025048 , 499.00751447,\n",
       "         499.01252433, 499.0175345 , 499.02254511, 499.02755628,\n",
       "         499.03256815, 499.03758084, 499.04259447, 499.04760917,\n",
       "         499.05262508, 499.0576423 , 499.06266098, 499.06768123,\n",
       "         499.07270319, 499.07772699, 499.08275274, 499.08778059,\n",
       "         499.09281066, 499.09784308, 499.10287798, 499.10791548,\n",
       "         499.11295573, 499.11799885, 499.12304497, 499.12809423,\n",
       "         499.13314675, 499.13820267, 499.14326213, 499.14832527,\n",
       "         499.1533922 , 499.15846308, 499.16353803, 499.1686172 ,\n",
       "         499.17370073, 499.17878874, 499.18388139, 499.18897882,\n",
       "         499.19408115, 499.19918855, 499.20430115, 499.20941909,\n",
       "         499.21454252, 499.2196716 , 499.22480645, 499.22994725,\n",
       "         499.23509412, 499.24024723, 499.24540673, 499.25057277,\n",
       "         499.25574551, 499.2609251 , 499.2661117 , 499.27130546,\n",
       "         499.27650656, 499.28171514, 499.28693138, 499.29215544,\n",
       "         499.29738749, 499.30262769, 499.30787621, 499.31313322,\n",
       "         499.31839891, 499.32367344, 499.32895698, 499.33424973,\n",
       "         499.33955186, 499.34486355, 499.35018499, 499.35551636,\n",
       "         499.36085786, 499.36620967, 499.37157199, 499.37694502,\n",
       "         499.38232895, 499.38772399, 499.39313034, 499.3985482 ,\n",
       "         499.40397779, 499.40941931, 499.41487298, 499.42033902,\n",
       "         499.42581765, 499.43130909, 499.43681357, 499.44233131,\n",
       "         499.44786255, 499.45340753, 499.45896649, 499.46453966,\n",
       "         499.4701273 , 499.47572966, 499.48134699, 499.48697955,\n",
       "         499.49262761, 499.49829142, 499.50397126, 499.5096674 ,\n",
       "         499.51538014, 499.52110974, 499.5268565 , 499.53262071,\n",
       "         499.53840267, 499.54420269, 499.55002108, 499.55585814,\n",
       "         499.56171421, 499.5675896 , 499.57348465, 499.5793997 ,\n",
       "         499.58533509, 499.59129117, 499.59726831, 499.60326686,\n",
       "         499.60928719, 499.61532969, 499.62139474, 499.62748274,\n",
       "         499.63359408, 499.63972917, 499.64588845, 499.65207232,\n",
       "         499.65828123, 499.66451562, 499.67077594, 499.67706267,\n",
       "         499.68337627, 499.68971723, 499.69608604, 499.70248322,\n",
       "         499.70890927, 499.71536473, 499.72185014, 499.72836606,\n",
       "         499.73491304, 499.74149169, 499.74810257, 499.75474632,\n",
       "         499.76142355, 499.7681349 , 499.77488103, 499.78166261,\n",
       "         499.78848034, 499.79533491, 499.80222705, 499.80915751,\n",
       "         499.81612706, 499.82313648, 499.83018658, 499.83727818,\n",
       "         499.84441214, 499.85158934, 499.85881068, 499.86607708,\n",
       "         499.8733895 , 499.88074893, 499.88815637, 499.89561286,\n",
       "         499.90311949, 499.91067735, 499.9182876 , 499.9259514 ,\n",
       "         499.93366998, 499.94144459, 499.94927653, 499.95716712,\n",
       "         499.96511777, 499.9731299 , 499.981205  , 499.98934458,\n",
       "         499.99755025, 500.00582364, 500.01416645, 500.02258046,\n",
       "         500.0310675 , 500.03962946, 500.04826831, 500.05698612,\n",
       "         500.06578501, 500.07466719, 500.08363498, 500.09269077,\n",
       "         500.10183707, 500.11107648, 500.12041173, 500.12984566,\n",
       "         500.13938123, 500.14902154, 500.15876983, 500.1686295 ,\n",
       "         500.17860411, 500.18869738, 500.19891322, 500.20925574,\n",
       "         500.21972926, 500.23033831, 500.24108768, 500.25198239,\n",
       "         500.26302778, 500.27422944, 500.28559331, 500.29712567,\n",
       "         500.30883317, 500.32072287, 500.33280226, 500.34507932,\n",
       "         500.35756253, 500.37026095, 500.38318426, 500.39634279,\n",
       "         500.40974764, 500.42341071, 500.43734479, 500.45156367,\n",
       "         500.46608224, 500.48091659, 500.49608418, 500.51160399,\n",
       "         500.52749667, 500.54378481, 500.56049314, 500.57764883,\n",
       "         500.59528183, 500.61342528, 500.63211595, 500.65139483,\n",
       "         500.6713078 , 500.69190643, 500.71324904, 500.73540186,\n",
       "         500.75844061, 500.7824524 , 500.8075382 , 500.83381593,\n",
       "         500.86142459, 500.89052965, 500.92133033, 500.95406954,\n",
       "         500.98904794, 501.02664403, 501.06734403, 501.11178767,\n",
       "         501.16084152, 501.21572267, 501.27822091, 501.35113311,\n",
       "         501.43921385, 501.55162541, 501.71015927, 501.99209858]),\n",
       "  array([11.16804622, 11.17174534, 11.1785212 , 11.18101775, 11.18238206,\n",
       "         11.19759346, 11.20516048, 11.20537849, 11.20776252, 11.21134912,\n",
       "         11.21234423, 11.21285057, 11.21313539, 11.21584292, 11.21641607,\n",
       "         11.21694703, 11.21698219, 11.21713339, 11.21921151, 11.22008706,\n",
       "         11.22195772, 11.22308996, 11.22358927, 11.22370882, 11.22376508,\n",
       "         11.22470745, 11.22696489, 11.22759431, 11.22779825, 11.22826591,\n",
       "         11.22867029, 11.22873358, 11.22933135, 11.23138837, 11.23208459,\n",
       "         11.232823  , 11.23400096, 11.23476399, 11.23484838, 11.23514375,\n",
       "         11.23572393, 11.23580129, 11.2358048 , 11.23651861, 11.23655025,\n",
       "         11.23723593, 11.23757349, 11.23765436, 11.23828378, 11.23859321,\n",
       "         11.23889209, 11.23934569, 11.24117064, 11.24188092, 11.24195125,\n",
       "         11.24212003, 11.24259473, 11.24268967, 11.24283735, 11.24311514,\n",
       "         11.24339644, 11.24352654, 11.24362148, 11.24487679, 11.24512293,\n",
       "         11.24530578, 11.24542533, 11.2455695 , 11.24608287, 11.24626923,\n",
       "         11.24664196, 11.24674393, 11.24692326, 11.24693733, 11.24742257,\n",
       "         11.24783749, 11.24798518, 11.24807308, 11.2480977 , 11.24848449,\n",
       "         11.24859349, 11.24860756, 11.24868843, 11.24887831, 11.24912445,\n",
       "         11.24947256, 11.24961321, 11.25052041, 11.25067864, 11.25080171,\n",
       "         11.25139948, 11.25157881, 11.25194802, 11.25243326, 11.25277786,\n",
       "         11.25311542, 11.25315761, 11.25349166, 11.25357253, 11.25365341,\n",
       "         11.25383625, 11.25387845, 11.25398745, 11.25465555, 11.25477862,\n",
       "         11.25513728, 11.25525683, 11.25569285, 11.25571043, 11.25602689,\n",
       "         11.25608667, 11.25620622, 11.25660005, 11.25664927, 11.25700793,\n",
       "         11.25723649, 11.25727517, 11.2576057 , 11.25785887, 11.25845664,\n",
       "         11.25901924, 11.25914934, 11.25995457, 11.26008819, 11.26019016,\n",
       "         11.26037301, 11.26066486, 11.26105516, 11.26147008, 11.26147712,\n",
       "         11.26149118, 11.26176193, 11.2619061 , 11.2620362 , 11.26279923,\n",
       "         11.2629645 , 11.26302076, 11.26316844, 11.26352359, 11.26470857,\n",
       "         11.2647789 , 11.26502855, 11.26510239, 11.26511646, 11.26561225,\n",
       "         11.26580565, 11.26596036, 11.26643155, 11.26668472, 11.26750752,\n",
       "         11.26759543, 11.26790838, 11.26807716, 11.26844285, 11.26926918,\n",
       "         11.26980014, 11.27003924, 11.2701166 , 11.27012715, 11.27017989,\n",
       "         11.2702678 , 11.27049636, 11.27066865, 11.27140356, 11.27185715,\n",
       "         11.27209626, 11.27220878, 11.27239866, 11.27254634, 11.27255338,\n",
       "         11.27263425, 11.27270458, 11.2727749 , 11.2728382 , 11.27289446,\n",
       "         11.27290852, 11.27291204, 11.27294368, 11.27301401, 11.27309137,\n",
       "         11.27321092, 11.27325312, 11.27335157, 11.27363287, 11.27415328,\n",
       "         11.27454007, 11.27482137, 11.275064  , 11.27557737, 11.27565473,\n",
       "         11.27566176, 11.27592197, 11.27648457, 11.27658654, 11.27687488,\n",
       "         11.27714915, 11.27745155, 11.27766604, 11.27866466, 11.27876663,\n",
       "         11.27891783, 11.2793644 , 11.27941011, 11.2795156 , 11.27973712,\n",
       "         11.27978987, 11.27999733, 11.28003249, 11.28021534, 11.2806619 ,\n",
       "         11.2808342 , 11.28090804, 11.2812667 , 11.28141439, 11.28157262,\n",
       "         11.28168866, 11.28211764, 11.28237433, 11.28243762, 11.28253959,\n",
       "         11.2826064 , 11.2826275 , 11.28277167, 11.28309868, 11.28314439,\n",
       "         11.2841606 , 11.28419224, 11.28458255, 11.28458958, 11.28462474,\n",
       "         11.28493769, 11.28512054, 11.28552491, 11.28575698, 11.28603125,\n",
       "         11.28606642, 11.28629849, 11.28635475, 11.28648134, 11.28652001,\n",
       "         11.28665012, 11.2868189 , 11.28704746, 11.28725843, 11.2875116 ,\n",
       "         11.28770148, 11.28857703, 11.28893569, 11.28895328, 11.28897086,\n",
       "         11.2893049 , 11.28951236, 11.28954049, 11.2895862 , 11.28980773,\n",
       "         11.2900609 , 11.29013123, 11.29013826, 11.29054966, 11.29071844,\n",
       "         11.29132676, 11.2914006 , 11.2914006 , 11.29141467, 11.29171355,\n",
       "         11.2917241 , 11.2921777 , 11.29276843, 11.2931728 , 11.29317632,\n",
       "         11.29396748, 11.29403781, 11.29473755, 11.29480435, 11.29484655,\n",
       "         11.29500127, 11.29508917, 11.29510324, 11.29538102, 11.29543025,\n",
       "         11.29551464, 11.29557793, 11.29571859, 11.29586275, 11.29619328,\n",
       "         11.29653788, 11.29680863, 11.29711455, 11.29729739, 11.29741343,\n",
       "         11.29748375, 11.29752947, 11.29769825, 11.29777912, 11.29834524,\n",
       "         11.29851051, 11.29860896, 11.29884807, 11.29908366, 11.29925947,\n",
       "         11.29928057, 11.29930167, 11.29972714, 11.29997328, 11.30048665,\n",
       "         11.30070466, 11.30141495, 11.30167164, 11.301858  , 11.30192129,\n",
       "         11.30196349, 11.30212875, 11.30228698, 11.30254367, 11.30275465,\n",
       "         11.30294453, 11.30304298, 11.30359504, 11.3038025 , 11.30383063,\n",
       "         11.30420687, 11.30459366, 11.30459718, 11.30462531, 11.30478705,\n",
       "         11.3051633 , 11.30533911, 11.30553602, 11.30558525, 11.30558876,\n",
       "         11.30564151, 11.30592984, 11.30593688, 11.30598962, 11.30601072,\n",
       "         11.30606698, 11.30624982, 11.30627795, 11.30628147, 11.30644674,\n",
       "         11.3064608 , 11.30655574, 11.30671397, 11.30680188, 11.30692495,\n",
       "         11.30697769, 11.30713241, 11.30735745, 11.30756843, 11.30819784,\n",
       "         11.30826113, 11.30922811, 11.30933711, 11.30946018, 11.30956919,\n",
       "         11.30987159, 11.31017399, 11.31049397, 11.31088779, 11.31107063,\n",
       "         11.31138007, 11.31144336, 11.31169653, 11.31197432, 11.31205871,\n",
       "         11.31205871, 11.31235407, 11.31243847, 11.312878  , 11.31345115,\n",
       "         11.31377113, 11.31382388, 11.31399266, 11.31413331, 11.31447439,\n",
       "         11.31452713, 11.31512138, 11.31574025, 11.316011  , 11.31625362,\n",
       "         11.31641185, 11.3166158 , 11.31749838, 11.31775507, 11.31850755,\n",
       "         11.3185392 , 11.31868688, 11.3191229 , 11.3193163 , 11.31937607,\n",
       "         11.31947453, 11.32018833, 11.32019888, 11.32030085, 11.32071226,\n",
       "         11.32109905, 11.32112014, 11.32158429, 11.32177417, 11.32259346,\n",
       "         11.32292751, 11.32309981, 11.32341275, 11.32350769, 11.32369757,\n",
       "         11.32373977, 11.32436215, 11.32506189, 11.32514276, 11.32574756,\n",
       "         11.32608161, 11.32665476, 11.32668992, 11.32681651, 11.32723846,\n",
       "         11.32773777, 11.327787  , 11.3281984 , 11.32829686, 11.32900363,\n",
       "         11.32910208, 11.32926032, 11.32937987, 11.32969985, 11.32995654,\n",
       "         11.33010774, 11.33011125, 11.33103955, 11.33147557, 11.33186236,\n",
       "         11.3324988 , 11.33287505, 11.33301218, 11.33347633, 11.33348336,\n",
       "         11.33384905, 11.33393344, 11.33414442, 11.33441166, 11.3344855 ,\n",
       "         11.33459099, 11.33574432, 11.33599398, 11.33616979, 11.3363878 ,\n",
       "         11.33669723, 11.33673591, 11.33689766, 11.33701722, 11.33772047,\n",
       "         11.33827253, 11.33933796, 11.3399744 , 11.34012209, 11.34017131,\n",
       "         11.34042097, 11.34052997, 11.34080776, 11.34165518, 11.34265732,\n",
       "         11.34271358, 11.34284016, 11.34311795, 11.34313905, 11.34320937,\n",
       "         11.3438845 , 11.34420096, 11.34435568, 11.34473192, 11.34508355,\n",
       "         11.34525584, 11.34567076, 11.34821303, 11.34885299, 11.34921868,\n",
       "         11.34932066, 11.34939801, 11.34953515, 11.34975316, 11.34989732,\n",
       "         11.35153942, 11.35170469, 11.35170469, 11.35476736, 11.35695449,\n",
       "         11.35740105, 11.35837154, 11.35974992, 11.36277392, 11.36372331,\n",
       "         11.36713761, 11.36824524, 11.36951461, 11.36957791, 11.3746765 ,\n",
       "         11.37530943, 11.37891713, 11.38077372, 11.38291513, 11.38450097])),\n",
       " (0.0387362809993772, -8.041245395656224, 0.9984067257996938))"
      ]
     },
     "execution_count": 46,
     "metadata": {},
     "output_type": "execute_result"
    },
    {
     "data": {
      "image/png": "[encoded data removed]",
      "text/plain": [
       "<Figure size 432x288 with 1 Axes>"
      ]
     },
     "metadata": {
      "needs_background": "light"
     },
     "output_type": "display_data"
    }
   ],
   "source": [
    "stats.probplot(n_clicks_control_bootstrap_means, dist=\"norm\", sparams=(n_boot_samples-1), plot=plt)"
   ]
  },
  {
   "cell_type": "code",
   "execution_count": 47,
   "metadata": {},
   "outputs": [
    {
     "data": {
      "text/plain": [
       "((array([367.6442189 , 372.53648051, 375.20788183, ..., 645.83747148,\n",
       "         649.69283594, 656.84189024]),\n",
       "  array([  65866.30577125,   67455.34153175,   69638.19513523, ...,\n",
       "         1395384.20128167, 1412260.44462185, 1508616.33674259])),\n",
       " (2297.501404201402, -940568.3967292218, 0.888632466392363))"
      ]
     },
     "execution_count": 47,
     "metadata": {},
     "output_type": "execute_result"
    },
    {
     "data": {
      "image/png": "[encoded data removed]",
      "text/plain": [
       "<Figure size 432x288 with 1 Axes>"
      ]
     },
     "metadata": {
      "needs_background": "light"
     },
     "output_type": "display_data"
    }
   ],
   "source": [
    "stats.probplot(control_boot_chi_squared, dist=\"chi2\", sparams=(n_boot_samples-1), plot=plt) #R^2 - last number in tuple of size 3"
   ]
  },
  {
   "cell_type": "markdown",
   "metadata": {},
   "source": [
    "Одним из возможных аналогов t-критерия, которым можно воспрользоваться, является тест Манна-Уитни. На достаточно обширном классе распределений он является асимптотически более эффективным, чем t-критерий, и при этом не требует параметрических предположений о характере распределения.\n",
    "\n",
    "Разделите выборку на две части, соответствующие control и exp группам. Преобразуйте данные к виду, чтобы каждому пользователю соответствовало суммарное значение его кликов. С помощью критерия Манна-Уитни проверьте гипотезу о равенстве средних. Что можно сказать о получившемся значении достигаемого уровня значимости ? Выберите все правильные ответы"
   ]
  },
  {
   "cell_type": "code",
   "execution_count": 19,
   "metadata": {},
   "outputs": [
    {
     "data": {
      "text/html": [
       "<div>\n",
       "<style scoped>\n",
       "    .dataframe tbody tr th:only-of-type {\n",
       "        vertical-align: middle;\n",
       "    }\n",
       "\n",
       "    .dataframe tbody tr th {\n",
       "        vertical-align: top;\n",
       "    }\n",
       "\n",
       "    .dataframe thead tr th {\n",
       "        text-align: left;\n",
       "    }\n",
       "\n",
       "    .dataframe thead tr:last-of-type th {\n",
       "        text-align: right;\n",
       "    }\n",
       "</style>\n",
       "<table border=\"1\" class=\"dataframe\">\n",
       "  <thead>\n",
       "    <tr>\n",
       "      <th></th>\n",
       "      <th colspan=\"2\" halign=\"left\">n_clicks</th>\n",
       "    </tr>\n",
       "    <tr>\n",
       "      <th>slot</th>\n",
       "      <th>control</th>\n",
       "      <th>exp</th>\n",
       "    </tr>\n",
       "    <tr>\n",
       "      <th>userID</th>\n",
       "      <th></th>\n",
       "      <th></th>\n",
       "    </tr>\n",
       "  </thead>\n",
       "  <tbody>\n",
       "    <tr>\n",
       "      <th>1</th>\n",
       "      <td>NaN</td>\n",
       "      <td>23.0</td>\n",
       "    </tr>\n",
       "    <tr>\n",
       "      <th>3</th>\n",
       "      <td>NaN</td>\n",
       "      <td>3.0</td>\n",
       "    </tr>\n",
       "    <tr>\n",
       "      <th>5</th>\n",
       "      <td>NaN</td>\n",
       "      <td>29.0</td>\n",
       "    </tr>\n",
       "    <tr>\n",
       "      <th>6</th>\n",
       "      <td>12.0</td>\n",
       "      <td>NaN</td>\n",
       "    </tr>\n",
       "    <tr>\n",
       "      <th>7</th>\n",
       "      <td>NaN</td>\n",
       "      <td>54.0</td>\n",
       "    </tr>\n",
       "    <tr>\n",
       "      <th>...</th>\n",
       "      <td>...</td>\n",
       "      <td>...</td>\n",
       "    </tr>\n",
       "    <tr>\n",
       "      <th>603133</th>\n",
       "      <td>1.0</td>\n",
       "      <td>NaN</td>\n",
       "    </tr>\n",
       "    <tr>\n",
       "      <th>603134</th>\n",
       "      <td>NaN</td>\n",
       "      <td>4.0</td>\n",
       "    </tr>\n",
       "    <tr>\n",
       "      <th>603135</th>\n",
       "      <td>0.0</td>\n",
       "      <td>NaN</td>\n",
       "    </tr>\n",
       "    <tr>\n",
       "      <th>603136</th>\n",
       "      <td>2.0</td>\n",
       "      <td>NaN</td>\n",
       "    </tr>\n",
       "    <tr>\n",
       "      <th>603137</th>\n",
       "      <td>NaN</td>\n",
       "      <td>3.0</td>\n",
       "    </tr>\n",
       "  </tbody>\n",
       "</table>\n",
       "<p>565842 rows × 2 columns</p>\n",
       "</div>"
      ],
      "text/plain": [
       "       n_clicks      \n",
       "slot    control   exp\n",
       "userID               \n",
       "1           NaN  23.0\n",
       "3           NaN   3.0\n",
       "5           NaN  29.0\n",
       "6          12.0   NaN\n",
       "7           NaN  54.0\n",
       "...         ...   ...\n",
       "603133      1.0   NaN\n",
       "603134      NaN   4.0\n",
       "603135      0.0   NaN\n",
       "603136      2.0   NaN\n",
       "603137      NaN   3.0\n",
       "\n",
       "[565842 rows x 2 columns]"
      ]
     },
     "execution_count": 19,
     "metadata": {},
     "output_type": "execute_result"
    }
   ],
   "source": [
    "table = pd.pivot_table(data, values = ['n_clicks'], index = ['userID'], columns = ['slot'], aggfunc = np.sum)\n",
    "table"
   ]
  },
  {
   "cell_type": "code",
   "execution_count": 20,
   "metadata": {},
   "outputs": [],
   "source": [
    "n_clicks_control = table.n_clicks.control.values\n",
    "n_clicks_exp = table.n_clicks.exp.values"
   ]
  },
  {
   "cell_type": "code",
   "execution_count": 21,
   "metadata": {},
   "outputs": [],
   "source": [
    "def isNaN(x):\n",
    "    return x != x"
   ]
  },
  {
   "cell_type": "code",
   "execution_count": 22,
   "metadata": {},
   "outputs": [],
   "source": [
    "n_clicks_control = n_clicks_control[~isNaN(n_clicks_control)]\n",
    "n_clicks_exp = n_clicks_exp[~isNaN(n_clicks_exp)]"
   ]
  },
  {
   "cell_type": "code",
   "execution_count": 23,
   "metadata": {},
   "outputs": [
    {
     "data": {
      "text/plain": [
       "MannwhitneyuResult(statistic=38901259929.0, pvalue=4.3471471887604393e-75)"
      ]
     },
     "execution_count": 23,
     "metadata": {},
     "output_type": "execute_result"
    }
   ],
   "source": [
    "stats.mannwhitneyu(n_clicks_control, n_clicks_exp)"
   ]
  },
  {
   "cell_type": "code",
   "execution_count": 25,
   "metadata": {},
   "outputs": [
    {
     "name": "stdout",
     "output_type": "stream",
     "text": [
      "Mann-Whitney criterion pvalue result: 0.0000\n"
     ]
    },
    {
     "data": {
      "text/plain": [
       "MannwhitneyuResult(statistic=38901259929.0, pvalue=8.694294377520879e-75)"
      ]
     },
     "execution_count": 25,
     "metadata": {},
     "output_type": "execute_result"
    }
   ],
   "source": [
    "exp_data = data[data[\"slot\"]==\"exp\"]\n",
    "control_data = data[data[\"slot\"]==\"control\"]\n",
    "\n",
    "exp_user_clicks = exp_data.groupby(\"userID\").agg(\"sum\")[\"n_clicks\"]\n",
    "control_user_clicks = control_data.groupby(\"userID\").agg(\"sum\")[\"n_clicks\"]\n",
    "\n",
    "mann_whitney_stat = stats.mannwhitneyu(control_user_clicks, exp_user_clicks, alternative=\"two-sided\")\n",
    "print(\"Mann-Whitney criterion pvalue result: %.4f\" % np.round(mann_whitney_stat.pvalue, 4))\n",
    "mann_whitney_stat"
   ]
  },
  {
   "cell_type": "code",
   "execution_count": 50,
   "metadata": {},
   "outputs": [
    {
     "data": {
      "text/html": [
       "<div>\n",
       "<style scoped>\n",
       "    .dataframe tbody tr th:only-of-type {\n",
       "        vertical-align: middle;\n",
       "    }\n",
       "\n",
       "    .dataframe tbody tr th {\n",
       "        vertical-align: top;\n",
       "    }\n",
       "\n",
       "    .dataframe thead th {\n",
       "        text-align: right;\n",
       "    }\n",
       "</style>\n",
       "<table border=\"1\" class=\"dataframe\">\n",
       "  <thead>\n",
       "    <tr style=\"text-align: right;\">\n",
       "      <th></th>\n",
       "      <th>n_clicks</th>\n",
       "      <th>n_queries</th>\n",
       "      <th>n_nonclk_queries</th>\n",
       "    </tr>\n",
       "    <tr>\n",
       "      <th>userID</th>\n",
       "      <th></th>\n",
       "      <th></th>\n",
       "      <th></th>\n",
       "    </tr>\n",
       "  </thead>\n",
       "  <tbody>\n",
       "    <tr>\n",
       "      <th>1</th>\n",
       "      <td>23</td>\n",
       "      <td>32</td>\n",
       "      <td>19</td>\n",
       "    </tr>\n",
       "    <tr>\n",
       "      <th>3</th>\n",
       "      <td>3</td>\n",
       "      <td>4</td>\n",
       "      <td>2</td>\n",
       "    </tr>\n",
       "    <tr>\n",
       "      <th>5</th>\n",
       "      <td>29</td>\n",
       "      <td>35</td>\n",
       "      <td>16</td>\n",
       "    </tr>\n",
       "    <tr>\n",
       "      <th>7</th>\n",
       "      <td>54</td>\n",
       "      <td>68</td>\n",
       "      <td>30</td>\n",
       "    </tr>\n",
       "    <tr>\n",
       "      <th>9</th>\n",
       "      <td>6</td>\n",
       "      <td>3</td>\n",
       "      <td>1</td>\n",
       "    </tr>\n",
       "    <tr>\n",
       "      <th>...</th>\n",
       "      <td>...</td>\n",
       "      <td>...</td>\n",
       "      <td>...</td>\n",
       "    </tr>\n",
       "    <tr>\n",
       "      <th>603129</th>\n",
       "      <td>0</td>\n",
       "      <td>1</td>\n",
       "      <td>1</td>\n",
       "    </tr>\n",
       "    <tr>\n",
       "      <th>603130</th>\n",
       "      <td>0</td>\n",
       "      <td>1</td>\n",
       "      <td>1</td>\n",
       "    </tr>\n",
       "    <tr>\n",
       "      <th>603131</th>\n",
       "      <td>4</td>\n",
       "      <td>4</td>\n",
       "      <td>1</td>\n",
       "    </tr>\n",
       "    <tr>\n",
       "      <th>603134</th>\n",
       "      <td>4</td>\n",
       "      <td>2</td>\n",
       "      <td>0</td>\n",
       "    </tr>\n",
       "    <tr>\n",
       "      <th>603137</th>\n",
       "      <td>3</td>\n",
       "      <td>1</td>\n",
       "      <td>0</td>\n",
       "    </tr>\n",
       "  </tbody>\n",
       "</table>\n",
       "<p>281450 rows × 3 columns</p>\n",
       "</div>"
      ],
      "text/plain": [
       "        n_clicks  n_queries  n_nonclk_queries\n",
       "userID                                       \n",
       "1             23         32                19\n",
       "3              3          4                 2\n",
       "5             29         35                16\n",
       "7             54         68                30\n",
       "9              6          3                 1\n",
       "...          ...        ...               ...\n",
       "603129         0          1                 1\n",
       "603130         0          1                 1\n",
       "603131         4          4                 1\n",
       "603134         4          2                 0\n",
       "603137         3          1                 0\n",
       "\n",
       "[281450 rows x 3 columns]"
      ]
     },
     "execution_count": 50,
     "metadata": {},
     "output_type": "execute_result"
    }
   ],
   "source": [
    "exp_data.groupby(\"userID\").agg(\"sum\")"
   ]
  },
  {
   "cell_type": "markdown",
   "metadata": {},
   "source": [
    "Проверьте, для какого из браузеров наиболее сильно выражено отличие между количеством кликов в контрольной и экспериментальной группах.\n",
    "\n",
    "Для этого примените для каждого из срезов (по каждому из уникальных значений столбца browser) критерий Манна-Уитни между control и exp группами и сделайте поправку Холма-Бонферрони на множественную проверку с α=0.05.\n",
    "\n",
    "Какое заключение можно сделать исходя из полученных результатов ?\n",
    "\n",
    "В качестве ответа введите количество незначимых изменений с точки зрения результатов, полученных после введения коррекции.\n",
    "\n"
   ]
  },
  {
   "cell_type": "code",
   "execution_count": 29,
   "metadata": {},
   "outputs": [],
   "source": [
    "vc = data.browser.value_counts()"
   ]
  },
  {
   "cell_type": "code",
   "execution_count": 30,
   "metadata": {},
   "outputs": [
    {
     "name": "stderr",
     "output_type": "stream",
     "text": [
      "/Users/andrewbelyaev/opt/anaconda3/lib/python3.7/site-packages/ipykernel_launcher.py:1: UserWarning: Boolean Series key will be reindexed to match DataFrame index.\n",
      "  \"\"\"Entry point for launching an IPython kernel.\n",
      "/Users/andrewbelyaev/opt/anaconda3/lib/python3.7/site-packages/ipykernel_launcher.py:2: UserWarning: Boolean Series key will be reindexed to match DataFrame index.\n",
      "  \n",
      "/Users/andrewbelyaev/opt/anaconda3/lib/python3.7/site-packages/ipykernel_launcher.py:3: UserWarning: Boolean Series key will be reindexed to match DataFrame index.\n",
      "  This is separate from the ipykernel package so we can avoid doing imports until\n",
      "/Users/andrewbelyaev/opt/anaconda3/lib/python3.7/site-packages/ipykernel_launcher.py:4: UserWarning: Boolean Series key will be reindexed to match DataFrame index.\n",
      "  after removing the cwd from sys.path.\n",
      "/Users/andrewbelyaev/opt/anaconda3/lib/python3.7/site-packages/ipykernel_launcher.py:5: UserWarning: Boolean Series key will be reindexed to match DataFrame index.\n",
      "  \"\"\"\n",
      "/Users/andrewbelyaev/opt/anaconda3/lib/python3.7/site-packages/ipykernel_launcher.py:6: UserWarning: Boolean Series key will be reindexed to match DataFrame index.\n",
      "  \n",
      "/Users/andrewbelyaev/opt/anaconda3/lib/python3.7/site-packages/ipykernel_launcher.py:7: UserWarning: Boolean Series key will be reindexed to match DataFrame index.\n",
      "  import sys\n",
      "/Users/andrewbelyaev/opt/anaconda3/lib/python3.7/site-packages/ipykernel_launcher.py:8: UserWarning: Boolean Series key will be reindexed to match DataFrame index.\n",
      "  \n",
      "/Users/andrewbelyaev/opt/anaconda3/lib/python3.7/site-packages/ipykernel_launcher.py:9: UserWarning: Boolean Series key will be reindexed to match DataFrame index.\n",
      "  if __name__ == '__main__':\n",
      "/Users/andrewbelyaev/opt/anaconda3/lib/python3.7/site-packages/ipykernel_launcher.py:10: UserWarning: Boolean Series key will be reindexed to match DataFrame index.\n",
      "  # Remove the CWD from sys.path while we load stuff.\n",
      "/Users/andrewbelyaev/opt/anaconda3/lib/python3.7/site-packages/ipykernel_launcher.py:11: UserWarning: Boolean Series key will be reindexed to match DataFrame index.\n",
      "  # This is added back by InteractiveShellApp.init_path()\n",
      "/Users/andrewbelyaev/opt/anaconda3/lib/python3.7/site-packages/ipykernel_launcher.py:12: UserWarning: Boolean Series key will be reindexed to match DataFrame index.\n",
      "  if sys.path[0] == '':\n"
     ]
    }
   ],
   "source": [
    "control_4 = data[data.slot == 'control'][data.browser == 'Browser #4'].n_clicks.values\n",
    "exp_4 = data[data.slot == 'exp'][data.browser == 'Browser #4'].n_clicks.values\n",
    "control_22 = data[data.slot == 'control'][data.browser == 'Browser #22'].n_clicks.values\n",
    "exp_22 = data[data.slot == 'exp'][data.browser == 'Browser #22'].n_clicks.values\n",
    "control_2 = data[data.slot == 'control'][data.browser == 'Browser #4'].n_clicks.values\n",
    "exp_2 = data[data.slot == 'exp'][data.browser == 'Browser #4'].n_clicks.values\n",
    "control_14 = data[data.slot == 'control'][data.browser == 'Browser #14'].n_clicks.values\n",
    "exp_14 = data[data.slot == 'exp'][data.browser == 'Browser #14'].n_clicks.values\n",
    "control_20 = data[data.slot == 'control'][data.browser == 'Browser #20'].n_clicks.values\n",
    "exp_20 = data[data.slot == 'exp'][data.browser == 'Browser #20'].n_clicks.values\n",
    "control_17 = data[data.slot == 'control'][data.browser == 'Browser #17'].n_clicks.values\n",
    "exp_17 = data[data.slot == 'exp'][data.browser == 'Browser #17'].n_clicks.values"
   ]
  },
  {
   "cell_type": "code",
   "execution_count": 31,
   "metadata": {},
   "outputs": [
    {
     "name": "stderr",
     "output_type": "stream",
     "text": [
      "/Users/andrewbelyaev/opt/anaconda3/lib/python3.7/site-packages/statsmodels/tools/_testing.py:19: FutureWarning: pandas.util.testing is deprecated. Use the functions in the public API at pandas.testing instead.\n",
      "  import pandas.util.testing as tm\n"
     ]
    },
    {
     "data": {
      "text/html": [
       "<div>\n",
       "<style scoped>\n",
       "    .dataframe tbody tr th:only-of-type {\n",
       "        vertical-align: middle;\n",
       "    }\n",
       "\n",
       "    .dataframe tbody tr th {\n",
       "        vertical-align: top;\n",
       "    }\n",
       "\n",
       "    .dataframe thead th {\n",
       "        text-align: right;\n",
       "    }\n",
       "</style>\n",
       "<table border=\"1\" class=\"dataframe\">\n",
       "  <thead>\n",
       "    <tr style=\"text-align: right;\">\n",
       "      <th></th>\n",
       "      <th>p</th>\n",
       "      <th>p_corrected</th>\n",
       "      <th>reject</th>\n",
       "    </tr>\n",
       "  </thead>\n",
       "  <tbody>\n",
       "    <tr>\n",
       "      <th>Browser #4</th>\n",
       "      <td>0.407606</td>\n",
       "      <td>1.000000</td>\n",
       "      <td>False</td>\n",
       "    </tr>\n",
       "    <tr>\n",
       "      <th>Browser #22</th>\n",
       "      <td>0.257406</td>\n",
       "      <td>1.000000</td>\n",
       "      <td>False</td>\n",
       "    </tr>\n",
       "    <tr>\n",
       "      <th>Browser #2</th>\n",
       "      <td>0.407606</td>\n",
       "      <td>1.000000</td>\n",
       "      <td>False</td>\n",
       "    </tr>\n",
       "    <tr>\n",
       "      <th>Browser #14</th>\n",
       "      <td>0.000000</td>\n",
       "      <td>0.000000</td>\n",
       "      <td>True</td>\n",
       "    </tr>\n",
       "    <tr>\n",
       "      <th>Browser #20</th>\n",
       "      <td>0.453667</td>\n",
       "      <td>1.000000</td>\n",
       "      <td>False</td>\n",
       "    </tr>\n",
       "    <tr>\n",
       "      <th>Browser #17</th>\n",
       "      <td>0.037401</td>\n",
       "      <td>0.187003</td>\n",
       "      <td>False</td>\n",
       "    </tr>\n",
       "  </tbody>\n",
       "</table>\n",
       "</div>"
      ],
      "text/plain": [
       "                    p  p_corrected  reject\n",
       "Browser #4   0.407606     1.000000   False\n",
       "Browser #22  0.257406     1.000000   False\n",
       "Browser #2   0.407606     1.000000   False\n",
       "Browser #14  0.000000     0.000000    True\n",
       "Browser #20  0.453667     1.000000   False\n",
       "Browser #17  0.037401     0.187003   False"
      ]
     },
     "execution_count": 31,
     "metadata": {},
     "output_type": "execute_result"
    }
   ],
   "source": [
    "from statsmodels.sandbox.stats.multicomp import multipletests \n",
    "p = []\n",
    "for item in [(control_4, exp_4), (control_22, exp_22), (control_2, exp_2), (control_14, exp_14),\n",
    "             (control_20, exp_20), (control_17, exp_17)]:\n",
    "    stat, p_value = stats.mannwhitneyu(item[0], item[1])\n",
    "    p.append(p_value)\n",
    "\n",
    "reject, p_corrected, a1, a2 = multipletests(p, \n",
    "                                            alpha = 0.05, \n",
    "                                            method = 'holm')\n",
    "df = pd.DataFrame({'p': p, 'p_corrected': p_corrected, 'reject': reject}, index = vc.index)\n",
    "df"
   ]
  },
  {
   "cell_type": "code",
   "execution_count": 32,
   "metadata": {},
   "outputs": [
    {
     "data": {
      "text/plain": [
       "5"
      ]
     },
     "execution_count": 32,
     "metadata": {},
     "output_type": "execute_result"
    }
   ],
   "source": [
    "df[df.reject == False].reject.count()"
   ]
  },
  {
   "cell_type": "code",
   "execution_count": 33,
   "metadata": {},
   "outputs": [
    {
     "name": "stderr",
     "output_type": "stream",
     "text": [
      "/Users/andrewbelyaev/opt/anaconda3/lib/python3.7/site-packages/ipykernel_launcher.py:1: UserWarning: Boolean Series key will be reindexed to match DataFrame index.\n",
      "  \"\"\"Entry point for launching an IPython kernel.\n",
      "/Users/andrewbelyaev/opt/anaconda3/lib/python3.7/site-packages/ipykernel_launcher.py:2: UserWarning: Boolean Series key will be reindexed to match DataFrame index.\n",
      "  \n",
      "/Users/andrewbelyaev/opt/anaconda3/lib/python3.7/site-packages/ipykernel_launcher.py:3: UserWarning: Boolean Series key will be reindexed to match DataFrame index.\n",
      "  This is separate from the ipykernel package so we can avoid doing imports until\n",
      "/Users/andrewbelyaev/opt/anaconda3/lib/python3.7/site-packages/ipykernel_launcher.py:4: UserWarning: Boolean Series key will be reindexed to match DataFrame index.\n",
      "  after removing the cwd from sys.path.\n",
      "/Users/andrewbelyaev/opt/anaconda3/lib/python3.7/site-packages/ipykernel_launcher.py:5: UserWarning: Boolean Series key will be reindexed to match DataFrame index.\n",
      "  \"\"\"\n",
      "/Users/andrewbelyaev/opt/anaconda3/lib/python3.7/site-packages/ipykernel_launcher.py:6: UserWarning: Boolean Series key will be reindexed to match DataFrame index.\n",
      "  \n",
      "/Users/andrewbelyaev/opt/anaconda3/lib/python3.7/site-packages/ipykernel_launcher.py:7: UserWarning: Boolean Series key will be reindexed to match DataFrame index.\n",
      "  import sys\n",
      "/Users/andrewbelyaev/opt/anaconda3/lib/python3.7/site-packages/ipykernel_launcher.py:8: UserWarning: Boolean Series key will be reindexed to match DataFrame index.\n",
      "  \n",
      "/Users/andrewbelyaev/opt/anaconda3/lib/python3.7/site-packages/ipykernel_launcher.py:9: UserWarning: Boolean Series key will be reindexed to match DataFrame index.\n",
      "  if __name__ == '__main__':\n",
      "/Users/andrewbelyaev/opt/anaconda3/lib/python3.7/site-packages/ipykernel_launcher.py:10: UserWarning: Boolean Series key will be reindexed to match DataFrame index.\n",
      "  # Remove the CWD from sys.path while we load stuff.\n",
      "/Users/andrewbelyaev/opt/anaconda3/lib/python3.7/site-packages/ipykernel_launcher.py:11: UserWarning: Boolean Series key will be reindexed to match DataFrame index.\n",
      "  # This is added back by InteractiveShellApp.init_path()\n",
      "/Users/andrewbelyaev/opt/anaconda3/lib/python3.7/site-packages/ipykernel_launcher.py:12: UserWarning: Boolean Series key will be reindexed to match DataFrame index.\n",
      "  if sys.path[0] == '':\n"
     ]
    }
   ],
   "source": [
    "control_4 = data[data.slot == 'control'][data.browser == 'Browser #4'][['n_queries', 'n_nonclk_queries']]\n",
    "exp_4 = data[data.slot == 'exp'][data.browser == 'Browser #4'][['n_queries', 'n_nonclk_queries']]\n",
    "control_22 = data[data.slot == 'control'][data.browser == 'Browser #22'][['n_queries', 'n_nonclk_queries']]\n",
    "exp_22 = data[data.slot == 'exp'][data.browser == 'Browser #22'][['n_queries', 'n_nonclk_queries']]\n",
    "control_2 = data[data.slot == 'control'][data.browser == 'Browser #4'][['n_queries', 'n_nonclk_queries']]\n",
    "exp_2 = data[data.slot == 'exp'][data.browser == 'Browser #4'][['n_queries', 'n_nonclk_queries']]\n",
    "control_14 = data[data.slot == 'control'][data.browser == 'Browser #14'][['n_queries', 'n_nonclk_queries']]\n",
    "exp_14 = data[data.slot == 'exp'][data.browser == 'Browser #14'][['n_queries', 'n_nonclk_queries']]\n",
    "control_20 = data[data.slot == 'control'][data.browser == 'Browser #20'][['n_queries', 'n_nonclk_queries']]\n",
    "exp_20 = data[data.slot == 'exp'][data.browser == 'Browser #20'][['n_queries', 'n_nonclk_queries']]\n",
    "control_17 = data[data.slot == 'control'][data.browser == 'Browser #17'][['n_queries', 'n_nonclk_queries']]\n",
    "exp_17 = data[data.slot == 'exp'][data.browser == 'Browser #17'][['n_queries', 'n_nonclk_queries']]"
   ]
  },
  {
   "cell_type": "code",
   "execution_count": 36,
   "metadata": {},
   "outputs": [
    {
     "data": {
      "text/html": [
       "<div>\n",
       "<style scoped>\n",
       "    .dataframe tbody tr th:only-of-type {\n",
       "        vertical-align: middle;\n",
       "    }\n",
       "\n",
       "    .dataframe tbody tr th {\n",
       "        vertical-align: top;\n",
       "    }\n",
       "\n",
       "    .dataframe thead th {\n",
       "        text-align: right;\n",
       "    }\n",
       "</style>\n",
       "<table border=\"1\" class=\"dataframe\">\n",
       "  <thead>\n",
       "    <tr style=\"text-align: right;\">\n",
       "      <th></th>\n",
       "      <th>n_queries</th>\n",
       "      <th>n_nonclk_queries</th>\n",
       "    </tr>\n",
       "  </thead>\n",
       "  <tbody>\n",
       "    <tr>\n",
       "      <th>3</th>\n",
       "      <td>6</td>\n",
       "      <td>0</td>\n",
       "    </tr>\n",
       "    <tr>\n",
       "      <th>5</th>\n",
       "      <td>4</td>\n",
       "      <td>1</td>\n",
       "    </tr>\n",
       "    <tr>\n",
       "      <th>7</th>\n",
       "      <td>15</td>\n",
       "      <td>2</td>\n",
       "    </tr>\n",
       "    <tr>\n",
       "      <th>13</th>\n",
       "      <td>1</td>\n",
       "      <td>0</td>\n",
       "    </tr>\n",
       "    <tr>\n",
       "      <th>15</th>\n",
       "      <td>59</td>\n",
       "      <td>34</td>\n",
       "    </tr>\n",
       "    <tr>\n",
       "      <th>...</th>\n",
       "      <td>...</td>\n",
       "      <td>...</td>\n",
       "    </tr>\n",
       "    <tr>\n",
       "      <th>566110</th>\n",
       "      <td>2</td>\n",
       "      <td>1</td>\n",
       "    </tr>\n",
       "    <tr>\n",
       "      <th>566111</th>\n",
       "      <td>4</td>\n",
       "      <td>2</td>\n",
       "    </tr>\n",
       "    <tr>\n",
       "      <th>566112</th>\n",
       "      <td>6</td>\n",
       "      <td>5</td>\n",
       "    </tr>\n",
       "    <tr>\n",
       "      <th>566131</th>\n",
       "      <td>1</td>\n",
       "      <td>1</td>\n",
       "    </tr>\n",
       "    <tr>\n",
       "      <th>566132</th>\n",
       "      <td>3</td>\n",
       "      <td>1</td>\n",
       "    </tr>\n",
       "  </tbody>\n",
       "</table>\n",
       "<p>78681 rows × 2 columns</p>\n",
       "</div>"
      ],
      "text/plain": [
       "        n_queries  n_nonclk_queries\n",
       "3               6                 0\n",
       "5               4                 1\n",
       "7              15                 2\n",
       "13              1                 0\n",
       "15             59                34\n",
       "...           ...               ...\n",
       "566110          2                 1\n",
       "566111          4                 2\n",
       "566112          6                 5\n",
       "566131          1                 1\n",
       "566132          3                 1\n",
       "\n",
       "[78681 rows x 2 columns]"
      ]
     },
     "execution_count": 36,
     "metadata": {},
     "output_type": "execute_result"
    }
   ],
   "source": [
    "control_4"
   ]
  },
  {
   "cell_type": "code",
   "execution_count": 39,
   "metadata": {},
   "outputs": [],
   "source": [
    "temp = [0, 0]\n",
    "nonclick_quaries_percent = []\n",
    "for item in [(control_4, exp_4), (control_22, exp_22), (control_2, exp_2), (control_14, exp_14),\n",
    "             (control_20, exp_20), (control_17, exp_17)]:\n",
    "    temp[0] = item[0].n_nonclk_queries.sum()/item[0].n_queries.sum() * 100\n",
    "    temp[1] = item[1].n_nonclk_queries.sum()/item[1].n_queries.sum() * 100\n",
    "    nonclick_quaries_percent.append([temp[0], temp[1]])"
   ]
  },
  {
   "cell_type": "code",
   "execution_count": 40,
   "metadata": {},
   "outputs": [
    {
     "data": {
      "text/plain": [
       "[[46.97092963514274, 45.14294190358467],\n",
       " [40.593976593513354, 39.85394721969546],\n",
       " [46.97092963514274, 45.14294190358467],\n",
       " [57.59041136008114, 43.755617361273295],\n",
       " [40.540484743383296, 38.97737648371716],\n",
       " [36.29936674628208, 36.93741284866483]]"
      ]
     },
     "execution_count": 40,
     "metadata": {},
     "output_type": "execute_result"
    }
   ],
   "source": [
    "nonclick_quaries_percent"
   ]
  }
 ],
 "metadata": {
  "kernelspec": {
   "display_name": "Python 3",
   "language": "python",
   "name": "python3"
  },
  "language_info": {
   "codemirror_mode": {
    "name": "ipython",
    "version": 3
   },
   "file_extension": ".py",
   "mimetype": "text/x-python",
   "name": "python",
   "nbconvert_exporter": "python",
   "pygments_lexer": "ipython3",
   "version": "3.7.4"
  }
 },
 "nbformat": 4,
 "nbformat_minor": 4
}
