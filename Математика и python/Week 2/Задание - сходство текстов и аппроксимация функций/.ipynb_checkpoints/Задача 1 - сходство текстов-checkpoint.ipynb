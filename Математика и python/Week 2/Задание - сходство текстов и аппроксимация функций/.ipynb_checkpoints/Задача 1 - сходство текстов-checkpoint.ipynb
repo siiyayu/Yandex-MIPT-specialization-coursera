{
 "cells": [
  {
   "cell_type": "code",
   "execution_count": 44,
   "metadata": {},
   "outputs": [],
   "source": [
    "import numpy as np\n",
    "import pandas as pd\n",
    "import re\n",
    "from itertools import chain\n",
    "from scipy.spatial.distance import cosine"
   ]
  },
  {
   "cell_type": "code",
   "execution_count": 45,
   "metadata": {},
   "outputs": [
    {
     "data": {
      "text/plain": [
       "['in comparison to dogs, cats have not undergone major changes during the domestication process.',\n",
       " 'as cat simply catenates streams of bytes, it can be also used to concatenate binary files, where it will just concatenate sequence of bytes.']"
      ]
     },
     "execution_count": 45,
     "metadata": {},
     "output_type": "execute_result"
    }
   ],
   "source": [
    "with open('sentences.txt', 'r') as file_obj:\n",
    "    sentences = [line.strip().lower() for line in file_obj]\n",
    "sentences[:2]"
   ]
  },
  {
   "cell_type": "code",
   "execution_count": 46,
   "metadata": {},
   "outputs": [
    {
     "data": {
      "text/plain": [
       "[['in',\n",
       "  'comparison',\n",
       "  'to',\n",
       "  'dogs',\n",
       "  'cats',\n",
       "  'have',\n",
       "  'not',\n",
       "  'undergone',\n",
       "  'major',\n",
       "  'changes',\n",
       "  'during',\n",
       "  'the',\n",
       "  'domestication',\n",
       "  'process'],\n",
       " ['as',\n",
       "  'cat',\n",
       "  'simply',\n",
       "  'catenates',\n",
       "  'streams',\n",
       "  'of',\n",
       "  'bytes',\n",
       "  'it',\n",
       "  'can',\n",
       "  'be',\n",
       "  'also',\n",
       "  'used',\n",
       "  'to',\n",
       "  'concatenate',\n",
       "  'binary',\n",
       "  'files',\n",
       "  'where',\n",
       "  'it',\n",
       "  'will',\n",
       "  'just',\n",
       "  'concatenate',\n",
       "  'sequence',\n",
       "  'of',\n",
       "  'bytes']]"
      ]
     },
     "execution_count": 46,
     "metadata": {},
     "output_type": "execute_result"
    }
   ],
   "source": [
    "regexp = re.compile('[^a-z]')\n",
    "sentence = [[word for word in re.split(regexp, line) if word] for line in sentences]\n",
    "sentence[:2]"
   ]
  },
  {
   "cell_type": "markdown",
   "metadata": {},
   "source": [
    "itertools.chain(*iterables) - возвращает по одному элементу из первого итератора, потом из второго, до тех пор, пока итераторы не кончатся.\n",
    "Встроенная в Python функция enumerate() применяется для итерируемых коллекций (строки, списки, словари и др.) и создает объект, который генерирует кортежи, состоящие из двух элементов - индекса элемента и самого элемента."
   ]
  },
  {
   "cell_type": "code",
   "execution_count": 47,
   "metadata": {},
   "outputs": [],
   "source": [
    "words = {word: index for index, word in enumerate(set(chain(*sentence)))}\n",
    "#words"
   ]
  },
  {
   "cell_type": "code",
   "execution_count": 48,
   "metadata": {},
   "outputs": [
    {
     "data": {
      "text/plain": [
       "(22, 254)"
      ]
     },
     "execution_count": 48,
     "metadata": {},
     "output_type": "execute_result"
    }
   ],
   "source": [
    "matrix = np.zeros((len(sentences), len(words)))\n",
    "matrix.shape"
   ]
  },
  {
   "cell_type": "code",
   "execution_count": 49,
   "metadata": {},
   "outputs": [],
   "source": [
    "for i in range(len(sentences)):\n",
    "    for word in sentence[i]:\n",
    "        matrix[i][words[word]] += 1"
   ]
  },
  {
   "cell_type": "code",
   "execution_count": 52,
   "metadata": {},
   "outputs": [
    {
     "name": "stdout",
     "output_type": "stream",
     "text": [
      "6 4\n"
     ]
    }
   ],
   "source": [
    "distances = [(index, cosine(matrix[0], matrix[index])) for index in range(len(sentences))]\n",
    "sorted_distance = sorted(distances, key=lambda x: x[1]) #упорядочим элементы словаря по значениям\n",
    "print(sorted_distance[1][0], sorted_distance[2][0])"
   ]
  },
  {
   "cell_type": "code",
   "execution_count": null,
   "metadata": {},
   "outputs": [],
   "source": []
  }
 ],
 "metadata": {
  "kernelspec": {
   "display_name": "Python 3",
   "language": "python",
   "name": "python3"
  },
  "language_info": {
   "codemirror_mode": {
    "name": "ipython",
    "version": 3
   },
   "file_extension": ".py",
   "mimetype": "text/x-python",
   "name": "python",
   "nbconvert_exporter": "python",
   "pygments_lexer": "ipython3",
   "version": "3.7.4"
  }
 },
 "nbformat": 4,
 "nbformat_minor": 4
}
